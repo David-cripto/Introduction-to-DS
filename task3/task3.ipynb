{
 "cells": [
  {
   "cell_type": "markdown",
   "metadata": {},
   "source": [
    "# <a href=\"https://mipt-stats.gitlab.io/courses/ad_fivt.html\">Введение в анализ данных</a>\n",
    "## Домашнее задание 3. Оценки параметров и сбор данных.\n"
   ]
  },
  {
   "cell_type": "markdown",
   "metadata": {},
   "source": [
    "**Правила, <font color=\"red\">прочитайте внимательно</font>:**\n",
    "\n",
    "* Выполненную работу нужно отправить телеграм-боту `@miptstats_ad21_bot`. Для начала работы с ботом каждый раз отправляйте `/start`. Работы, присланные иным способом, не принимаются.\n",
    "* Дедлайн см. в боте. После дедлайна работы не принимаются кроме случаев наличия уважительной причины.\n",
    "* Прислать нужно ноутбук в формате ipynb и **в формате html**, который можно получить как `File -> Download as -> HTML`.\n",
    "* Теоретические задачи необходимо прислать одним из следующих способов:\n",
    "  * фотографией в правильной ориентации, где все четко видно, а почерк разборчив;\n",
    "  * фотографией, **встроенной в ноутбук** посредством `Edit -> Insert Image`;\n",
    "  * в виде $LaTeX$ в markdown-ячейках.\n",
    "* Теоретические задачи не проверяются, если какое-то требование не выполнено. Особенно внимательно все проверьте в случае выбора второго пункта. Неправильно вставленные фотографии могут не передаться при отправке.\n",
    "* Будьте внимательны при работе со сбором данных. Ответственность за корректность ваших действий лежит на вас. Не нагружайте сервера, *делайте паузы между запросами*. Как следствие, начинайте выполнять задание заранее. **Если вас где-то забаннили и т.п., то это не является уважительной причиной продления дедлайна.**\n",
    "* Выполнять задание необходимо полностью самостоятельно. **При обнаружении списывания все участники списывания будут сдавать устный зачет.**\n",
    "* Решения, размещенные на каких-либо интернет-ресурсах, не принимаются. Кроме того, публикация решения в открытом доступе может быть приравнена к предоставлении возможности списать.\n",
    "* Для выполнения задания используйте этот ноутбук в качестве основы, ничего не удаляя из него. Можно добавлять необходимое количество ячеек.\n",
    "* Комментарии к решению пишите в markdown-ячейках.\n",
    "* Выполнение задания (ход решения, выводы и пр.) должно быть осуществлено на русском языке.\n",
    "* Если код будет не понятен проверяющему, оценка может быть снижена.\n",
    "* Никакой код из данного задания при проверке запускаться не будет. *Если код студента не выполнен, недописан и т.д., то он не оценивается.*\n",
    "\n",
    "\n",
    "**Баллы за задание:**\n",
    "\n",
    "<b><font color=\"blue\">Легкая часть</font></b> (достаточно на \"хор\"):\n",
    "* Задача 1 &mdash; 3 балла\n",
    "* Задача 2 &mdash; 5 баллов\n",
    "* Задача 3 &mdash; 12 баллов\n",
    "\n",
    "<b><font color=\"orange\">Сложная часть</font></b> (необходимо на \"отл\"):\n",
    "* Задача 4 &mdash; 6 баллов\n",
    "* Задача 5 &mdash; 10 баллов"
   ]
  },
  {
   "cell_type": "code",
   "execution_count": 1,
   "metadata": {
    "colab": {},
    "colab_type": "code",
    "id": "ht9Xm0EucoAr"
   },
   "outputs": [],
   "source": [
    "import numpy as np\n",
    "import pandas as pd\n",
    "import matplotlib.pyplot as plt\n",
    "import seaborn as sns\n",
    "import scipy.stats as sps\n",
    "\n",
    "sns.set(style='whitegrid', font_scale=1.3, palette='Set2')\n",
    "%matplotlib inline\n",
    "\n",
    "import requests\n",
    "from time import sleep\n",
    "import json"
   ]
  },
  {
   "cell_type": "markdown",
   "metadata": {},
   "source": [
    "### <font color=\"blue\"><i>Легкая часть</i></font>"
   ]
  },
  {
   "cell_type": "markdown",
   "metadata": {
    "id": "hYgTespbkXej"
   },
   "source": [
    "### Задача 1.   \n",
    "\n",
    "**a).** Пусть $X_1,...,X_n$ выборка из некоторого распределения $\\mathsf{P}$, причем ${\\sf D} X_1=\\sigma^2<+\\infty$, и $\\sigma$ неизвестно. \n",
    "Рассмотрим оценку $S^2 = \\overline{X^2}-\\overline{X}^2$ дисперсии $\\sigma^2$.\n",
    "\n",
    "Докажите, что $S^2=\\frac1n\\sum\\limits_{i=1}^n\\left(X_i-\\overline{X}\\right)^2$.\n",
    "\n",
    "**b).** Оценка $\\widehat{\\theta}$ называется несмещенной оценкой параметра $\\theta$ если для любого $\\theta \\in \\Theta$ выполнено $\\mathsf{E}_\\theta \\widehat{\\theta} = \\theta$. Иначе говоря, какое бы ни оказалось истинное значение параметра $\\theta$ рассматривая оценку $\\widehat{\\theta}$ в среднем будем получать именно $\\theta$.\n",
    "\n",
    "Является ли статистика $S^2$ несмещенной оценкой $\\sigma^2$?\n",
    "\n",
    "*Подсказка.* Посчитайте математическое ожидание случайной величины $S^2$. Используйте для этого известные вам свойства математического ожидания."
   ]
  },
  {
   "cell_type": "markdown",
   "metadata": {},
   "source": [
    "**a).** $S^2 = \\overline{X^2} - \\overline{X}^2 = \\overline{X^2} - 2\\overline{X}^2 + \\overline{X}^2 = \\frac{1}{n}\\sum\\limits_{i = 1}^{n}X_{i}^2 - \\frac{2}{n}\\overline{X}\\sum\\limits_{i = 1}^{n}X_{i} + \\frac{1}{n}\\sum\\limits_{i=1}^n \\overline{X}^2 = \\frac{1}{n}\\sum\\limits_{i = 1}^{n}\\left(X_{i}^2 - 2\\overline{X}X_{i} + \\overline{X}^2\\right) = \\frac{1}{n}\\sum\\limits_{i = 1}^{n}\\left(X_{i} - \\overline{X}\\right)^2$\n",
    "\n",
    "**b).** \n",
    "\n",
    "$E_{\\sigma}S^2 = E_{\\sigma}\\left(\\frac1n\\sum\\limits_{i=1}^n\\left(X_i-\\overline{X}\\right)^2\\right) = E_{\\sigma}\\left(\\frac1n\\sum\\limits_{i=1}^n\\left((X_i - E_{\\sigma}X_1) -(\\overline{X}- E_{\\sigma}X_1)\\right)^2\\right) = E_{\\sigma}\\left(\\frac1n\\sum\\limits_{i=1}^n(X_i - E_{\\sigma}X_1)^2 - \\frac{2(\\overline{X}- E_{\\sigma}X_1)}{n}\\sum\\limits_{i=1}^n(X_i - E_{\\sigma}X_1) + \\frac1n(\\overline{X}- E_{\\sigma}X_1)^2\\sum\\limits_{i=1}^n1 \\right) = E_{\\sigma}\\left(\\frac1n\\sum\\limits_{i=1}^n(X_i - E_{\\sigma}X_1)^2 - (\\overline{X}- E_{\\sigma}X_1)^2 \\right) = E_{\\sigma}\\left(\\frac1n\\sum\\limits_{i=1}^n(X_i - E_{\\sigma}X_1)^2\\right) - \\frac1n \\sigma^2 = \\frac1n\\sum\\limits_{i=1}^n(E_{\\sigma}X_{i}^2 - (E_{\\sigma}X_1)^2)- \\frac1n \\sigma^2 = \\sigma^2 - \\frac1n \\sigma^2 = \\frac{n-1}{n}\\sigma^2$\n",
    "\n",
    "Получили, что:$$E_{\\sigma}S^2 \\neq \\sigma^2$$\n",
    "Следовательно оценка смещенная.\n",
    "\n",
    "**P.S.** В пункте **b)** мы использовали следующее понятное равенство:$$EX_1 = EX_2 = \\dots = EX_n = E\\overline{X}$$"
   ]
  },
  {
   "cell_type": "markdown",
   "metadata": {
    "id": "ZH_7vCIE4Md7"
   },
   "source": [
    " ---\n",
    "### Задача 2.   \n",
    "Пусть $X_1, ..., X_n$ &mdash; выборка из распределения $\\mathcal{N}(0, \\sigma^2)$. В качестве оценок $\\sigma^2$ обычно используют $S^2$ или $\\frac{n}{n-1}S^2$. Что можно сказать про их несмещенность?"
   ]
  },
  {
   "cell_type": "markdown",
   "metadata": {
    "id": "jHlO95TVJGqx"
   },
   "source": [
    "**Ответ:** \n",
    "\n",
    "Как мы видим из задачи 1 в случае $S^2,$ мы получим смещенную оценку. Для $\\frac{n}{n-1}S^2$ опять же из доказательства пункта **b)** в задаче 1 и линейности математического ожидания, получим, что оценка является несмещенной."
   ]
  },
  {
   "cell_type": "markdown",
   "metadata": {
    "id": "JP3jb2n64hgO"
   },
   "source": [
    "**1.** Теперь проверьте это на практике. Для каждой из приведенных выше оценок $\\widehat{\\theta}$ выполните следующие действия.\n",
    "\n",
    "* Вычислите $k = 500$ независимых оценок $\\widehat{\\theta}_1, ... , \\widehat{\\theta}_k$ по независимым выборкам $(X_1^1, ... , X_n^1), ... , (X_1^k, ... , X_n^k)$, сгенерированным из распределения $\\mathcal{N}(0, \\sigma^2)$. Далее вычислите среднее этих оценок, которое обозначим $\\overline{\\theta}$.\n",
    "\n",
    "* Визуализируйте полученные значения, построив на **одном** графике точки $(\\widehat{\\theta}_1, $y$), ... , (\\widehat{\\theta}_k, y)$ и среднее оценок $(\\overline{\\theta}, y)$, где $y$ &mdash; произвольные различные (например 0, 1, 2) координаты для двух различных типов оценок.\n",
    "\n",
    "* Повторите действие три раза для $n \\in \\{10, 100, 500\\}$. В итоге получится три графика для различных $n$, на каждом из которых изображено поведение двух типов оценок и их среднее.\n",
    "\n",
    "Используйте приведенный ниже **шаблон** для визуализации значений.\n",
    "\n",
    "**Внимание!** Следите за информативностью и наглядностью графиков. Например, пустых пространств должно быть как можно меньше, ничего не должно быть скомкано, вся нужная информация должна быть представлена. Посмотрите также презентацию с разбора задания 1. **Если график чему-то не удовлетворяет, оценка может быть снижена.**\n",
    "\n",
    "Вместо использования `matplotlib` можно также строить графики с помощью `plotly`."
   ]
  },
  {
   "cell_type": "markdown",
   "metadata": {},
   "source": [
    "Изначально я думал написать весь код в одной ячейке и запихнуть все в отрисовку графика, но получился очень смешанный, непонятный и копипастный код для каждого $n,$ поэтому я решил запихать все в функции распарсив логически действия на функции. По мне так получился более понятный и гибкий код. Также $y = 0$ я использовал для оценки $S^2,$ а $y = 1$ для $\\frac{n}{n-1}S^2$"
   ]
  },
  {
   "cell_type": "code",
   "execution_count": 2,
   "metadata": {
    "id": "EkmPUrPwpoEZ"
   },
   "outputs": [],
   "source": [
    "def draw(estim_S2, estim_n_S2, \n",
    "         n, k = 500, \n",
    "         color_S2 = 'red', color_n_S2 = 'blue',\n",
    "         label_S2 = '', label_n_S2 = '',\n",
    "         y_min = -0.25, y_max = 1.25, \n",
    "         width = 15, length = 3,\n",
    "         scale = 1):\n",
    "    \"\"\" Функция предназначена для отрисовки графиков для двух оценок\n",
    "    \n",
    "    estim_S2: Оценка S^2 для выборок\n",
    "    estim_n_S2: Оценка \\frac{n}{n-1}S^2 для выборок\n",
    "    n: размер выборок\n",
    "    k: количество выборок\n",
    "    color_S2: цвет точек для S^2\n",
    "    color_n_S2: цвет точек для \\frac{n}{n-1}S^2\n",
    "    label_S2: подпись для точек S^2\n",
    "    label_n_S2: подпись для точек \\frac{n}{n-1}S^2\n",
    "    y_min: минимальное значение вертикальной линии соответствующей квадрату среднего отклонения\n",
    "    y_max: максимальное значение вертикальной линии соответствующей квадрату среднего отклонения\n",
    "    width: ширина графика\n",
    "    length: длина графика\n",
    "    scale: средне квадратичное отклонение\n",
    "    \"\"\"\n",
    "    # Вначале:\n",
    "    plt.figure(figsize=(width, length))\n",
    "\n",
    "    # Для каждой оценки:\n",
    "    plt.scatter(estim_S2, np.zeros(k), \n",
    "                alpha=0.1, s=100, color=color_S2, label=label_S2)\n",
    "    plt.scatter(estim_S2.mean(), 0, marker='*', s=200, \n",
    "                color='w', edgecolors='black')\n",
    "    \n",
    "    plt.scatter(estim_n_S2, np.zeros(k) + 1, \n",
    "                alpha=0.1, s=100, color=color_n_S2, label=label_n_S2)\n",
    "    plt.scatter(estim_n_S2.mean(), 1, marker='*', s=200, \n",
    "                color='w', edgecolors='black')\n",
    "\n",
    "    # Для всего графика:\n",
    "    plt.vlines(scale**2, y_min, y_max, color='r')\n",
    "    plt.title(f'Размер выборки = {n}')\n",
    "    plt.yticks([])\n",
    "    plt.legend()"
   ]
  },
  {
   "cell_type": "markdown",
   "metadata": {
    "id": "FdCCsVL43jva"
   },
   "source": [
    "**Решение:**"
   ]
  },
  {
   "cell_type": "code",
   "execution_count": 3,
   "metadata": {},
   "outputs": [],
   "source": [
    "def sum(elements):\n",
    "    \"\"\"Функция считает:\n",
    "    \\sum\\limits_{i=1}^n\\left(X_i-\\overline{X}\\right)^2\n",
    "    \n",
    "    numpy.array -> int\"\"\"\n",
    "    return np.sum((elements - elements.mean())**2)\n",
    "\n",
    "def S2(elements):\n",
    "    \"\"\"Функция считает:\n",
    "    S^2 по данной выборке\n",
    "    \n",
    "    numpy.array -> int\"\"\"\n",
    "    return sum(elements)/len(elements)\n",
    "    \n",
    "def n_S2(elements):\n",
    "    \"\"\"Функция считает:\n",
    "    \\frac{n}{n-1}S^2 по данной выборке\n",
    "    \n",
    "    numpy.array -> int\"\"\"\n",
    "    return sum(elements)/(len(elements) - 1)"
   ]
  },
  {
   "cell_type": "code",
   "execution_count": 4,
   "metadata": {},
   "outputs": [],
   "source": [
    "def estimate(arr):\n",
    "    \"\"\"Функция принимает:    \n",
    "    arr: матрица выборок\n",
    "    \n",
    "    Возвращает:\n",
    "    estim_S2: Оценка S^2 для выборок\n",
    "    estim_n_S2: Оценка \\frac{n}{n-1}S^2 для выборок\"\"\"\n",
    "    \n",
    "    estim_S2 = np.apply_along_axis(S2, 1, arr)\n",
    "    estim_n_S2 = np.apply_along_axis(n_S2, 1, arr)\n",
    "    return estim_S2, estim_n_S2"
   ]
  },
  {
   "cell_type": "code",
   "execution_count": 6,
   "metadata": {
    "id": "8qcnAu0a3jva"
   },
   "outputs": [
    {
     "data": {
      "image/png": "[encoded data removed]",
      "text/plain": [
       "<Figure size 1080x216 with 1 Axes>"
      ]
     },
     "metadata": {
      "needs_background": "light"
     },
     "output_type": "display_data"
    },
    {
     "data": {
      "image/png": "[encoded data removed]",
      "text/plain": [
       "<Figure size 1080x216 with 1 Axes>"
      ]
     },
     "metadata": {
      "needs_background": "light"
     },
     "output_type": "display_data"
    },
    {
     "data": {
      "image/png": "[encoded data removed]",
      "text/plain": [
       "<Figure size 1080x216 with 1 Axes>"
      ]
     },
     "metadata": {
      "needs_background": "light"
     },
     "output_type": "display_data"
    }
   ],
   "source": [
    "n = (10, 100, 500) \n",
    "k = 500\n",
    "loc = 0\n",
    "scale = 50\n",
    "\n",
    "for i in n:\n",
    "    arr = sps.norm.rvs(size = (k, i), loc = loc, scale = scale)\n",
    "    draw(*estimate(arr), \n",
    "         i, \n",
    "         label_S2 = '$S^2$', \n",
    "         label_n_S2 = r'$\\frac{n}{n-1} S^2$', \n",
    "         scale = scale)\n"
   ]
  },
  {
   "cell_type": "markdown",
   "metadata": {
    "id": "-ZfBwUhe3jvb"
   },
   "source": [
    "**2.** Изучим поведение среднего оценок из первого пункта при росте размера выборки. Постройте график зависимости $\\overline{\\theta}$ от $n$ для двух типов оценок. Для вычисления зависимости нужно один раз сгенерировать выборки из пункта 1 достаточно большого размера (не более 500) и посчитать оценки по подвыборкам, используя <a href=\"https://mipt-stats.gitlab.io/courses/python/05_numpy.html#2.1-Математические-операции\">функции</a> из `numpy`. Использовать циклы, а так же функции, разворачивающиеся в цикл (например, `np.vectorize`), запрещено. Какие из оценок являются асимптотически несмещёнными, т.е. $\\forall \\theta \\in \\Theta\\colon \\mathsf{E}_\\theta \\widehat{\\theta} \\to \\theta$ при $n\\to +\\infty$?"
   ]
  },
  {
   "cell_type": "markdown",
   "metadata": {
    "id": "jIBkuOKb3jvb"
   },
   "source": [
    "**Решение:**"
   ]
  },
  {
   "cell_type": "markdown",
   "metadata": {},
   "source": [
    "Смещенная оценка оказалось настолько смещенной, что я решил ограничить масштаб графика с помощью ylim, чтобы лучше увидеть поведение радом с горизонтальной линией $=scale^2,$ но даже без этого можно сделать основные выводы, которые приведены ниже."
   ]
  },
  {
   "cell_type": "code",
   "execution_count": 7,
   "metadata": {},
   "outputs": [],
   "source": [
    "def many_S2(arr):\n",
    "    \"\"\"Функция принимает:    \n",
    "    arr: матрица выборок\n",
    "    \n",
    "    Возвращает:\n",
    "    mean_squar - squar_mean: матрица S^2(n)\n",
    "    \"\"\"\n",
    "    \n",
    "    mean_squar = arr*arr\n",
    "    mean_squar = mean_squar.cumsum(axis = 1)/(np.arange(arr.shape[1])+1)\n",
    "\n",
    "    squar_mean = arr.cumsum(axis = 1)/(np.arange(arr.shape[1]) + 1)\n",
    "    squar_mean = squar_mean**2\n",
    "    \n",
    "    return mean_squar - squar_mean"
   ]
  },
  {
   "cell_type": "code",
   "execution_count": 8,
   "metadata": {
    "id": "ZP8sBmKL3jvb"
   },
   "outputs": [
    {
     "name": "stderr",
     "output_type": "stream",
     "text": [
      "c:\\users\\acer\\appdata\\local\\programs\\python\\python37\\lib\\site-packages\\ipykernel_launcher.py:8: RuntimeWarning: invalid value encountered in true_divide\n",
      "  \n"
     ]
    },
    {
     "data": {
      "image/png": "[encoded data removed]",
      "text/plain": [
       "<Figure size 1080x504 with 1 Axes>"
      ]
     },
     "metadata": {
      "needs_background": "light"
     },
     "output_type": "display_data"
    }
   ],
   "source": [
    "n = 500\n",
    "k = 500\n",
    "scale = 10\n",
    "loc = 0\n",
    "\n",
    "arr = sps.norm.rvs(size = (k, n), loc = loc, scale = scale)\n",
    "s2 = many_S2(arr)\n",
    "n_s2 = (np.arange(arr.shape[1]) + 1)*s2/np.arange(arr.shape[1])\n",
    "\n",
    "plt.figure(figsize=(15, 7))\n",
    "\n",
    "plt.plot(np.arange(n) + 1,\n",
    "         s2.mean(axis = 0), \n",
    "         color = 'black',\n",
    "         lw = 3,\n",
    "         label = '$\\overline{S^2}(n)$')\n",
    "\n",
    "plt.plot(np.arange(n) + 1,\n",
    "         n_s2.mean(axis = 0),\n",
    "         color = 'red',\n",
    "         lw = 3,\n",
    "         label = r'$\\overline{\\frac{n}{n-1}S^2}(n)$')\n",
    " \n",
    "     \n",
    "plt.legend()\n",
    "plt.grid(ls=':')\n",
    "plt.ylim(0.94*scale**2, 1.1*scale**2)\n",
    "plt.title(r'Зависимость $\\overline{\\theta}$ от $n$ для двух типов оценок')\n",
    "plt.hlines(scale**2, -0.25, n + 10,color = 'blue', lw = 3)\n",
    "plt.show()"
   ]
  },
  {
   "cell_type": "markdown",
   "metadata": {
    "id": "agviQcZi3jvd"
   },
   "source": [
    "Сделайте вывод о том, что такое свойство несмещенности. Подтверждают ли сделанные эксперименты полученное в теоретических задачах свойство несмещенности (или отсутствие этого свойства) данных оценок? Поясните, почему в лабораторных по физике при оценке погрешности иногда используют $n-1$ в знаменателе, а не $n$."
   ]
  },
  {
   "cell_type": "markdown",
   "metadata": {
    "id": "md1nb2PX3jvd"
   },
   "source": [
    "**Вывод:** "
   ]
  },
  {
   "cell_type": "markdown",
   "metadata": {},
   "source": [
    "Как я понимаю несмещенность --- это свойтсво которое оправдывает свое название. Эта оценка наименее отличается от теоретеческого значения, даже при малых значениях $n.$ Как мы видим из графика при $n \\rightarrow \\infty$ и смещенная оченка тоже стремится к теоретическому значению, но при малых $n$ все же следует выбирать несмещенную оценку. Это и оправдывает почему на физике мыберем несмещенную оценку, так как, там не так уж много данных."
   ]
  },
  {
   "cell_type": "markdown",
   "metadata": {},
   "source": [
    "*Замечание.* Проведенные эксперименты позволяют сделать вывод только о поведении среднего значения оценки, но ничего не говорят о том, насколько велик их разброс относительно среднего."
   ]
  },
  {
   "attachments": {
    "a47371.buy12r.1ets.rs.ii.jpg": {
     "image/jpeg": "[encoded data removed]"
    }
   },
   "cell_type": "markdown",
   "metadata": {},
   "source": [
    " ---\n",
    "### Задача 3.   \n",
    "\n",
    "В этой задаче вам нужно будет проанализировать вакансии на сайте <a target=\"_blank\" href=\"https://hh.ru/\">hh.ru</a>. Для сбора данных рекомендуется использовать <a target=\"_blank\" href=\"https://dev.hh.ru/\">официальное API</a>.\n",
    "\n",
    "![a47371.buy12r.1ets.rs.ii.jpg](attachment:a47371.buy12r.1ets.rs.ii.jpg)"
   ]
  },
  {
   "cell_type": "markdown",
   "metadata": {},
   "source": [
    "**1. Сбор данных**\n",
    "\n",
    "Соберите данные о вакансии Data Scientist по Москве в одну таблицу и подготовьте их для анализа. Часто в индустрии подготовленные для анализа таблицы называют *витринами*. В ней должны быть:\n",
    "- название вакансии,\n",
    "- работодатель,\n",
    "- зарплатная вилка,\n",
    "- станция метро,\n",
    "- ссылка на вакансию,\n",
    "- опыт,\n",
    "- требуемые навыки,\n",
    "- что-то еще по вашему желанию.\n",
    "\n",
    "Креативность приветствуется. При работе с данными о заработной плате обратите внимание на валюту и <a target=\"_blank\" href=\"https://yandex.ru/search/?text=gross%2Fnet&clid=1955455&win=446&lr=213&noreask=1\">gross/net</a>. \n",
    "\n",
    "**При работе с API не забывайте делать паузы между запросами, чтобы не задудосить сервер HeadHunter.**\n",
    "\n",
    "Пример запроса к API:"
   ]
  },
  {
   "cell_type": "code",
   "execution_count": 5,
   "metadata": {},
   "outputs": [],
   "source": [
    "URL = 'https://api.hh.ru/vacancies'\n",
    "\n",
    "params = {\n",
    "    'text': \"Повар\",\n",
    "    'area': 1,\n",
    "    'page': 0,\n",
    "    'per_page': 10\n",
    "}\n",
    "\n",
    "req = requests.get(URL, params)\n",
    "data = json.loads(req.content.decode())"
   ]
  },
  {
   "cell_type": "markdown",
   "metadata": {},
   "source": [
    "Посмотрев изначальные данные, я понял, что этой информации недостаточно, не было к примеру поля `experience`, поэтому пришлось сделать новые запросы для каждой вакансии, чтобы подробнее узнать о них, с помощью `.../vacancies/{vacance_id}`.  Также, мне показалось, что интересно будет добавить в витрину график работы и имеется ли проверочный тест для определенной вакансии. По поводу код стайла, то получилось довольно некрасиво, потому что пришлось все неприятные столбцы обрабатывать ручками, хотел написать функцию для обработки, но там возникли проблемы, которые не получилось решить и, в итоге, вышло даже хуже. Также я удалил дубликаты вакансий и отфиксировал всем зарплаты в рубли с помощью функции `salary`, так как там всего три типа валют, я проверил это с помощью `unique`, также учел налоги(в интернете написано 13%). Также с помощью `get_lat` и `get_lng`получил георграфические координаты, которые понадобятся дальше по коду."
   ]
  },
  {
   "cell_type": "code",
   "execution_count": 75,
   "metadata": {},
   "outputs": [],
   "source": [
    "URL = 'https://api.hh.ru/vacancies'\n",
    "num_of_pages = 5\n",
    "pages = np.arange(num_of_pages)\n",
    "area = 1 #Moscow\n",
    "per_page = 100\n",
    "vacance_id = pd.DataFrame()\n",
    "\n",
    "for page in pages:\n",
    "    params = {\n",
    "        'text': \"Data Scientist\",\n",
    "        'area': area,\n",
    "        'page': page,\n",
    "        'per_page': per_page\n",
    "    }\n",
    "\n",
    "    data = pd.DataFrame(json.loads(requests.get(URL, params).content.decode())['items'])\n",
    "    vacance_id = vacance_id.append(data, ignore_index=True)\n",
    "    \n",
    "vacance_id.drop_duplicates(subset=['id'])\n",
    "vacance_id = vacance_id['id']"
   ]
  },
  {
   "cell_type": "code",
   "execution_count": 76,
   "metadata": {},
   "outputs": [],
   "source": [
    "currency = {'RUR' : 1, 'USD': 74.87, 'EUR': 90.57}\n",
    "tax = 0.13\n",
    "\n",
    "def salary_to(value):\n",
    "    if value == None:\n",
    "        return None\n",
    "    \n",
    "    if value['to'] == None:\n",
    "        value['to'] = value['from']\n",
    "    \n",
    "    temp = value['to']\n",
    "    temp *= currency[value['currency']]\n",
    "    \n",
    "    if not value['gross']:\n",
    "        temp *= (tax + 1)\n",
    "        \n",
    "    return temp\n",
    "\n",
    "def salary_from(value):\n",
    "    if value == None or value['from'] == None:\n",
    "        return None\n",
    "    \n",
    "    if value['from'] == None:\n",
    "        value['from'] = value['to']\n",
    "    \n",
    "    temp = value['from']\n",
    "    temp *= currency[value['currency']]\n",
    "    \n",
    "    if not value['gross']:\n",
    "        temp *= (tax + 1)\n",
    "        \n",
    "    return temp"
   ]
  },
  {
   "cell_type": "code",
   "execution_count": 77,
   "metadata": {},
   "outputs": [],
   "source": [
    "def get_lat(value):\n",
    "    if value == None:\n",
    "        return None\n",
    "    \n",
    "    if value.get('metro') != None:\n",
    "        return value['metro']['lat']\n",
    "    return None\n",
    "\n",
    "def get_lng(value):\n",
    "    if value == None:\n",
    "        return None\n",
    "    \n",
    "    if value.get('metro') != None:\n",
    "        return value['metro']['lng']\n",
    "    return None"
   ]
  },
  {
   "cell_type": "code",
   "execution_count": 78,
   "metadata": {
    "scrolled": false
   },
   "outputs": [],
   "source": [
    "final_data = pd.DataFrame()\n",
    "attributes = ['name',\n",
    "              'employer', # name\n",
    "              'salary', # from, to \n",
    "              'address', # metro.station_name\n",
    "              'alternate_url',\n",
    "              'experience', # name\n",
    "              'key_skills', # arr[name]\n",
    "              'schedule', # name\n",
    "              'has_test',\n",
    "              'test']  # required\n",
    "currency = {'RUR' : 1, 'USD': 74.87, 'EUR': 90.57}\n",
    "\n",
    "for v_id in vacance_id:\n",
    "    URL = 'https://api.hh.ru/vacancies/{}'.format(v_id)\n",
    "    data = pd.DataFrame(pd.Series(json.loads(requests.get(URL, params = {}).content.decode()))).T\n",
    "    final_data = final_data.append(data, ignore_index=True)\n",
    "    \n",
    "final_data = final_data[attributes]\n",
    "\n",
    "final_data['employer'] = final_data['employer'].apply(lambda x: None if x is None else x['name'])\n",
    "\n",
    "final_data['salary_from'] = final_data['salary'].apply(salary_from)\n",
    "final_data['salary_to'] = final_data['salary'].apply(salary_to)\n",
    "final_data.drop('salary', axis = 1, inplace = True)\n",
    "\n",
    "final_data['lat'] = final_data['address'].apply(get_lat)\n",
    "final_data['lng'] = final_data['address'].apply(get_lng)\n",
    "final_data['address'] = final_data['address'].apply(lambda x: None if x is None else x['metro'])\n",
    "final_data['address'] = final_data['address'].apply(lambda x: None if x is None else x['station_name'])\n",
    "final_data.rename(columns = {'address' : 'metro_station'}, inplace = True)\n",
    "\n",
    "final_data['experience'] = final_data['experience'].apply(lambda x: None if x is None else x['name'])\n",
    "\n",
    "final_data['schedule'] = final_data['schedule'].apply(lambda x: None if x is None else x['name'])\n",
    "\n",
    "final_data['key_skills'] = final_data['key_skills'].apply(lambda x: list(i['name'] for i in x))\n",
    "\n",
    "final_data['test'] = final_data['test'].apply(lambda x: None if x is None else x['required'])"
   ]
  },
  {
   "cell_type": "markdown",
   "metadata": {},
   "source": [
    "**2. Анализ и визуализация данных**"
   ]
  },
  {
   "cell_type": "markdown",
   "metadata": {},
   "source": [
    "Проведите исследование получившихся данных. Прежде всего убедитесь, что ваши данные чистые. Убедитесь, что вы проделали следующее:\n",
    "- удаление дубликатов,\n",
    "- предобработка пропусков,\n",
    "- предобработка текстовых данных.\n",
    "\n",
    "Среди вакансий можно выделять группы. *Например*, бизнес-аналитик, BI аналитик, продуктовый аналитик.\n",
    "\n",
    "Ответьте не следующие вопросы:  \n",
    "- Сколько сейчас доступно вакансий по вашему запросу?\n",
    "- Выделяются ли среди вакансий какие-то группы? \n",
    "- Какие группы вакансий самые популярные?\n",
    "- Какова средняя и медианная заработная плата?\n",
    "- Какие ключевые навыки требуются для данной вакансии?\n",
    "- Какой опыт требуется для данной вакансии?\n",
    "- Какие работодатели в топе? \n",
    "- В каком районе Москвы данная вакансия пользуется наибольшим и наименьшим спросом?\n",
    "\n",
    "Не забудьте про визуализацию &mdash; для этого используйте библиотеку plotly. Постройте следующие графики:\n",
    "- гистограмма распределения заработной платы;\n",
    "- heatmap, отображающий зависимость количества вакансий от группы и навыка;\n",
    "- зависимость средней заработной платы от требуемых навыков;\n",
    "- распределение средней заработной платы по карте Москвы;\n",
    "- распределение спроса на вакансию по карте Москвы.\n",
    "\n",
    "Для построения последних двух графиков вам могут понадобиться <a target=\"_blank\" href=\"http://www.lovrikinfo.ru/metrogps.php\">внешние данные</a>.\n"
   ]
  },
  {
   "cell_type": "code",
   "execution_count": 79,
   "metadata": {},
   "outputs": [
    {
     "data": {
      "text/plain": [
       "328"
      ]
     },
     "execution_count": 79,
     "metadata": {},
     "output_type": "execute_result"
    }
   ],
   "source": [
    "# Сколько сейчас доступно вакансий по вашему запросу?\n",
    "len(final_data)"
   ]
  },
  {
   "cell_type": "markdown",
   "metadata": {},
   "source": [
    "Из всех групп, что я нашел, выделил в dict `groups`. Я разделяю группы по нахождению ключевого слова в `name`, кажется, что это очень грубая оценка, но лчше придумать не смог."
   ]
  },
  {
   "cell_type": "code",
   "execution_count": 80,
   "metadata": {},
   "outputs": [],
   "source": [
    "# Выделяются ли среди вакансий какие-то группы?\n",
    "groups = {('engineer', 'инженер'):'Инженер', \n",
    "          ('market', 'маркет'):'Маркетолог аналитик', \n",
    "          ('product',) :'Продуктовый аналитик', \n",
    "          ('developer', 'разработчик'):'Разработчик'}\n",
    "\n",
    "def parse_groups(value):\n",
    "    if value == None:\n",
    "        return None\n",
    "\n",
    "    temp = value\n",
    "    temp = temp.lower()\n",
    "\n",
    "    for i, j in groups.items():\n",
    "        for k in i:\n",
    "            if temp.count(k) > 0:\n",
    "                return j\n",
    "    return None\n",
    "\n",
    "final_data['groups'] = final_data['name'].apply(parse_groups)"
   ]
  },
  {
   "cell_type": "code",
   "execution_count": 81,
   "metadata": {},
   "outputs": [
    {
     "data": {
      "text/html": [
       "<div>\n",
       "<style scoped>\n",
       "    .dataframe tbody tr th:only-of-type {\n",
       "        vertical-align: middle;\n",
       "    }\n",
       "\n",
       "    .dataframe tbody tr th {\n",
       "        vertical-align: top;\n",
       "    }\n",
       "\n",
       "    .dataframe thead th {\n",
       "        text-align: right;\n",
       "    }\n",
       "</style>\n",
       "<table border=\"1\" class=\"dataframe\">\n",
       "  <thead>\n",
       "    <tr style=\"text-align: right;\">\n",
       "      <th></th>\n",
       "      <th>counts</th>\n",
       "    </tr>\n",
       "    <tr>\n",
       "      <th>groups</th>\n",
       "      <th></th>\n",
       "    </tr>\n",
       "  </thead>\n",
       "  <tbody>\n",
       "    <tr>\n",
       "      <th>Инженер</th>\n",
       "      <td>49</td>\n",
       "    </tr>\n",
       "    <tr>\n",
       "      <th>Разработчик</th>\n",
       "      <td>20</td>\n",
       "    </tr>\n",
       "    <tr>\n",
       "      <th>Маркетолог аналитик</th>\n",
       "      <td>9</td>\n",
       "    </tr>\n",
       "    <tr>\n",
       "      <th>Продуктовый аналитик</th>\n",
       "      <td>7</td>\n",
       "    </tr>\n",
       "  </tbody>\n",
       "</table>\n",
       "</div>"
      ],
      "text/plain": [
       "                      counts\n",
       "groups                      \n",
       "Инженер                   49\n",
       "Разработчик               20\n",
       "Маркетолог аналитик        9\n",
       "Продуктовый аналитик       7"
      ]
     },
     "execution_count": 81,
     "metadata": {},
     "output_type": "execute_result"
    }
   ],
   "source": [
    "# Какие группы вакансий самые популярные?\n",
    "statistic_group = final_data[['name', 'groups']].groupby('groups').count()\n",
    "statistic_group.rename(columns={'name':'counts'}, inplace = True)\n",
    "statistic_group.sort_values(by='counts', ascending=False)"
   ]
  },
  {
   "cell_type": "code",
   "execution_count": 82,
   "metadata": {},
   "outputs": [
    {
     "name": "stdout",
     "output_type": "stream",
     "text": [
      "Средняя зарплата: 221866 рублей\n",
      "Медианная зарплата: 201700 рублей\n"
     ]
    }
   ],
   "source": [
    "# Какова средняя и медианная заработная плата?\n",
    "print('Средняя зарплата: {} рублей'.format(int(((final_data['salary_from'] + final_data['salary_to'])/2).mean())))\n",
    "print('Медианная зарплата: {} рублей'.format(int(((final_data['salary_from'] + final_data['salary_to'])/2).median())))"
   ]
  },
  {
   "cell_type": "markdown",
   "metadata": {},
   "source": [
    "Если я правильно понял задание, то нам нужно вывести все какие-либо нужные навыки для Data Sceintist. Я сделал это с помощью data frame, причем количество наиболее часто встречающих навыков в вакансиях увеличивается слева направо. Также видно, что я выбрал довольно плохой способ набора навыков, ведь к примеру навыки `Математическая статистика` и `Mathematical Statistics` --- это по сути один и тот же навык, но в данном случае считается как разные навыки, потому что в данном случае код не умеет различать слова и предложения разных языков."
   ]
  },
  {
   "cell_type": "code",
   "execution_count": 83,
   "metadata": {},
   "outputs": [
    {
     "data": {
      "text/html": [
       "<div>\n",
       "<style scoped>\n",
       "    .dataframe tbody tr th:only-of-type {\n",
       "        vertical-align: middle;\n",
       "    }\n",
       "\n",
       "    .dataframe tbody tr th {\n",
       "        vertical-align: top;\n",
       "    }\n",
       "\n",
       "    .dataframe thead th {\n",
       "        text-align: right;\n",
       "    }\n",
       "</style>\n",
       "<table border=\"1\" class=\"dataframe\">\n",
       "  <thead>\n",
       "    <tr style=\"text-align: right;\">\n",
       "      <th></th>\n",
       "      <th>ML-фреймворков (TensorFlow, PyTorch, NumPy);</th>\n",
       "      <th>Гарант плюс</th>\n",
       "      <th>Бизнес-консультирование</th>\n",
       "      <th>машинное обучение</th>\n",
       "      <th>компьютерное зрение</th>\n",
       "      <th>программирование</th>\n",
       "      <th>Mathematical Statistics</th>\n",
       "      <th>Mathematical Programming</th>\n",
       "      <th>Mathematical Modeling</th>\n",
       "      <th>количественные исследования</th>\n",
       "      <th>...</th>\n",
       "      <th>C++</th>\n",
       "      <th>Анализ данных</th>\n",
       "      <th>Spark</th>\n",
       "      <th>Математическая статистика</th>\n",
       "      <th>Linux</th>\n",
       "      <th>Git</th>\n",
       "      <th>Английский язык</th>\n",
       "      <th>Data Mining</th>\n",
       "      <th>SQL</th>\n",
       "      <th>Python</th>\n",
       "    </tr>\n",
       "  </thead>\n",
       "  <tbody>\n",
       "    <tr>\n",
       "      <th>0</th>\n",
       "      <td>1</td>\n",
       "      <td>1</td>\n",
       "      <td>1</td>\n",
       "      <td>1</td>\n",
       "      <td>1</td>\n",
       "      <td>1</td>\n",
       "      <td>1</td>\n",
       "      <td>1</td>\n",
       "      <td>1</td>\n",
       "      <td>1</td>\n",
       "      <td>...</td>\n",
       "      <td>24</td>\n",
       "      <td>24</td>\n",
       "      <td>26</td>\n",
       "      <td>30</td>\n",
       "      <td>32</td>\n",
       "      <td>33</td>\n",
       "      <td>36</td>\n",
       "      <td>57</td>\n",
       "      <td>119</td>\n",
       "      <td>186</td>\n",
       "    </tr>\n",
       "  </tbody>\n",
       "</table>\n",
       "<p>1 rows × 342 columns</p>\n",
       "</div>"
      ],
      "text/plain": [
       "   ML-фреймворков (TensorFlow, PyTorch, NumPy);  Гарант плюс  \\\n",
       "0                                             1            1   \n",
       "\n",
       "   Бизнес-консультирование  машинное обучение  компьютерное зрение  \\\n",
       "0                        1                  1                    1   \n",
       "\n",
       "   программирование  Mathematical Statistics  Mathematical Programming  \\\n",
       "0                 1                        1                         1   \n",
       "\n",
       "   Mathematical Modeling  количественные исследования  ...  C++  \\\n",
       "0                      1                            1  ...   24   \n",
       "\n",
       "   Анализ данных  Spark  Математическая статистика  Linux  Git  \\\n",
       "0             24     26                         30     32   33   \n",
       "\n",
       "   Английский язык  Data Mining  SQL  Python  \n",
       "0               36           57  119     186  \n",
       "\n",
       "[1 rows x 342 columns]"
      ]
     },
     "execution_count": 83,
     "metadata": {},
     "output_type": "execute_result"
    }
   ],
   "source": [
    "# Какие ключевые навыки требуются для данной вакансии?\n",
    "key_skills = dict()\n",
    "\n",
    "for i in final_data['key_skills']:\n",
    "    for j in i:\n",
    "        if key_skills.get(j) != None:\n",
    "            key_skills[j] += 1\n",
    "        else:\n",
    "            key_skills.update({j : 1})\n",
    "            \n",
    "key_skills = {k: v for k, v in sorted(key_skills.items(), key=lambda item: item[1])}\n",
    "pd.DataFrame(key_skills, index = [0])"
   ]
  },
  {
   "cell_type": "code",
   "execution_count": 84,
   "metadata": {},
   "outputs": [
    {
     "data": {
      "text/html": [
       "<div>\n",
       "<style scoped>\n",
       "    .dataframe tbody tr th:only-of-type {\n",
       "        vertical-align: middle;\n",
       "    }\n",
       "\n",
       "    .dataframe tbody tr th {\n",
       "        vertical-align: top;\n",
       "    }\n",
       "\n",
       "    .dataframe thead th {\n",
       "        text-align: right;\n",
       "    }\n",
       "</style>\n",
       "<table border=\"1\" class=\"dataframe\">\n",
       "  <thead>\n",
       "    <tr style=\"text-align: right;\">\n",
       "      <th></th>\n",
       "      <th>counts</th>\n",
       "    </tr>\n",
       "    <tr>\n",
       "      <th>experience</th>\n",
       "      <th></th>\n",
       "    </tr>\n",
       "  </thead>\n",
       "  <tbody>\n",
       "    <tr>\n",
       "      <th>Более 6 лет</th>\n",
       "      <td>13</td>\n",
       "    </tr>\n",
       "    <tr>\n",
       "      <th>Нет опыта</th>\n",
       "      <td>33</td>\n",
       "    </tr>\n",
       "    <tr>\n",
       "      <th>От 1 года до 3 лет</th>\n",
       "      <td>144</td>\n",
       "    </tr>\n",
       "    <tr>\n",
       "      <th>От 3 до 6 лет</th>\n",
       "      <td>138</td>\n",
       "    </tr>\n",
       "  </tbody>\n",
       "</table>\n",
       "</div>"
      ],
      "text/plain": [
       "                    counts\n",
       "experience                \n",
       "Более 6 лет             13\n",
       "Нет опыта               33\n",
       "От 1 года до 3 лет     144\n",
       "От 3 до 6 лет          138"
      ]
     },
     "execution_count": 84,
     "metadata": {},
     "output_type": "execute_result"
    }
   ],
   "source": [
    "# Какой опыт требуется для данной вакансии?\n",
    "experience_data = final_data[['name', 'experience']].groupby('experience').count()\n",
    "experience_data.rename(columns = {'name':'counts'}, inplace = True)\n",
    "experience_data"
   ]
  },
  {
   "cell_type": "markdown",
   "metadata": {},
   "source": [
    "По таблице видно, что хорошо бы иметь хоть какой-то опыт, но не настолько все жестко, чтобы работать 6 лет и только потом тебя возьмут"
   ]
  },
  {
   "cell_type": "code",
   "execution_count": 85,
   "metadata": {},
   "outputs": [
    {
     "data": {
      "text/html": [
       "<div>\n",
       "<style scoped>\n",
       "    .dataframe tbody tr th:only-of-type {\n",
       "        vertical-align: middle;\n",
       "    }\n",
       "\n",
       "    .dataframe tbody tr th {\n",
       "        vertical-align: top;\n",
       "    }\n",
       "\n",
       "    .dataframe thead th {\n",
       "        text-align: right;\n",
       "    }\n",
       "</style>\n",
       "<table border=\"1\" class=\"dataframe\">\n",
       "  <thead>\n",
       "    <tr style=\"text-align: right;\">\n",
       "      <th></th>\n",
       "      <th>counts</th>\n",
       "    </tr>\n",
       "    <tr>\n",
       "      <th>employer</th>\n",
       "      <th></th>\n",
       "    </tr>\n",
       "  </thead>\n",
       "  <tbody>\n",
       "    <tr>\n",
       "      <th>Сбербанк</th>\n",
       "      <td>51</td>\n",
       "    </tr>\n",
       "    <tr>\n",
       "      <th>Ozon</th>\n",
       "      <td>8</td>\n",
       "    </tr>\n",
       "    <tr>\n",
       "      <th>РАБЛЗ</th>\n",
       "      <td>8</td>\n",
       "    </tr>\n",
       "    <tr>\n",
       "      <th>МегаФон</th>\n",
       "      <td>6</td>\n",
       "    </tr>\n",
       "    <tr>\n",
       "      <th>Банк ВТБ (ПАО)</th>\n",
       "      <td>5</td>\n",
       "    </tr>\n",
       "  </tbody>\n",
       "</table>\n",
       "</div>"
      ],
      "text/plain": [
       "                counts\n",
       "employer              \n",
       "Сбербанк            51\n",
       "Ozon                 8\n",
       "РАБЛЗ                8\n",
       "МегаФон              6\n",
       "Банк ВТБ (ПАО)       5"
      ]
     },
     "execution_count": 85,
     "metadata": {},
     "output_type": "execute_result"
    }
   ],
   "source": [
    "# Какие работодатели в топе?\n",
    "employer_data = final_data[['name', 'employer']].groupby('employer').count()\n",
    "employer_data.rename(columns = {'name':'counts'}, inplace = True)\n",
    "employer_data.sort_values(by = 'counts', ascending=False).head()"
   ]
  },
  {
   "cell_type": "markdown",
   "metadata": {},
   "source": [
    "Ну шо сказать, сбер --- это, конечно, не круто, но все же респект."
   ]
  },
  {
   "cell_type": "code",
   "execution_count": 86,
   "metadata": {},
   "outputs": [
    {
     "data": {
      "text/html": [
       "<div>\n",
       "<style scoped>\n",
       "    .dataframe tbody tr th:only-of-type {\n",
       "        vertical-align: middle;\n",
       "    }\n",
       "\n",
       "    .dataframe tbody tr th {\n",
       "        vertical-align: top;\n",
       "    }\n",
       "\n",
       "    .dataframe thead th {\n",
       "        text-align: right;\n",
       "    }\n",
       "</style>\n",
       "<table border=\"1\" class=\"dataframe\">\n",
       "  <thead>\n",
       "    <tr style=\"text-align: right;\">\n",
       "      <th></th>\n",
       "      <th>counts</th>\n",
       "    </tr>\n",
       "    <tr>\n",
       "      <th>metro_station</th>\n",
       "      <th></th>\n",
       "    </tr>\n",
       "  </thead>\n",
       "  <tbody>\n",
       "    <tr>\n",
       "      <th>Кутузовская</th>\n",
       "      <td>13</td>\n",
       "    </tr>\n",
       "    <tr>\n",
       "      <th>Маяковская</th>\n",
       "      <td>11</td>\n",
       "    </tr>\n",
       "    <tr>\n",
       "      <th>Деловой центр</th>\n",
       "      <td>7</td>\n",
       "    </tr>\n",
       "    <tr>\n",
       "      <th>Аэропорт</th>\n",
       "      <td>6</td>\n",
       "    </tr>\n",
       "    <tr>\n",
       "      <th>Технопарк</th>\n",
       "      <td>5</td>\n",
       "    </tr>\n",
       "  </tbody>\n",
       "</table>\n",
       "</div>"
      ],
      "text/plain": [
       "               counts\n",
       "metro_station        \n",
       "Кутузовская        13\n",
       "Маяковская         11\n",
       "Деловой центр       7\n",
       "Аэропорт            6\n",
       "Технопарк           5"
      ]
     },
     "execution_count": 86,
     "metadata": {},
     "output_type": "execute_result"
    }
   ],
   "source": [
    "# В каком районе Москвы данная вакансия пользуется наибольшим и наименьшим спросом?\n",
    "area_data = final_data[['name', 'metro_station']].groupby('metro_station').count()\n",
    "area_data.rename(columns = {'name':'counts'}, inplace = True)\n",
    "area_data.sort_values(by = 'counts', ascending=False, inplace = True)\n",
    "area_data.head()"
   ]
  },
  {
   "cell_type": "code",
   "execution_count": 87,
   "metadata": {},
   "outputs": [
    {
     "data": {
      "text/html": [
       "<div>\n",
       "<style scoped>\n",
       "    .dataframe tbody tr th:only-of-type {\n",
       "        vertical-align: middle;\n",
       "    }\n",
       "\n",
       "    .dataframe tbody tr th {\n",
       "        vertical-align: top;\n",
       "    }\n",
       "\n",
       "    .dataframe thead th {\n",
       "        text-align: right;\n",
       "    }\n",
       "</style>\n",
       "<table border=\"1\" class=\"dataframe\">\n",
       "  <thead>\n",
       "    <tr style=\"text-align: right;\">\n",
       "      <th></th>\n",
       "      <th>counts</th>\n",
       "    </tr>\n",
       "    <tr>\n",
       "      <th>metro_station</th>\n",
       "      <th></th>\n",
       "    </tr>\n",
       "  </thead>\n",
       "  <tbody>\n",
       "    <tr>\n",
       "      <th>Марьина Роща</th>\n",
       "      <td>1</td>\n",
       "    </tr>\n",
       "    <tr>\n",
       "      <th>Молодежная</th>\n",
       "      <td>1</td>\n",
       "    </tr>\n",
       "    <tr>\n",
       "      <th>Московские ворота</th>\n",
       "      <td>1</td>\n",
       "    </tr>\n",
       "    <tr>\n",
       "      <th>Мякинино</th>\n",
       "      <td>1</td>\n",
       "    </tr>\n",
       "    <tr>\n",
       "      <th>Юго-Западная</th>\n",
       "      <td>1</td>\n",
       "    </tr>\n",
       "  </tbody>\n",
       "</table>\n",
       "</div>"
      ],
      "text/plain": [
       "                   counts\n",
       "metro_station            \n",
       "Марьина Роща            1\n",
       "Молодежная              1\n",
       "Московские ворота       1\n",
       "Мякинино                1\n",
       "Юго-Западная            1"
      ]
     },
     "execution_count": 87,
     "metadata": {},
     "output_type": "execute_result"
    }
   ],
   "source": [
    "area_data.tail()"
   ]
  },
  {
   "cell_type": "code",
   "execution_count": 88,
   "metadata": {},
   "outputs": [
    {
     "name": "stderr",
     "output_type": "stream",
     "text": [
      "c:\\users\\acer\\appdata\\local\\programs\\python\\python37\\lib\\site-packages\\numpy\\lib\\histograms.py:839: RuntimeWarning:\n",
      "\n",
      "invalid value encountered in greater_equal\n",
      "\n",
      "c:\\users\\acer\\appdata\\local\\programs\\python\\python37\\lib\\site-packages\\numpy\\lib\\histograms.py:840: RuntimeWarning:\n",
      "\n",
      "invalid value encountered in less_equal\n",
      "\n",
      "No handles with labels found to put in legend.\n"
     ]
    },
    {
     "data": {
      "image/png": "[encoded data removed]",
      "text/plain": [
       "<Figure size 1080x504 with 1 Axes>"
      ]
     },
     "metadata": {
      "needs_background": "light"
     },
     "output_type": "display_data"
    }
   ],
   "source": [
    "# гистограмма распределения заработной платы;\n",
    "plt.figure(figsize = (15, 7))\n",
    "\n",
    "plt.hist(\n",
    "    (final_data['salary_from'] + final_data['salary_to'])/2, \n",
    "    bins = 10, \n",
    "    alpha = 0.6, \n",
    "    color = 'black'\n",
    ")\n",
    "\n",
    "plt.xlabel('Зарплаты', fontsize=14)\n",
    "plt.ylabel('Количество', fontsize=14)\n",
    "plt.title(' гистограмма зарплат')\n",
    "plt.legend()\n",
    "plt.grid(ls=':')\n",
    "plt.show()"
   ]
  },
  {
   "cell_type": "markdown",
   "metadata": {},
   "source": [
    "Впринципе диаграмма подтверждает то, что мы и видели со средними. В среднем зарплата у Data Scientist около 200к, но есть и \"выбросы\" (умные люди), которые зарабатывают больше 400к."
   ]
  },
  {
   "cell_type": "markdown",
   "metadata": {},
   "source": [
    "Опасно, далее идет говнокод! Я не придумал, как сделать лучше. Из датафрейма по навыкам, я выбрал самые востребованные навыки. Анализировать все --- это какая-то дичь, потому что их слишком много и не несут дополнительной информации, отчасти из-за проблемы с языками."
   ]
  },
  {
   "cell_type": "code",
   "execution_count": 89,
   "metadata": {},
   "outputs": [],
   "source": [
    "# heatmap, отображающий зависимость количества вакансий от группы и навыка;\n",
    "skills = ['Python',\n",
    "          'SQL',\n",
    "          'Data Mining',\n",
    "          'Английский язык',\n",
    "          'Git',\n",
    "          'Linux',\n",
    "          'Spark',\n",
    "          'Анализ данных',\n",
    "          'C++']\n",
    "\n",
    "def help_fun_python(value):\n",
    "    for i in value:\n",
    "        if i == 'Python':\n",
    "            return 1\n",
    "    return 0\n",
    "\n",
    "def help_fun_sql(value):\n",
    "    for i in value:\n",
    "        if i == 'SQL':\n",
    "            return 1\n",
    "    return 0\n",
    "\n",
    "def help_fun_dm(value):\n",
    "    for i in value:\n",
    "        if i == 'Data Mining':\n",
    "            return 1\n",
    "    return 0\n",
    "\n",
    "def help_fun_english(value):\n",
    "    for i in value:\n",
    "        if i == 'Английский язык':\n",
    "            return 1\n",
    "    return 0\n",
    "\n",
    "def help_fun_git(value):\n",
    "    for i in value:\n",
    "        if i == 'Git':\n",
    "            return 1\n",
    "    return 0\n",
    "\n",
    "def help_fun_linux(value):\n",
    "    for i in value:\n",
    "        if i == 'Linux':\n",
    "            return 1\n",
    "    return 0\n",
    "\n",
    "def help_fun_spark(value):\n",
    "    for i in value:\n",
    "        if i == 'Spark':\n",
    "            return 1\n",
    "    return 0\n",
    "\n",
    "def help_fun_ad(value):\n",
    "    for i in value:\n",
    "        if i == 'Анализ данных':\n",
    "            return 1\n",
    "    return 0\n",
    "\n",
    "def help_fun_c(value):\n",
    "    for i in value:\n",
    "        if i == 'C++':\n",
    "            return 1\n",
    "    return 0\n",
    "          \n",
    "final_data['Python'] = final_data['key_skills'].apply(help_fun_python)\n",
    "final_data['SQL'] = final_data['key_skills'].apply(help_fun_sql)\n",
    "final_data['Data Mining'] = final_data['key_skills'].apply(help_fun_dm)\n",
    "final_data['Английский язык'] = final_data['key_skills'].apply(help_fun_english)\n",
    "final_data['Git'] = final_data['key_skills'].apply(help_fun_git)\n",
    "final_data['Linux'] = final_data['key_skills'].apply(help_fun_linux)\n",
    "final_data['Spark'] = final_data['key_skills'].apply(help_fun_spark)\n",
    "final_data['Анализ данных'] = final_data['key_skills'].apply(help_fun_ad)\n",
    "final_data['C++'] = final_data['key_skills'].apply(help_fun_c)\n"
   ]
  },
  {
   "cell_type": "code",
   "execution_count": 90,
   "metadata": {},
   "outputs": [
    {
     "data": {
      "image/png": "[encoded data removed]",
      "text/plain": [
       "<Figure size 1296x648 with 1 Axes>"
      ]
     },
     "metadata": {
      "needs_background": "light"
     },
     "output_type": "display_data"
    }
   ],
   "source": [
    "# зависимость средней заработной платы от требуемых навыков;\n",
    "final_data['salary_mean'] = (final_data['salary_from'] + final_data['salary_to'])/2\n",
    "graph = []\n",
    "\n",
    "for i in skills:\n",
    "    graph.append(final_data[['salary_mean', i]].groupby(i).sum().iloc[1,0])\n",
    "    \n",
    "plt.figure(figsize=(18, 9))\n",
    "\n",
    "plt.bar(\n",
    "    range(len(graph)),\n",
    "    graph,\n",
    "    color = 'green', \n",
    "    lw = 2\n",
    ")\n",
    "\n",
    "plt.xticks(range(len(graph)), skills)\n",
    "\n",
    "plt.ylabel('Средняя зарплата')\n",
    "plt.xlabel('Навык')\n",
    "plt.legend(['Зависимость средней зарплаты от навыков'])\n",
    "plt.show()"
   ]
  },
  {
   "cell_type": "markdown",
   "metadata": {},
   "source": [
    "Как мы видим `python` и `sql` --- это одни из самых важных навыков для Data Scientist"
   ]
  },
  {
   "cell_type": "code",
   "execution_count": 91,
   "metadata": {},
   "outputs": [
    {
     "data": {
      "application/vnd.plotly.v1+json": {
       "config": {
        "plotlyServerURL": "https://plot.ly"
       },
       "data": [
        {
         "lat": [
          null,
          null,
          null,
          55.745297,
          55.663146,
          55.75098,
          null,
          55.656682,
          null,
          55.695,
          55.687147,
          null,
          55.772405,
          55.740544,
          null,
          55.740746,
          null,
          null,
          null,
          55.769808,
          null,
          55.736163,
          null,
          null,
          null,
          55.772405,
          null,
          null,
          55.720278,
          55.777439,
          null,
          null,
          null,
          55.75098,
          null,
          null,
          null,
          null,
          null,
          null,
          null,
          null,
          null,
          null,
          55.656682,
          55.796322,
          null,
          55.740833,
          null,
          55.777439,
          null,
          null,
          null,
          55.655745,
          null,
          55.70961,
          null,
          55.782057,
          55.740833,
          null,
          55.800441,
          null,
          null,
          55.682099,
          null,
          55.800441,
          null,
          null,
          null,
          null,
          55.741375,
          55.774072,
          null,
          null,
          55.695,
          55.779584,
          null,
          null,
          null,
          55.742396,
          55.706634,
          null,
          null,
          null,
          null,
          55.777201,
          55.779584,
          null,
          null,
          null,
          null,
          55.796322,
          null,
          55.7491,
          55.740833,
          null,
          55.808056,
          55.729741,
          null,
          55.769808,
          55.729542,
          null,
          null,
          null,
          55.740833,
          null,
          null,
          null,
          55.789704,
          55.731414,
          null,
          null,
          null,
          null,
          55.779584,
          55.777439,
          55.726548,
          null,
          null,
          null,
          null,
          55.735679,
          55.69,
          null,
          55.760793,
          null,
          55.780014,
          null,
          null,
          null,
          null,
          null,
          null,
          null,
          null,
          null,
          null,
          55.769808,
          55.7491,
          null,
          null,
          55.718828,
          null,
          null,
          null,
          null,
          null,
          55.750243,
          null,
          null,
          55.823342,
          null,
          null,
          null,
          55.740833,
          null,
          null,
          null,
          55.769808,
          55.740544,
          null,
          55.769808,
          null,
          55.800441,
          null,
          null,
          null,
          null,
          55.793723,
          null,
          null,
          55.7055,
          55.7491,
          null,
          null,
          55.760793,
          null,
          null,
          55.825833,
          null,
          null,
          55.695,
          null,
          null,
          null,
          null,
          null,
          55.769808,
          55.740833,
          55.7055,
          null,
          null,
          55.677671,
          null,
          null,
          null,
          null,
          null,
          null,
          null,
          null,
          null,
          null,
          null,
          null,
          null,
          null,
          55.769808,
          null,
          null,
          null,
          55.735221,
          null,
          null,
          55.70961,
          null,
          null,
          55.761498,
          55.769808,
          null,
          null,
          null,
          55.7491,
          55.742391,
          55.825833,
          null,
          null,
          55.7491,
          null,
          null,
          null,
          55.807794,
          null,
          53.905615,
          55.682099,
          55.752312,
          null,
          null,
          null,
          55.789704,
          null,
          null,
          null,
          55.70961,
          55.800441,
          null,
          55.70961,
          null,
          55.70961,
          53.905615,
          55.662379,
          null,
          null,
          55.740544,
          55.695,
          null,
          55.749083,
          55.800441,
          null,
          null,
          null,
          55.720278,
          55.740833,
          55.769808,
          null,
          null,
          55.7491,
          null,
          null,
          null,
          null,
          null,
          null,
          55.825479,
          55.800441,
          null,
          null,
          null,
          null,
          null,
          null,
          null,
          null,
          null,
          null,
          null,
          null,
          55.769808,
          null,
          55.7491,
          null,
          55.740833,
          null,
          null,
          null,
          55.740544,
          55.695,
          55.677671,
          55.758564,
          null,
          55.70678,
          55.687147,
          55.729741,
          59.891788,
          null,
          null,
          null,
          null,
          null,
          55.796322,
          null,
          55.825833,
          55.765607,
          55.731414,
          55.769808,
          null,
          55.780014,
          null,
          null,
          null,
          null,
          null,
          null,
          55.777439,
          null,
          55.825479,
          null,
          55.740544
         ],
         "lon": [
          null,
          null,
          null,
          37.604217,
          37.482852,
          37.78422,
          null,
          37.540075,
          null,
          37.664167,
          37.5723,
          null,
          37.67904,
          37.5341,
          null,
          37.65604,
          null,
          null,
          null,
          37.596192,
          null,
          37.595027,
          null,
          null,
          null,
          37.67904,
          null,
          null,
          37.563056,
          37.582107,
          null,
          null,
          null,
          37.78422,
          null,
          null,
          null,
          null,
          null,
          null,
          null,
          null,
          null,
          null,
          37.540075,
          37.713582,
          null,
          37.533333,
          null,
          37.582107,
          null,
          null,
          null,
          37.649683,
          null,
          37.622569,
          null,
          37.7053,
          37.533333,
          null,
          37.530477,
          null,
          null,
          37.620917,
          null,
          37.530477,
          null,
          null,
          null,
          null,
          37.415627,
          37.654565,
          null,
          null,
          37.664167,
          37.633646,
          null,
          null,
          null,
          37.653334,
          37.657008,
          null,
          null,
          null,
          null,
          37.517895,
          37.633646,
          null,
          null,
          null,
          null,
          37.713582,
          null,
          37.5395,
          37.533333,
          null,
          37.581734,
          37.638693,
          null,
          37.596192,
          37.470973,
          null,
          null,
          null,
          37.533333,
          null,
          null,
          null,
          37.558212,
          37.636294,
          null,
          null,
          null,
          null,
          37.633646,
          37.582107,
          37.624792,
          null,
          null,
          null,
          null,
          37.516865,
          37.618889,
          null,
          37.581242,
          null,
          37.666097,
          null,
          null,
          null,
          null,
          null,
          null,
          null,
          null,
          null,
          null,
          37.596192,
          37.5395,
          null,
          null,
          37.607892,
          null,
          null,
          null,
          null,
          null,
          37.542641,
          null,
          null,
          37.385214,
          null,
          null,
          null,
          37.533333,
          null,
          null,
          null,
          37.596192,
          37.5341,
          null,
          37.596192,
          null,
          37.530477,
          null,
          null,
          null,
          null,
          37.61618,
          null,
          null,
          37.5225,
          37.5395,
          null,
          null,
          37.581242,
          null,
          null,
          37.496111,
          null,
          null,
          37.664167,
          null,
          null,
          null,
          null,
          null,
          37.596192,
          37.533333,
          37.5225,
          null,
          null,
          37.562595,
          null,
          null,
          null,
          null,
          null,
          null,
          null,
          null,
          null,
          null,
          null,
          null,
          null,
          null,
          37.596192,
          null,
          null,
          null,
          37.593095,
          null,
          null,
          37.622569,
          null,
          null,
          37.624423,
          37.596192,
          null,
          null,
          null,
          37.5395,
          37.62928,
          37.496111,
          null,
          null,
          37.5395,
          null,
          null,
          null,
          37.638699,
          null,
          27.55415,
          37.620917,
          37.60349,
          null,
          null,
          null,
          37.558212,
          null,
          null,
          null,
          37.622569,
          37.530477,
          null,
          37.622569,
          null,
          37.622569,
          27.55415,
          37.605274,
          null,
          null,
          37.5341,
          37.664167,
          null,
          37.582173,
          37.530477,
          null,
          null,
          null,
          37.563056,
          37.533333,
          37.596192,
          null,
          null,
          37.5395,
          null,
          null,
          null,
          null,
          null,
          null,
          37.437024,
          37.530477,
          null,
          null,
          null,
          null,
          null,
          null,
          null,
          null,
          null,
          null,
          null,
          null,
          37.596192,
          null,
          37.5395,
          null,
          37.533333,
          null,
          null,
          null,
          37.5341,
          37.664167,
          37.562595,
          37.659039,
          null,
          37.58499,
          37.5723,
          37.638693,
          30.317873,
          null,
          null,
          null,
          null,
          null,
          37.713582,
          null,
          37.496111,
          37.604356,
          37.636294,
          37.596192,
          null,
          37.666097,
          null,
          null,
          null,
          null,
          null,
          null,
          37.582107,
          null,
          37.437024,
          null,
          37.5341
         ],
         "marker": {
          "color": [
           null,
           215000,
           169499.99999999997,
           250000,
           120000,
           null,
           242950,
           null,
           339637.5,
           282500,
           null,
           96049.99999999999,
           null,
           null,
           null,
           null,
           null,
           null,
           null,
           null,
           null,
           null,
           null,
           null,
           null,
           null,
           null,
           null,
           null,
           null,
           null,
           null,
           null,
           null,
           336915,
           336915,
           225999.99999999997,
           null,
           null,
           null,
           null,
           null,
           null,
           null,
           null,
           null,
           409376.39999999997,
           null,
           215000,
           null,
           null,
           null,
           null,
           null,
           null,
           null,
           null,
           null,
           null,
           null,
           null,
           null,
           null,
           null,
           null,
           null,
           null,
           null,
           null,
           null,
           null,
           null,
           null,
           null,
           null,
           null,
           null,
           null,
           146900,
           null,
           null,
           null,
           282500,
           null,
           null,
           null,
           null,
           null,
           null,
           null,
           null,
           null,
           null,
           null,
           null,
           null,
           null,
           null,
           null,
           null,
           null,
           null,
           null,
           null,
           null,
           null,
           null,
           null,
           null,
           null,
           300000,
           null,
           null,
           null,
           null,
           null,
           null,
           null,
           null,
           null,
           280762.5,
           200000,
           null,
           130000,
           null,
           null,
           197749.99999999997,
           null,
           262045,
           null,
           null,
           null,
           null,
           null,
           169499.99999999997,
           null,
           null,
           null,
           null,
           null,
           null,
           null,
           null,
           null,
           null,
           null,
           null,
           null,
           null,
           486655,
           null,
           null,
           null,
           null,
           null,
           null,
           null,
           null,
           null,
           null,
           null,
           null,
           null,
           null,
           null,
           null,
           null,
           null,
           null,
           null,
           null,
           null,
           null,
           null,
           null,
           null,
           null,
           null,
           null,
           null,
           null,
           null,
           null,
           200000,
           null,
           null,
           null,
           null,
           null,
           null,
           169499.99999999997,
           null,
           null,
           null,
           null,
           null,
           null,
           null,
           null,
           null,
           null,
           null,
           null,
           null,
           null,
           110000,
           null,
           null,
           null,
           null,
           224610,
           null,
           null,
           null,
           null,
           null,
           null,
           203399.99999999997,
           null,
           null,
           null,
           null,
           null,
           null,
           null,
           null,
           null,
           null,
           null,
           null,
           null,
           null,
           null,
           null,
           169499.99999999997,
           90399.99999999999,
           null,
           null,
           null,
           null,
           null,
           null,
           null,
           null,
           null,
           null,
           null,
           null,
           null,
           null,
           null,
           null,
           null,
           null,
           null,
           50849.99999999999,
           null,
           null,
           null,
           336915,
           null,
           null,
           null,
           null,
           200000,
           null,
           null,
           null,
           null,
           null,
           null,
           null,
           null,
           null,
           null,
           null,
           null,
           180000,
           225000,
           null,
           null,
           null,
           null,
           null,
           null,
           null,
           null,
           null,
           146900,
           null,
           null,
           null,
           null,
           135600,
           null,
           null,
           null,
           null,
           null,
           null,
           null,
           200000,
           null,
           112999.99999999999,
           null,
           null,
           null,
           423015.5,
           null,
           null,
           null,
           null,
           null,
           null,
           null,
           null,
           null,
           null,
           null,
           null,
           null,
           null,
           null,
           null,
           null,
           null,
           null,
           null
          ],
          "colorbar": {
           "title": {
            "text": "Зарплаты"
           }
          }
         },
         "text": [
          "Стажер data scientist",
          "Аналитик Data Scientist",
          "Data Scientist в области компьютерного зрения",
          "Data Scientist / Quantitative Researcher",
          "Junior Data Scientist",
          "Data scientists, Младший (Junior)",
          "Data Scientist",
          "Data Scientist",
          "Senior Data Scientist /Quantitative Analyst (Кипр)",
          "CV Senior Data Scientist",
          "Data Scientist / Аналитик Data Science",
          "Data Analyst",
          "Data scientist",
          "Data scientist (ML/Python)",
          "Главный эксперт отдела экспертизы и анализа данных (data analyst/ data scientist/аналитик данных)",
          "Data Scientist",
          "Data scientist/Бизнес-аналитик (Junior/Middle) в консалтинг",
          "Team Lead/Senior Data Scientist",
          "Data scientist",
          "Data scientist (NLP)",
          "Data Scientist в команду прогнозирования спроса Яндекс.Маркета",
          "Аналитик-разработчик (Data Scientist)",
          "Data Scientist",
          "Ведущий аналитик Data scientist",
          "Teamlead Data scientist",
          "Data scientist",
          "Data Engineer",
          "Data Scientist",
          "Data Engineer",
          "Data Scientist (computer vision)",
          "Аналитик данных/ Data Scientist",
          "Data Scientist",
          "Data scientist (цифровые помощники)",
          "Data scientists, Средний (Middle)",
          "Senior Data Scientist",
          "Senior Data Engineer (AWS/Python)",
          "Senior Data Science",
          "Data scientist",
          "Quantitative Research / Data Science Intern",
          "Senior Data Scientist, Recommender Systems (London)",
          "Data scientist (цифровые двойники)",
          "Data scientist (электронный документооборот)",
          "Data Scientist",
          "Data Engineer",
          "Senior Data Scientist",
          "Data Analyst",
          "Data Scientist / Machine Learning Engineer // Relocation",
          "Lead Computer Vision Data Scientist",
          "Data Scientist",
          "Senior Data Scientist",
          "Data Scientist (middle or senior)",
          "Руководитель группы Data инженеров (Chief Data Engineer)",
          "Senior Data Scientist (Computer Vision Advanced Research)",
          "Data инженер",
          "Data Scientist",
          "Senior data scientist",
          "Lead Data Scientist",
          "Senior Data Scientist/Lead Data Scientist",
          "Data Engineer",
          "Инженер данных (Data Engineer)",
          "Senior Data Scientist / старший программист-исследователь (Delivery Club)",
          "Data scientist",
          "Data Analyst / Data Scientist / Report Developer",
          "Data Scientist + Продуктовый аналитик (Команда продажи авиабилетов)",
          "Эксперт/Data Scientist в Отдел моделей кредитного риска КБ и МСБ",
          "Data Scientist в myTracker",
          "Data Engineer / ML Engineer в Отдел моделирования CVM",
          "Lead NLP Researcher (AI Lab)",
          "Data scientist / Team Lead Data Science",
          "Data Scientist (аналитик/исследователь данных)",
          "ML - разработчик / Data Scientist",
          "Data Scientist",
          "Middle data scientist",
          "Senior Data Scientist",
          "Data Scientist (Big Data)",
          "Lead Data Scientist",
          "Старший аналитик / Data Scientist",
          "Data Scientist",
          "Senior Data аналитик / Senior Data analyst",
          "Data scientist",
          "Data Scientist",
          "Data Scientist",
          "Senior Data Scientist (Recommender Systems)",
          "Senior Data Scientist",
          "Team lead Data Scientist",
          "Data Scientist",
          "Data Scientist",
          "Data Scientist",
          "Data Scientist",
          "Senior Data Scientist",
          "Lead Data инженер",
          "Data Engineer",
          "Data scientist Junior/Middle/Senior в команду CVM & AI Дивизион «Особенные решения»",
          "Data Scientist, Клиентские сервисы",
          "Deep Learning Engineer (SberDevices)",
          "Senior Data Scientist (Knowledge Assistant)",
          "Team Lead Speech Analytics / Senior Data Scientist in NLP",
          "Data Engineer",
          "Mid/Senior Data Scientist NLP/CV/ClassicML",
          "Intern, Data Science",
          "Research Scientist (Advanced Data Analytics in Science and Engineering / LARSS laboratory)",
          "Senior Data Scientist",
          "Data Engineer (Управление валидации)",
          "Data Engineer",
          "ML engineer/Layer (SberDevices)",
          "Senior Data Scientist",
          "Data Scientist на направление персонализации сервисов",
          "Sr Manager Data Science",
          "Data Scientist (ЦК КХД)",
          "Стажер Data Scientist, Группа улучшения бизнес-технологии и ИТ",
          "Data Scientist",
          "Старший инженер в области машинного обучения (Senior Data Scientist)",
          "Директор (Data scientist), Управление модельных рисков и валидации",
          "Data Scientist (Центр валидации моделей сервисных блоков и экосистемы)",
          "Data Engineer",
          "Data Scientist / Senior Data Scientist/ Lead Data Scientist",
          "Data Scientist (middle)",
          "Data Scientist",
          "Middle Data Scientist в проект «Онлайн-оценка недвижимости»",
          "Data Scientist (Big Data)",
          "Data Scientist (Payments, anti-fraud, South-Eastern Europe)",
          "Data Scientist (Middle\\Senior)",
          "Data Scientist",
          "Data Scientist",
          "Data scientist / Разработчик рекомендательных систем",
          "Junior/Middle Data scientist (команда ИСУ)",
          "Marketing analyst - data scientist",
          "Data Scientist",
          "Python developer/Data Engineer",
          "Data Scientist (NLP)",
          "Data scientist (ML, HR-платформа)",
          "Data scientist (Rec-Sys. HR-платформа)",
          "Data scientist NLP (Corporate Customers 360)",
          "Data Scientist/DS Developer в команду External Data Modeling and Research",
          "Преподаватель по Data Science",
          "Data Scientist",
          "Junior/Middle Data Scientist / Специалист по рекомендательным сервисам",
          "Data Scientist (middle)",
          "Data Scientist, Товарные рекомендации",
          "Data Scientist",
          "Middle data scientist (ЦКМ, Корпоративный блок)",
          "Senior Data Scientist (Команда Поиска)",
          "Тeam lead команды по адаптированию/доработке BATCH- моделей (Big data)",
          "Data Scientist",
          "Senior Data Scientist",
          "Data Scientist",
          "Data Scientist (Кипр)",
          "Data scientist по построению моделей оценки кредитного риска для клиентов МСБ (Big Data)",
          "Data scientist в управление розничного моделирования",
          "Python Developer / ML Engineer",
          "Маркетолог-аналитик / Веб аналитик / Data scientist",
          "Data analyst (блок Управление Благосостоянием)",
          "Senior Data Scientist в команду генетики (AI Lab)",
          "Lead Data Scientist (ML)",
          "Deep Learning Engineer (SberDevices)",
          "Senior Data Scientist NLP. Дивизион `Массовая персонализация`",
          "Senior Data Scientist / Team Lead",
          "Product owner/Lead Data Scientist (команда ВЭД_DS)",
          "Team Lead /Senior data scientist (коммерческое направление)",
          "Data engineer",
          "Data Scientist",
          "Senior Data Scientist (CV-алгоритмы)",
          "Data Scientist (PFM, блок Управление Благосостоянием)",
          "Senior Data Engineer",
          "Проверяющий преподаватель на курс \"Data Scientist\"",
          "Data Scientist",
          "Data Scientist",
          "Senior Data scientist (портфельное моделирование)",
          "Data Scientist / Специалист по Data Science",
          "Middle/Senior Data Scientist / Специалист по рекомендательным сервисам",
          "Data Engineer (дивизион `Массовая персонализация`)",
          "Research Scientist for Multiphase Flow Metering",
          "Data Scientist, Price and Assortment Monitoring / Автоматический матчинг",
          "Аналитик (эконометрическое моделирование) / Data scientist",
          "Старший Аналитик (Эконометрическое моделирование)/ Senior Data scientist",
          "Data Scientist (персонализация витрин)",
          "Data scientist (команда ИСУ)",
          "Тeam lead команды по адаптированию/доработке моделей (Big data)",
          "Data Scientist NLP",
          "Data Scientist - команда CLTV. Дивизион `Массовая персонализация`",
          "Senior Data Scientist (ML)",
          "Data Scientist в команду CRM",
          "Customer Facing Data Scientists (Remote option)",
          "Cloud Data Scientist (remote)",
          "Data Scientist",
          "Data Scientist",
          "Data Science Lead",
          "Data engineer",
          "ML engineer/Layer (SberDevices)",
          "Research Scientist for Reservoir Engineering Data Analytics",
          "Data Scientist",
          "Data Scientist (recommender systems)",
          "Data scientist (аналитик данных)",
          "Data Scientist (разработчик)",
          "Математик/data scientist",
          "Data engineer",
          "Data Scientist",
          "Data Scientist",
          "Data Analytics Consultant",
          "Business Data Scientist (Cyprus)",
          "Data Scientist / Machine Learning Engineer",
          "Аналитик данных / Data scientist (SIEM)",
          "Big-Data & HPC Scientist",
          "Data Scientist at Sber Corporate (Управление продажами в Субъектах РФ)",
          "Data Analyst/ Data Scientist",
          "Data Scientist/Аналитик данных",
          "Lead Data Scientist (Remote option)",
          "Data Scientist (коммерческое направление)",
          "Data Engineer / Data Scientist",
          "Data Scientist, Capital Markets",
          "Data Scientist",
          "Data Scientist (ML Engineer)",
          "Data scientist",
          "Senior Data Scientist (NLP)",
          "Data scientist",
          "Product Data Analyst (Perm)",
          "Junior Data Scientist",
          "Data Scientist / Machine Learning Engineer",
          "Data Scientist",
          "Data Scientist",
          "Data Scientist",
          "B2B Data Scientist (Python, SQL)",
          "Data Scientist, Автомодерация",
          "Senior Data Scientist",
          "Data Analyst",
          "Senior Data Engineer (Берлин / Брауншвайг)",
          "Data Scientist",
          "Data Scientist, Поиск",
          "Data Scientist",
          "Data Scientist",
          "Middle Data Scientist в команду трайба «Эквайринг»",
          "Senior Data Scientist",
          "Business Data Scientist (Cyprus)",
          "Data Scientist (Computer vision, NLP) - Syntagma Team",
          "Data Engineer",
          "Data аналитик/Data Scientist(Python, SQL)",
          "Data engineer",
          "Senior Data Scientist",
          "Senior Data Scientist (probabilistic modelling)",
          "Data Scientist",
          "Data Scientist (NLP)",
          "Team Lead Data Science",
          "Senior Data Scientist NLP",
          "Senior Data Scientist",
          "Middle / Senior Data Scientist",
          "Руководитель направления по аналитике данных (Lead data scientist)",
          "Data Scientist (middle)",
          "Data Scientist NLP (middle/ senior)",
          "ML Engineer / Data Scientist",
          "Senior Data Scientist (Computer Vision) - Syntagma Team",
          "Middle data scientist",
          "Senior Data Scientist (Tech Lead)",
          "Technical Lead в Data Science-команду/ML Engineer",
          "Junior Data Scientist (SberDevices)",
          "Junior Data Scientist в команду комплаенс-контроля",
          "Junior data scientist( AI разработчик )",
          "AI researcher",
          "ML Engineer",
          "Researcher / Sourcer",
          "Machine Learning Developer (remote)",
          "Junior Product owner / Project manager / Системный аналитик / Бизнес-аналитик",
          "Java Developer (BigData)",
          "NLP engineer (SberDevices)",
          "Менеджер проектов в направлении Big Data",
          "Администратор и разработчик платформы больших данных",
          "Researcher, scheduling algorithms",
          "Medical Advisor/ Medical Science Liaison",
          "Менеджер продукта биометрии (Product manager)",
          "Researcher, operations research and optimization",
          "Data Engineer (Middle)",
          "Python разработчик (django)",
          "Программист Python (Middle)",
          "Аналитик по управлению данными",
          "New Business Development Manager",
          "Разработчик BI-DWH",
          "Ведущий инженер больших данных (Lead Data)",
          "PandaOmics Global Product Manager",
          "Java-разработчик Middle+",
          "Head of HR",
          "Project Manager (Marketing BI Analytics)",
          "Data Engineer (Единый виртуальный ассистент сотрудника)",
          "Аналитик клиентской базы данных",
          "Student guidance manager (USA) at Practicum by Yandex",
          "DevOps",
          "Аналитик",
          "Системный аналитик",
          "Системный аналитик",
          "Инженер ML-разработки (Pydata)",
          "Middle/Senior NodeJS разработчик",
          "Старший аналитик-математик",
          "Фронтэндер на JS (React/Redux)",
          "NLP engineer (SberDevices)",
          "Владелец продукта для внутренних Data&Analytics продуктов Магнит",
          "Преподаватель курса Машинное обучение",
          "Аналитик SQL",
          "Search Engineer",
          "DevOps engineer в команду Data Lake",
          "Аналитик данных, задачи по технологической оптимизации",
          "Специалист по анализу данных",
          "Product owner/ Lead DS (Цифровой кредитный мониторинг)",
          "Руководитель отдела разработки ПО - HeadDev",
          "Руководитель отдела разработки ПО",
          "Аналитик BI",
          "Web Analyst (Google Analytics evangelist) / remote",
          "Senior Full Stack Developer (Берлин / Брауншвайг)",
          "DevOps инженер",
          "Андроид Разработчик (Android Developer)",
          "Senior Fullstack Developer (Python, React, remote)",
          "Эксперт в Управление розничного моделирования",
          "Директор по маркетингу",
          "Data scientist/разработка моделей оценки кредитного риска для клиентов малого и среднего бизнеса",
          "Разработчик Python",
          "Архитектор данных DWH",
          "Специалист по продвижению бренда работодателя (Talent Brand)",
          "Руководитель проектов (Big Data)",
          "Assistant for Client Development",
          "Аналитик BI/DWH",
          "Middle/Senior Data Scientist (Департамента Маркетинга и Коммуникаций)",
          "Head of Analytics",
          "Python-разработчик (ЦКМ)",
          "Рекрутер",
          "Market Analyst",
          "Consumer Insights Client Consultant (Quantitative)",
          "IT Recruiter",
          "Аналитик данных",
          "Client Consultant (market research, FMCG sector)",
          "Product Manager (Analytics)",
          "Java Developer (Система управления знаниями и поиск)"
         ],
         "type": "scattermapbox"
        }
       ],
       "layout": {
        "mapbox": {
         "center": {
          "lat": 55.745297,
          "lon": 37.604217
         },
         "style": "open-street-map",
         "zoom": 9
        },
        "template": {
         "data": {
          "bar": [
           {
            "error_x": {
             "color": "#2a3f5f"
            },
            "error_y": {
             "color": "#2a3f5f"
            },
            "marker": {
             "line": {
              "color": "#E5ECF6",
              "width": 0.5
             }
            },
            "type": "bar"
           }
          ],
          "barpolar": [
           {
            "marker": {
             "line": {
              "color": "#E5ECF6",
              "width": 0.5
             }
            },
            "type": "barpolar"
           }
          ],
          "carpet": [
           {
            "aaxis": {
             "endlinecolor": "#2a3f5f",
             "gridcolor": "white",
             "linecolor": "white",
             "minorgridcolor": "white",
             "startlinecolor": "#2a3f5f"
            },
            "baxis": {
             "endlinecolor": "#2a3f5f",
             "gridcolor": "white",
             "linecolor": "white",
             "minorgridcolor": "white",
             "startlinecolor": "#2a3f5f"
            },
            "type": "carpet"
           }
          ],
          "choropleth": [
           {
            "colorbar": {
             "outlinewidth": 0,
             "ticks": ""
            },
            "type": "choropleth"
           }
          ],
          "contour": [
           {
            "colorbar": {
             "outlinewidth": 0,
             "ticks": ""
            },
            "colorscale": [
             [
              0,
              "#0d0887"
             ],
             [
              0.1111111111111111,
              "#46039f"
             ],
             [
              0.2222222222222222,
              "#7201a8"
             ],
             [
              0.3333333333333333,
              "#9c179e"
             ],
             [
              0.4444444444444444,
              "#bd3786"
             ],
             [
              0.5555555555555556,
              "#d8576b"
             ],
             [
              0.6666666666666666,
              "#ed7953"
             ],
             [
              0.7777777777777778,
              "#fb9f3a"
             ],
             [
              0.8888888888888888,
              "#fdca26"
             ],
             [
              1,
              "#f0f921"
             ]
            ],
            "type": "contour"
           }
          ],
          "contourcarpet": [
           {
            "colorbar": {
             "outlinewidth": 0,
             "ticks": ""
            },
            "type": "contourcarpet"
           }
          ],
          "heatmap": [
           {
            "colorbar": {
             "outlinewidth": 0,
             "ticks": ""
            },
            "colorscale": [
             [
              0,
              "#0d0887"
             ],
             [
              0.1111111111111111,
              "#46039f"
             ],
             [
              0.2222222222222222,
              "#7201a8"
             ],
             [
              0.3333333333333333,
              "#9c179e"
             ],
             [
              0.4444444444444444,
              "#bd3786"
             ],
             [
              0.5555555555555556,
              "#d8576b"
             ],
             [
              0.6666666666666666,
              "#ed7953"
             ],
             [
              0.7777777777777778,
              "#fb9f3a"
             ],
             [
              0.8888888888888888,
              "#fdca26"
             ],
             [
              1,
              "#f0f921"
             ]
            ],
            "type": "heatmap"
           }
          ],
          "heatmapgl": [
           {
            "colorbar": {
             "outlinewidth": 0,
             "ticks": ""
            },
            "colorscale": [
             [
              0,
              "#0d0887"
             ],
             [
              0.1111111111111111,
              "#46039f"
             ],
             [
              0.2222222222222222,
              "#7201a8"
             ],
             [
              0.3333333333333333,
              "#9c179e"
             ],
             [
              0.4444444444444444,
              "#bd3786"
             ],
             [
              0.5555555555555556,
              "#d8576b"
             ],
             [
              0.6666666666666666,
              "#ed7953"
             ],
             [
              0.7777777777777778,
              "#fb9f3a"
             ],
             [
              0.8888888888888888,
              "#fdca26"
             ],
             [
              1,
              "#f0f921"
             ]
            ],
            "type": "heatmapgl"
           }
          ],
          "histogram": [
           {
            "marker": {
             "colorbar": {
              "outlinewidth": 0,
              "ticks": ""
             }
            },
            "type": "histogram"
           }
          ],
          "histogram2d": [
           {
            "colorbar": {
             "outlinewidth": 0,
             "ticks": ""
            },
            "colorscale": [
             [
              0,
              "#0d0887"
             ],
             [
              0.1111111111111111,
              "#46039f"
             ],
             [
              0.2222222222222222,
              "#7201a8"
             ],
             [
              0.3333333333333333,
              "#9c179e"
             ],
             [
              0.4444444444444444,
              "#bd3786"
             ],
             [
              0.5555555555555556,
              "#d8576b"
             ],
             [
              0.6666666666666666,
              "#ed7953"
             ],
             [
              0.7777777777777778,
              "#fb9f3a"
             ],
             [
              0.8888888888888888,
              "#fdca26"
             ],
             [
              1,
              "#f0f921"
             ]
            ],
            "type": "histogram2d"
           }
          ],
          "histogram2dcontour": [
           {
            "colorbar": {
             "outlinewidth": 0,
             "ticks": ""
            },
            "colorscale": [
             [
              0,
              "#0d0887"
             ],
             [
              0.1111111111111111,
              "#46039f"
             ],
             [
              0.2222222222222222,
              "#7201a8"
             ],
             [
              0.3333333333333333,
              "#9c179e"
             ],
             [
              0.4444444444444444,
              "#bd3786"
             ],
             [
              0.5555555555555556,
              "#d8576b"
             ],
             [
              0.6666666666666666,
              "#ed7953"
             ],
             [
              0.7777777777777778,
              "#fb9f3a"
             ],
             [
              0.8888888888888888,
              "#fdca26"
             ],
             [
              1,
              "#f0f921"
             ]
            ],
            "type": "histogram2dcontour"
           }
          ],
          "mesh3d": [
           {
            "colorbar": {
             "outlinewidth": 0,
             "ticks": ""
            },
            "type": "mesh3d"
           }
          ],
          "parcoords": [
           {
            "line": {
             "colorbar": {
              "outlinewidth": 0,
              "ticks": ""
             }
            },
            "type": "parcoords"
           }
          ],
          "pie": [
           {
            "automargin": true,
            "type": "pie"
           }
          ],
          "scatter": [
           {
            "marker": {
             "colorbar": {
              "outlinewidth": 0,
              "ticks": ""
             }
            },
            "type": "scatter"
           }
          ],
          "scatter3d": [
           {
            "line": {
             "colorbar": {
              "outlinewidth": 0,
              "ticks": ""
             }
            },
            "marker": {
             "colorbar": {
              "outlinewidth": 0,
              "ticks": ""
             }
            },
            "type": "scatter3d"
           }
          ],
          "scattercarpet": [
           {
            "marker": {
             "colorbar": {
              "outlinewidth": 0,
              "ticks": ""
             }
            },
            "type": "scattercarpet"
           }
          ],
          "scattergeo": [
           {
            "marker": {
             "colorbar": {
              "outlinewidth": 0,
              "ticks": ""
             }
            },
            "type": "scattergeo"
           }
          ],
          "scattergl": [
           {
            "marker": {
             "colorbar": {
              "outlinewidth": 0,
              "ticks": ""
             }
            },
            "type": "scattergl"
           }
          ],
          "scattermapbox": [
           {
            "marker": {
             "colorbar": {
              "outlinewidth": 0,
              "ticks": ""
             }
            },
            "type": "scattermapbox"
           }
          ],
          "scatterpolar": [
           {
            "marker": {
             "colorbar": {
              "outlinewidth": 0,
              "ticks": ""
             }
            },
            "type": "scatterpolar"
           }
          ],
          "scatterpolargl": [
           {
            "marker": {
             "colorbar": {
              "outlinewidth": 0,
              "ticks": ""
             }
            },
            "type": "scatterpolargl"
           }
          ],
          "scatterternary": [
           {
            "marker": {
             "colorbar": {
              "outlinewidth": 0,
              "ticks": ""
             }
            },
            "type": "scatterternary"
           }
          ],
          "surface": [
           {
            "colorbar": {
             "outlinewidth": 0,
             "ticks": ""
            },
            "colorscale": [
             [
              0,
              "#0d0887"
             ],
             [
              0.1111111111111111,
              "#46039f"
             ],
             [
              0.2222222222222222,
              "#7201a8"
             ],
             [
              0.3333333333333333,
              "#9c179e"
             ],
             [
              0.4444444444444444,
              "#bd3786"
             ],
             [
              0.5555555555555556,
              "#d8576b"
             ],
             [
              0.6666666666666666,
              "#ed7953"
             ],
             [
              0.7777777777777778,
              "#fb9f3a"
             ],
             [
              0.8888888888888888,
              "#fdca26"
             ],
             [
              1,
              "#f0f921"
             ]
            ],
            "type": "surface"
           }
          ],
          "table": [
           {
            "cells": {
             "fill": {
              "color": "#EBF0F8"
             },
             "line": {
              "color": "white"
             }
            },
            "header": {
             "fill": {
              "color": "#C8D4E3"
             },
             "line": {
              "color": "white"
             }
            },
            "type": "table"
           }
          ]
         },
         "layout": {
          "annotationdefaults": {
           "arrowcolor": "#2a3f5f",
           "arrowhead": 0,
           "arrowwidth": 1
          },
          "autotypenumbers": "strict",
          "coloraxis": {
           "colorbar": {
            "outlinewidth": 0,
            "ticks": ""
           }
          },
          "colorscale": {
           "diverging": [
            [
             0,
             "#8e0152"
            ],
            [
             0.1,
             "#c51b7d"
            ],
            [
             0.2,
             "#de77ae"
            ],
            [
             0.3,
             "#f1b6da"
            ],
            [
             0.4,
             "#fde0ef"
            ],
            [
             0.5,
             "#f7f7f7"
            ],
            [
             0.6,
             "#e6f5d0"
            ],
            [
             0.7,
             "#b8e186"
            ],
            [
             0.8,
             "#7fbc41"
            ],
            [
             0.9,
             "#4d9221"
            ],
            [
             1,
             "#276419"
            ]
           ],
           "sequential": [
            [
             0,
             "#0d0887"
            ],
            [
             0.1111111111111111,
             "#46039f"
            ],
            [
             0.2222222222222222,
             "#7201a8"
            ],
            [
             0.3333333333333333,
             "#9c179e"
            ],
            [
             0.4444444444444444,
             "#bd3786"
            ],
            [
             0.5555555555555556,
             "#d8576b"
            ],
            [
             0.6666666666666666,
             "#ed7953"
            ],
            [
             0.7777777777777778,
             "#fb9f3a"
            ],
            [
             0.8888888888888888,
             "#fdca26"
            ],
            [
             1,
             "#f0f921"
            ]
           ],
           "sequentialminus": [
            [
             0,
             "#0d0887"
            ],
            [
             0.1111111111111111,
             "#46039f"
            ],
            [
             0.2222222222222222,
             "#7201a8"
            ],
            [
             0.3333333333333333,
             "#9c179e"
            ],
            [
             0.4444444444444444,
             "#bd3786"
            ],
            [
             0.5555555555555556,
             "#d8576b"
            ],
            [
             0.6666666666666666,
             "#ed7953"
            ],
            [
             0.7777777777777778,
             "#fb9f3a"
            ],
            [
             0.8888888888888888,
             "#fdca26"
            ],
            [
             1,
             "#f0f921"
            ]
           ]
          },
          "colorway": [
           "#636efa",
           "#EF553B",
           "#00cc96",
           "#ab63fa",
           "#FFA15A",
           "#19d3f3",
           "#FF6692",
           "#B6E880",
           "#FF97FF",
           "#FECB52"
          ],
          "font": {
           "color": "#2a3f5f"
          },
          "geo": {
           "bgcolor": "white",
           "lakecolor": "white",
           "landcolor": "#E5ECF6",
           "showlakes": true,
           "showland": true,
           "subunitcolor": "white"
          },
          "hoverlabel": {
           "align": "left"
          },
          "hovermode": "closest",
          "mapbox": {
           "style": "light"
          },
          "paper_bgcolor": "white",
          "plot_bgcolor": "#E5ECF6",
          "polar": {
           "angularaxis": {
            "gridcolor": "white",
            "linecolor": "white",
            "ticks": ""
           },
           "bgcolor": "#E5ECF6",
           "radialaxis": {
            "gridcolor": "white",
            "linecolor": "white",
            "ticks": ""
           }
          },
          "scene": {
           "xaxis": {
            "backgroundcolor": "#E5ECF6",
            "gridcolor": "white",
            "gridwidth": 2,
            "linecolor": "white",
            "showbackground": true,
            "ticks": "",
            "zerolinecolor": "white"
           },
           "yaxis": {
            "backgroundcolor": "#E5ECF6",
            "gridcolor": "white",
            "gridwidth": 2,
            "linecolor": "white",
            "showbackground": true,
            "ticks": "",
            "zerolinecolor": "white"
           },
           "zaxis": {
            "backgroundcolor": "#E5ECF6",
            "gridcolor": "white",
            "gridwidth": 2,
            "linecolor": "white",
            "showbackground": true,
            "ticks": "",
            "zerolinecolor": "white"
           }
          },
          "shapedefaults": {
           "line": {
            "color": "#2a3f5f"
           }
          },
          "ternary": {
           "aaxis": {
            "gridcolor": "white",
            "linecolor": "white",
            "ticks": ""
           },
           "baxis": {
            "gridcolor": "white",
            "linecolor": "white",
            "ticks": ""
           },
           "bgcolor": "#E5ECF6",
           "caxis": {
            "gridcolor": "white",
            "linecolor": "white",
            "ticks": ""
           }
          },
          "title": {
           "x": 0.05
          },
          "xaxis": {
           "automargin": true,
           "gridcolor": "white",
           "linecolor": "white",
           "ticks": "",
           "title": {
            "standoff": 15
           },
           "zerolinecolor": "white",
           "zerolinewidth": 2
          },
          "yaxis": {
           "automargin": true,
           "gridcolor": "white",
           "linecolor": "white",
           "ticks": "",
           "title": {
            "standoff": 15
           },
           "zerolinecolor": "white",
           "zerolinewidth": 2
          }
         }
        }
       }
      },
      "text/html": [
       "<div>                            <div id=\"2c233903-b6d7-4bc9-9f48-5aebc10b837e\" class=\"plotly-graph-div\" style=\"height:525px; width:100%;\"></div>            <script type=\"text/javascript\">                require([\"plotly\"], function(Plotly) {                    window.PLOTLYENV=window.PLOTLYENV || {};                                    if (document.getElementById(\"2c233903-b6d7-4bc9-9f48-5aebc10b837e\")) {                    Plotly.newPlot(                        \"2c233903-b6d7-4bc9-9f48-5aebc10b837e\",                        [{\"lat\": [null, null, null, 55.745297, 55.663146, 55.75098, null, 55.656682, null, 55.695, 55.687147, null, 55.772405, 55.740544, null, 55.740746, null, null, null, 55.769808, null, 55.736163, null, null, null, 55.772405, null, null, 55.720278, 55.777439, null, null, null, 55.75098, null, null, null, null, null, null, null, null, null, null, 55.656682, 55.796322, null, 55.740833, null, 55.777439, null, null, null, 55.655745, null, 55.70961, null, 55.782057, 55.740833, null, 55.800441, null, null, 55.682099, null, 55.800441, null, null, null, null, 55.741375, 55.774072, null, null, 55.695, 55.779584, null, null, null, 55.742396, 55.706634, null, null, null, null, 55.777201, 55.779584, null, null, null, null, 55.796322, null, 55.7491, 55.740833, null, 55.808056, 55.729741, null, 55.769808, 55.729542, null, null, null, 55.740833, null, null, null, 55.789704, 55.731414, null, null, null, null, 55.779584, 55.777439, 55.726548, null, null, null, null, 55.735679, 55.69, null, 55.760793, null, 55.780014, null, null, null, null, null, null, null, null, null, null, 55.769808, 55.7491, null, null, 55.718828, null, null, null, null, null, 55.750243, null, null, 55.823342, null, null, null, 55.740833, null, null, null, 55.769808, 55.740544, null, 55.769808, null, 55.800441, null, null, null, null, 55.793723, null, null, 55.7055, 55.7491, null, null, 55.760793, null, null, 55.825833, null, null, 55.695, null, null, null, null, null, 55.769808, 55.740833, 55.7055, null, null, 55.677671, null, null, null, null, null, null, null, null, null, null, null, null, null, null, 55.769808, null, null, null, 55.735221, null, null, 55.70961, null, null, 55.761498, 55.769808, null, null, null, 55.7491, 55.742391, 55.825833, null, null, 55.7491, null, null, null, 55.807794, null, 53.905615, 55.682099, 55.752312, null, null, null, 55.789704, null, null, null, 55.70961, 55.800441, null, 55.70961, null, 55.70961, 53.905615, 55.662379, null, null, 55.740544, 55.695, null, 55.749083, 55.800441, null, null, null, 55.720278, 55.740833, 55.769808, null, null, 55.7491, null, null, null, null, null, null, 55.825479, 55.800441, null, null, null, null, null, null, null, null, null, null, null, null, 55.769808, null, 55.7491, null, 55.740833, null, null, null, 55.740544, 55.695, 55.677671, 55.758564, null, 55.70678, 55.687147, 55.729741, 59.891788, null, null, null, null, null, 55.796322, null, 55.825833, 55.765607, 55.731414, 55.769808, null, 55.780014, null, null, null, null, null, null, 55.777439, null, 55.825479, null, 55.740544], \"lon\": [null, null, null, 37.604217, 37.482852, 37.78422, null, 37.540075, null, 37.664167, 37.5723, null, 37.67904, 37.5341, null, 37.65604, null, null, null, 37.596192, null, 37.595027, null, null, null, 37.67904, null, null, 37.563056, 37.582107, null, null, null, 37.78422, null, null, null, null, null, null, null, null, null, null, 37.540075, 37.713582, null, 37.533333, null, 37.582107, null, null, null, 37.649683, null, 37.622569, null, 37.7053, 37.533333, null, 37.530477, null, null, 37.620917, null, 37.530477, null, null, null, null, 37.415627, 37.654565, null, null, 37.664167, 37.633646, null, null, null, 37.653334, 37.657008, null, null, null, null, 37.517895, 37.633646, null, null, null, null, 37.713582, null, 37.5395, 37.533333, null, 37.581734, 37.638693, null, 37.596192, 37.470973, null, null, null, 37.533333, null, null, null, 37.558212, 37.636294, null, null, null, null, 37.633646, 37.582107, 37.624792, null, null, null, null, 37.516865, 37.618889, null, 37.581242, null, 37.666097, null, null, null, null, null, null, null, null, null, null, 37.596192, 37.5395, null, null, 37.607892, null, null, null, null, null, 37.542641, null, null, 37.385214, null, null, null, 37.533333, null, null, null, 37.596192, 37.5341, null, 37.596192, null, 37.530477, null, null, null, null, 37.61618, null, null, 37.5225, 37.5395, null, null, 37.581242, null, null, 37.496111, null, null, 37.664167, null, null, null, null, null, 37.596192, 37.533333, 37.5225, null, null, 37.562595, null, null, null, null, null, null, null, null, null, null, null, null, null, null, 37.596192, null, null, null, 37.593095, null, null, 37.622569, null, null, 37.624423, 37.596192, null, null, null, 37.5395, 37.62928, 37.496111, null, null, 37.5395, null, null, null, 37.638699, null, 27.55415, 37.620917, 37.60349, null, null, null, 37.558212, null, null, null, 37.622569, 37.530477, null, 37.622569, null, 37.622569, 27.55415, 37.605274, null, null, 37.5341, 37.664167, null, 37.582173, 37.530477, null, null, null, 37.563056, 37.533333, 37.596192, null, null, 37.5395, null, null, null, null, null, null, 37.437024, 37.530477, null, null, null, null, null, null, null, null, null, null, null, null, 37.596192, null, 37.5395, null, 37.533333, null, null, null, 37.5341, 37.664167, 37.562595, 37.659039, null, 37.58499, 37.5723, 37.638693, 30.317873, null, null, null, null, null, 37.713582, null, 37.496111, 37.604356, 37.636294, 37.596192, null, 37.666097, null, null, null, null, null, null, 37.582107, null, 37.437024, null, 37.5341], \"marker\": {\"color\": [null, 215000.0, 169499.99999999997, 250000.0, 120000.0, null, 242950.0, null, 339637.5, 282500.0, null, 96049.99999999999, null, null, null, null, null, null, null, null, null, null, null, null, null, null, null, null, null, null, null, null, null, null, 336915.0, 336915.0, 225999.99999999997, null, null, null, null, null, null, null, null, null, 409376.39999999997, null, 215000.0, null, null, null, null, null, null, null, null, null, null, null, null, null, null, null, null, null, null, null, null, null, null, null, null, null, null, null, null, null, 146900.0, null, null, null, 282500.0, null, null, null, null, null, null, null, null, null, null, null, null, null, null, null, null, null, null, null, null, null, null, null, null, null, null, null, 300000.0, null, null, null, null, null, null, null, null, null, 280762.5, 200000.0, null, 130000.0, null, null, 197749.99999999997, null, 262045.0, null, null, null, null, null, 169499.99999999997, null, null, null, null, null, null, null, null, null, null, null, null, null, null, 486655.0, null, null, null, null, null, null, null, null, null, null, null, null, null, null, null, null, null, null, null, null, null, null, null, null, null, null, null, null, null, null, null, null, null, 200000.0, null, null, null, null, null, null, 169499.99999999997, null, null, null, null, null, null, null, null, null, null, null, null, null, null, 110000.0, null, null, null, null, 224610.0, null, null, null, null, null, null, 203399.99999999997, null, null, null, null, null, null, null, null, null, null, null, null, null, null, null, null, 169499.99999999997, 90399.99999999999, null, null, null, null, null, null, null, null, null, null, null, null, null, null, null, null, null, null, null, 50849.99999999999, null, null, null, 336915.0, null, null, null, null, 200000.0, null, null, null, null, null, null, null, null, null, null, null, null, 180000.0, 225000.0, null, null, null, null, null, null, null, null, null, 146900.0, null, null, null, null, 135600.0, null, null, null, null, null, null, null, 200000.0, null, 112999.99999999999, null, null, null, 423015.5, null, null, null, null, null, null, null, null, null, null, null, null, null, null, null, null, null, null, null, null], \"colorbar\": {\"title\": {\"text\": \"\\u0417\\u0430\\u0440\\u043f\\u043b\\u0430\\u0442\\u044b\"}}}, \"text\": [\"\\u0421\\u0442\\u0430\\u0436\\u0435\\u0440 data scientist\", \"\\u0410\\u043d\\u0430\\u043b\\u0438\\u0442\\u0438\\u043a\\u00a0Data Scientist\", \"Data Scientist \\u0432 \\u043e\\u0431\\u043b\\u0430\\u0441\\u0442\\u0438 \\u043a\\u043e\\u043c\\u043f\\u044c\\u044e\\u0442\\u0435\\u0440\\u043d\\u043e\\u0433\\u043e \\u0437\\u0440\\u0435\\u043d\\u0438\\u044f\", \"Data Scientist / Quantitative Researcher\", \"Junior Data Scientist\", \"Data scientists, \\u041c\\u043b\\u0430\\u0434\\u0448\\u0438\\u0439 (Junior)\", \"Data Scientist\", \"Data Scientist\", \"Senior Data Scientist /Quantitative Analyst (\\u041a\\u0438\\u043f\\u0440)\", \"CV Senior Data Scientist\", \"Data Scientist / \\u0410\\u043d\\u0430\\u043b\\u0438\\u0442\\u0438\\u043a Data Science\", \"Data Analyst\", \"Data scientist\", \"Data scientist (ML/Python)\", \"\\u0413\\u043b\\u0430\\u0432\\u043d\\u044b\\u0439 \\u044d\\u043a\\u0441\\u043f\\u0435\\u0440\\u0442 \\u043e\\u0442\\u0434\\u0435\\u043b\\u0430 \\u044d\\u043a\\u0441\\u043f\\u0435\\u0440\\u0442\\u0438\\u0437\\u044b \\u0438 \\u0430\\u043d\\u0430\\u043b\\u0438\\u0437\\u0430 \\u0434\\u0430\\u043d\\u043d\\u044b\\u0445 (data analyst/ data scientist/\\u0430\\u043d\\u0430\\u043b\\u0438\\u0442\\u0438\\u043a \\u0434\\u0430\\u043d\\u043d\\u044b\\u0445)\", \"Data Scientist\", \"Data scientist/\\u0411\\u0438\\u0437\\u043d\\u0435\\u0441-\\u0430\\u043d\\u0430\\u043b\\u0438\\u0442\\u0438\\u043a (Junior/Middle) \\u0432 \\u043a\\u043e\\u043d\\u0441\\u0430\\u043b\\u0442\\u0438\\u043d\\u0433\", \"Team Lead/Senior Data Scientist\", \"Data scientist\", \"Data scientist (NLP)\", \"Data Scientist \\u0432 \\u043a\\u043e\\u043c\\u0430\\u043d\\u0434\\u0443 \\u043f\\u0440\\u043e\\u0433\\u043d\\u043e\\u0437\\u0438\\u0440\\u043e\\u0432\\u0430\\u043d\\u0438\\u044f \\u0441\\u043f\\u0440\\u043e\\u0441\\u0430 \\u042f\\u043d\\u0434\\u0435\\u043a\\u0441.\\u041c\\u0430\\u0440\\u043a\\u0435\\u0442\\u0430\", \"\\u0410\\u043d\\u0430\\u043b\\u0438\\u0442\\u0438\\u043a-\\u0440\\u0430\\u0437\\u0440\\u0430\\u0431\\u043e\\u0442\\u0447\\u0438\\u043a (Data Scientist)\", \"Data Scientist\", \"\\u0412\\u0435\\u0434\\u0443\\u0449\\u0438\\u0439 \\u0430\\u043d\\u0430\\u043b\\u0438\\u0442\\u0438\\u043a Data scientist\", \"Teamlead Data scientist\", \"Data scientist\", \"Data Engineer\", \"Data Scientist\", \"Data Engineer\", \"Data Scientist (computer vision)\", \"\\u0410\\u043d\\u0430\\u043b\\u0438\\u0442\\u0438\\u043a \\u0434\\u0430\\u043d\\u043d\\u044b\\u0445/ Data Scientist\", \"Data Scientist\", \"Data scientist (\\u0446\\u0438\\u0444\\u0440\\u043e\\u0432\\u044b\\u0435 \\u043f\\u043e\\u043c\\u043e\\u0449\\u043d\\u0438\\u043a\\u0438)\", \"Data scientists, \\u0421\\u0440\\u0435\\u0434\\u043d\\u0438\\u0439 (Middle)\", \"Senior Data Scientist\", \"Senior Data Engineer (AWS/Python)\", \"Senior Data Science\", \"Data scientist\", \"Quantitative Research / Data Science Intern\", \"Senior Data Scientist, Recommender Systems (London)\", \"Data scientist (\\u0446\\u0438\\u0444\\u0440\\u043e\\u0432\\u044b\\u0435 \\u0434\\u0432\\u043e\\u0439\\u043d\\u0438\\u043a\\u0438)\", \"Data scientist (\\u044d\\u043b\\u0435\\u043a\\u0442\\u0440\\u043e\\u043d\\u043d\\u044b\\u0439 \\u0434\\u043e\\u043a\\u0443\\u043c\\u0435\\u043d\\u0442\\u043e\\u043e\\u0431\\u043e\\u0440\\u043e\\u0442)\", \"Data Scientist\", \"Data Engineer\", \"Senior Data Scientist\", \"Data Analyst\", \"Data Scientist / Machine Learning Engineer // Relocation\", \"Lead Computer Vision Data Scientist\", \"Data Scientist\", \"Senior Data Scientist\", \"Data Scientist (middle or senior)\", \"\\u0420\\u0443\\u043a\\u043e\\u0432\\u043e\\u0434\\u0438\\u0442\\u0435\\u043b\\u044c \\u0433\\u0440\\u0443\\u043f\\u043f\\u044b Data \\u0438\\u043d\\u0436\\u0435\\u043d\\u0435\\u0440\\u043e\\u0432 (Chief Data Engineer)\", \"Senior Data Scientist (Computer Vision Advanced Research)\", \"Data \\u0438\\u043d\\u0436\\u0435\\u043d\\u0435\\u0440\", \"Data Scientist\", \"Senior data scientist\", \"Lead Data Scientist\", \"Senior Data Scientist/Lead Data Scientist\", \"Data Engineer\", \"\\u0418\\u043d\\u0436\\u0435\\u043d\\u0435\\u0440 \\u0434\\u0430\\u043d\\u043d\\u044b\\u0445 (Data Engineer)\", \"Senior Data Scientist / \\u0441\\u0442\\u0430\\u0440\\u0448\\u0438\\u0439 \\u043f\\u0440\\u043e\\u0433\\u0440\\u0430\\u043c\\u043c\\u0438\\u0441\\u0442-\\u0438\\u0441\\u0441\\u043b\\u0435\\u0434\\u043e\\u0432\\u0430\\u0442\\u0435\\u043b\\u044c (Delivery Club)\", \"Data scientist\", \"Data Analyst / Data Scientist / Report Developer\", \"Data Scientist + \\u041f\\u0440\\u043e\\u0434\\u0443\\u043a\\u0442\\u043e\\u0432\\u044b\\u0439 \\u0430\\u043d\\u0430\\u043b\\u0438\\u0442\\u0438\\u043a (\\u041a\\u043e\\u043c\\u0430\\u043d\\u0434\\u0430 \\u043f\\u0440\\u043e\\u0434\\u0430\\u0436\\u0438 \\u0430\\u0432\\u0438\\u0430\\u0431\\u0438\\u043b\\u0435\\u0442\\u043e\\u0432)\", \"\\u042d\\u043a\\u0441\\u043f\\u0435\\u0440\\u0442/Data Scientist \\u0432 \\u041e\\u0442\\u0434\\u0435\\u043b \\u043c\\u043e\\u0434\\u0435\\u043b\\u0435\\u0439 \\u043a\\u0440\\u0435\\u0434\\u0438\\u0442\\u043d\\u043e\\u0433\\u043e \\u0440\\u0438\\u0441\\u043a\\u0430 \\u041a\\u0411 \\u0438 \\u041c\\u0421\\u0411\", \"Data Scientist \\u0432 myTracker\", \"Data Engineer / ML Engineer \\u0432 \\u041e\\u0442\\u0434\\u0435\\u043b \\u043c\\u043e\\u0434\\u0435\\u043b\\u0438\\u0440\\u043e\\u0432\\u0430\\u043d\\u0438\\u044f CVM\", \"Lead NLP Researcher (AI Lab)\", \"Data scientist / Team Lead Data Science\", \"Data Scientist (\\u0430\\u043d\\u0430\\u043b\\u0438\\u0442\\u0438\\u043a/\\u0438\\u0441\\u0441\\u043b\\u0435\\u0434\\u043e\\u0432\\u0430\\u0442\\u0435\\u043b\\u044c \\u0434\\u0430\\u043d\\u043d\\u044b\\u0445)\", \"ML - \\u0440\\u0430\\u0437\\u0440\\u0430\\u0431\\u043e\\u0442\\u0447\\u0438\\u043a / Data Scientist\", \"Data Scientist\", \"Middle data scientist\", \"Senior Data Scientist\", \"Data Scientist (Big Data)\", \"Lead Data Scientist\", \"\\u0421\\u0442\\u0430\\u0440\\u0448\\u0438\\u0439 \\u0430\\u043d\\u0430\\u043b\\u0438\\u0442\\u0438\\u043a / Data Scientist\", \"Data Scientist\", \"Senior Data \\u0430\\u043d\\u0430\\u043b\\u0438\\u0442\\u0438\\u043a / Senior Data analyst\", \"Data scientist\", \"Data Scientist\", \"Data Scientist\", \"Senior Data Scientist (Recommender Systems)\", \"Senior Data Scientist\", \"Team lead Data Scientist\", \"Data Scientist\", \"Data Scientist\", \"Data Scientist\", \"Data Scientist\", \"Senior Data Scientist\", \"Lead Data \\u0438\\u043d\\u0436\\u0435\\u043d\\u0435\\u0440\", \"Data Engineer\", \"Data scientist Junior/Middle/Senior \\u0432 \\u043a\\u043e\\u043c\\u0430\\u043d\\u0434\\u0443 CVM & AI \\u0414\\u0438\\u0432\\u0438\\u0437\\u0438\\u043e\\u043d \\u00ab\\u041e\\u0441\\u043e\\u0431\\u0435\\u043d\\u043d\\u044b\\u0435 \\u0440\\u0435\\u0448\\u0435\\u043d\\u0438\\u044f\\u00bb\", \"Data Scientist, \\u041a\\u043b\\u0438\\u0435\\u043d\\u0442\\u0441\\u043a\\u0438\\u0435 \\u0441\\u0435\\u0440\\u0432\\u0438\\u0441\\u044b\", \"Deep Learning Engineer (SberDevices)\", \"Senior Data Scientist (Knowledge Assistant)\", \"Team Lead Speech Analytics / Senior Data Scientist in NLP\", \"Data Engineer\", \"Mid/Senior\\u00a0Data Scientist NLP/CV/ClassicML\", \"Intern, Data Science\", \"Research Scientist (Advanced Data Analytics in Science and Engineering / LARSS laboratory)\", \"Senior Data Scientist\", \"Data Engineer (\\u0423\\u043f\\u0440\\u0430\\u0432\\u043b\\u0435\\u043d\\u0438\\u0435 \\u0432\\u0430\\u043b\\u0438\\u0434\\u0430\\u0446\\u0438\\u0438)\", \"Data Engineer\", \"ML engineer/Layer (SberDevices)\", \"Senior Data Scientist\", \"Data Scientist \\u043d\\u0430 \\u043d\\u0430\\u043f\\u0440\\u0430\\u0432\\u043b\\u0435\\u043d\\u0438\\u0435 \\u043f\\u0435\\u0440\\u0441\\u043e\\u043d\\u0430\\u043b\\u0438\\u0437\\u0430\\u0446\\u0438\\u0438 \\u0441\\u0435\\u0440\\u0432\\u0438\\u0441\\u043e\\u0432\", \"Sr Manager Data Science\", \"Data Scientist (\\u0426\\u041a \\u041a\\u0425\\u0414)\", \"\\u0421\\u0442\\u0430\\u0436\\u0435\\u0440 Data Scientist, \\u0413\\u0440\\u0443\\u043f\\u043f\\u0430 \\u0443\\u043b\\u0443\\u0447\\u0448\\u0435\\u043d\\u0438\\u044f \\u0431\\u0438\\u0437\\u043d\\u0435\\u0441-\\u0442\\u0435\\u0445\\u043d\\u043e\\u043b\\u043e\\u0433\\u0438\\u0438 \\u0438 \\u0418\\u0422\", \"Data Scientist\", \"\\u0421\\u0442\\u0430\\u0440\\u0448\\u0438\\u0439 \\u0438\\u043d\\u0436\\u0435\\u043d\\u0435\\u0440 \\u0432 \\u043e\\u0431\\u043b\\u0430\\u0441\\u0442\\u0438 \\u043c\\u0430\\u0448\\u0438\\u043d\\u043d\\u043e\\u0433\\u043e \\u043e\\u0431\\u0443\\u0447\\u0435\\u043d\\u0438\\u044f (Senior Data Scientist)\", \"\\u0414\\u0438\\u0440\\u0435\\u043a\\u0442\\u043e\\u0440 (Data scientist), \\u0423\\u043f\\u0440\\u0430\\u0432\\u043b\\u0435\\u043d\\u0438\\u0435 \\u043c\\u043e\\u0434\\u0435\\u043b\\u044c\\u043d\\u044b\\u0445 \\u0440\\u0438\\u0441\\u043a\\u043e\\u0432 \\u0438 \\u0432\\u0430\\u043b\\u0438\\u0434\\u0430\\u0446\\u0438\\u0438\", \"Data Scientist (\\u0426\\u0435\\u043d\\u0442\\u0440 \\u0432\\u0430\\u043b\\u0438\\u0434\\u0430\\u0446\\u0438\\u0438 \\u043c\\u043e\\u0434\\u0435\\u043b\\u0435\\u0439 \\u0441\\u0435\\u0440\\u0432\\u0438\\u0441\\u043d\\u044b\\u0445 \\u0431\\u043b\\u043e\\u043a\\u043e\\u0432 \\u0438 \\u044d\\u043a\\u043e\\u0441\\u0438\\u0441\\u0442\\u0435\\u043c\\u044b)\", \"Data Engineer\", \"Data Scientist / Senior Data Scientist/ Lead Data Scientist\", \"Data Scientist (middle)\", \"Data Scientist\", \"Middle Data Scientist \\u0432 \\u043f\\u0440\\u043e\\u0435\\u043a\\u0442 \\u00ab\\u041e\\u043d\\u043b\\u0430\\u0439\\u043d-\\u043e\\u0446\\u0435\\u043d\\u043a\\u0430 \\u043d\\u0435\\u0434\\u0432\\u0438\\u0436\\u0438\\u043c\\u043e\\u0441\\u0442\\u0438\\u00bb\", \"Data Scientist (Big Data)\", \"Data Scientist (Payments, anti-fraud, South-Eastern Europe)\", \"Data Scientist (Middle\\\\Senior)\", \"Data Scientist\", \"Data Scientist\", \"Data scientist / \\u0420\\u0430\\u0437\\u0440\\u0430\\u0431\\u043e\\u0442\\u0447\\u0438\\u043a \\u0440\\u0435\\u043a\\u043e\\u043c\\u0435\\u043d\\u0434\\u0430\\u0442\\u0435\\u043b\\u044c\\u043d\\u044b\\u0445 \\u0441\\u0438\\u0441\\u0442\\u0435\\u043c\", \"Junior/Middle Data scientist (\\u043a\\u043e\\u043c\\u0430\\u043d\\u0434\\u0430 \\u0418\\u0421\\u0423)\", \"Marketing analyst - data scientist\", \"Data Scientist\", \"Python developer/Data Engineer\", \"Data Scientist (NLP)\", \"Data scientist (ML, HR-\\u043f\\u043b\\u0430\\u0442\\u0444\\u043e\\u0440\\u043c\\u0430)\", \"Data scientist (Rec-Sys. HR-\\u043f\\u043b\\u0430\\u0442\\u0444\\u043e\\u0440\\u043c\\u0430)\", \"Data scientist NLP (Corporate Customers 360)\", \"Data Scientist/DS Developer \\u0432 \\u043a\\u043e\\u043c\\u0430\\u043d\\u0434\\u0443 External Data Modeling and Research\", \"\\u041f\\u0440\\u0435\\u043f\\u043e\\u0434\\u0430\\u0432\\u0430\\u0442\\u0435\\u043b\\u044c \\u043f\\u043e Data Science\", \"Data Scientist\", \"Junior/Middle Data Scientist / \\u0421\\u043f\\u0435\\u0446\\u0438\\u0430\\u043b\\u0438\\u0441\\u0442 \\u043f\\u043e \\u0440\\u0435\\u043a\\u043e\\u043c\\u0435\\u043d\\u0434\\u0430\\u0442\\u0435\\u043b\\u044c\\u043d\\u044b\\u043c \\u0441\\u0435\\u0440\\u0432\\u0438\\u0441\\u0430\\u043c\", \"Data Scientist (middle)\", \"Data Scientist, \\u0422\\u043e\\u0432\\u0430\\u0440\\u043d\\u044b\\u0435 \\u0440\\u0435\\u043a\\u043e\\u043c\\u0435\\u043d\\u0434\\u0430\\u0446\\u0438\\u0438\", \"Data Scientist\", \"Middle data scientist (\\u0426\\u041a\\u041c, \\u041a\\u043e\\u0440\\u043f\\u043e\\u0440\\u0430\\u0442\\u0438\\u0432\\u043d\\u044b\\u0439 \\u0431\\u043b\\u043e\\u043a)\", \"Senior Data Scientist (\\u041a\\u043e\\u043c\\u0430\\u043d\\u0434\\u0430 \\u041f\\u043e\\u0438\\u0441\\u043a\\u0430)\", \"\\u0422eam lead \\u043a\\u043e\\u043c\\u0430\\u043d\\u0434\\u044b \\u043f\\u043e \\u0430\\u0434\\u0430\\u043f\\u0442\\u0438\\u0440\\u043e\\u0432\\u0430\\u043d\\u0438\\u044e/\\u0434\\u043e\\u0440\\u0430\\u0431\\u043e\\u0442\\u043a\\u0435 BATCH- \\u043c\\u043e\\u0434\\u0435\\u043b\\u0435\\u0439 (Big data)\", \"Data Scientist\", \"Senior Data Scientist\", \"Data Scientist\", \"Data Scientist (\\u041a\\u0438\\u043f\\u0440)\", \"Data scientist \\u043f\\u043e \\u043f\\u043e\\u0441\\u0442\\u0440\\u043e\\u0435\\u043d\\u0438\\u044e \\u043c\\u043e\\u0434\\u0435\\u043b\\u0435\\u0439 \\u043e\\u0446\\u0435\\u043d\\u043a\\u0438 \\u043a\\u0440\\u0435\\u0434\\u0438\\u0442\\u043d\\u043e\\u0433\\u043e \\u0440\\u0438\\u0441\\u043a\\u0430 \\u0434\\u043b\\u044f \\u043a\\u043b\\u0438\\u0435\\u043d\\u0442\\u043e\\u0432 \\u041c\\u0421\\u0411 (Big Data)\", \"Data scientist \\u0432 \\u0443\\u043f\\u0440\\u0430\\u0432\\u043b\\u0435\\u043d\\u0438\\u0435 \\u0440\\u043e\\u0437\\u043d\\u0438\\u0447\\u043d\\u043e\\u0433\\u043e \\u043c\\u043e\\u0434\\u0435\\u043b\\u0438\\u0440\\u043e\\u0432\\u0430\\u043d\\u0438\\u044f\", \"Python Developer / ML Engineer\", \"\\u041c\\u0430\\u0440\\u043a\\u0435\\u0442\\u043e\\u043b\\u043e\\u0433-\\u0430\\u043d\\u0430\\u043b\\u0438\\u0442\\u0438\\u043a / \\u0412\\u0435\\u0431 \\u0430\\u043d\\u0430\\u043b\\u0438\\u0442\\u0438\\u043a / Data scientist\", \"Data analyst (\\u0431\\u043b\\u043e\\u043a \\u0423\\u043f\\u0440\\u0430\\u0432\\u043b\\u0435\\u043d\\u0438\\u0435 \\u0411\\u043b\\u0430\\u0433\\u043e\\u0441\\u043e\\u0441\\u0442\\u043e\\u044f\\u043d\\u0438\\u0435\\u043c)\", \"Senior Data Scientist \\u0432 \\u043a\\u043e\\u043c\\u0430\\u043d\\u0434\\u0443 \\u0433\\u0435\\u043d\\u0435\\u0442\\u0438\\u043a\\u0438 (AI Lab)\", \"Lead Data Scientist (ML)\", \"Deep Learning Engineer (SberDevices)\", \"Senior Data Scientist NLP. \\u0414\\u0438\\u0432\\u0438\\u0437\\u0438\\u043e\\u043d `\\u041c\\u0430\\u0441\\u0441\\u043e\\u0432\\u0430\\u044f \\u043f\\u0435\\u0440\\u0441\\u043e\\u043d\\u0430\\u043b\\u0438\\u0437\\u0430\\u0446\\u0438\\u044f`\", \"Senior Data Scientist / Team Lead\", \"Product owner/Lead Data Scientist (\\u043a\\u043e\\u043c\\u0430\\u043d\\u0434\\u0430 \\u0412\\u042d\\u0414_DS)\", \"Team Lead /Senior data scientist (\\u043a\\u043e\\u043c\\u043c\\u0435\\u0440\\u0447\\u0435\\u0441\\u043a\\u043e\\u0435 \\u043d\\u0430\\u043f\\u0440\\u0430\\u0432\\u043b\\u0435\\u043d\\u0438\\u0435)\", \"Data engineer\", \"Data Scientist\", \"Senior Data Scientist (CV-\\u0430\\u043b\\u0433\\u043e\\u0440\\u0438\\u0442\\u043c\\u044b)\", \"Data Scientist (PFM, \\u0431\\u043b\\u043e\\u043a \\u0423\\u043f\\u0440\\u0430\\u0432\\u043b\\u0435\\u043d\\u0438\\u0435 \\u0411\\u043b\\u0430\\u0433\\u043e\\u0441\\u043e\\u0441\\u0442\\u043e\\u044f\\u043d\\u0438\\u0435\\u043c)\", \"Senior Data Engineer\", \"\\u041f\\u0440\\u043e\\u0432\\u0435\\u0440\\u044f\\u044e\\u0449\\u0438\\u0439 \\u043f\\u0440\\u0435\\u043f\\u043e\\u0434\\u0430\\u0432\\u0430\\u0442\\u0435\\u043b\\u044c \\u043d\\u0430 \\u043a\\u0443\\u0440\\u0441 \\\"Data Scientist\\\"\", \"Data Scientist\", \"Data Scientist\", \"Senior Data scientist (\\u043f\\u043e\\u0440\\u0442\\u0444\\u0435\\u043b\\u044c\\u043d\\u043e\\u0435 \\u043c\\u043e\\u0434\\u0435\\u043b\\u0438\\u0440\\u043e\\u0432\\u0430\\u043d\\u0438\\u0435)\", \"Data Scientist / \\u0421\\u043f\\u0435\\u0446\\u0438\\u0430\\u043b\\u0438\\u0441\\u0442 \\u043f\\u043e Data Science\", \"Middle/Senior Data Scientist / \\u0421\\u043f\\u0435\\u0446\\u0438\\u0430\\u043b\\u0438\\u0441\\u0442 \\u043f\\u043e \\u0440\\u0435\\u043a\\u043e\\u043c\\u0435\\u043d\\u0434\\u0430\\u0442\\u0435\\u043b\\u044c\\u043d\\u044b\\u043c \\u0441\\u0435\\u0440\\u0432\\u0438\\u0441\\u0430\\u043c\", \"Data Engineer (\\u0434\\u0438\\u0432\\u0438\\u0437\\u0438\\u043e\\u043d `\\u041c\\u0430\\u0441\\u0441\\u043e\\u0432\\u0430\\u044f \\u043f\\u0435\\u0440\\u0441\\u043e\\u043d\\u0430\\u043b\\u0438\\u0437\\u0430\\u0446\\u0438\\u044f`)\", \"Research Scientist for Multiphase Flow Metering\", \"Data Scientist, Price and Assortment Monitoring / \\u0410\\u0432\\u0442\\u043e\\u043c\\u0430\\u0442\\u0438\\u0447\\u0435\\u0441\\u043a\\u0438\\u0439 \\u043c\\u0430\\u0442\\u0447\\u0438\\u043d\\u0433\", \"\\u0410\\u043d\\u0430\\u043b\\u0438\\u0442\\u0438\\u043a (\\u044d\\u043a\\u043e\\u043d\\u043e\\u043c\\u0435\\u0442\\u0440\\u0438\\u0447\\u0435\\u0441\\u043a\\u043e\\u0435 \\u043c\\u043e\\u0434\\u0435\\u043b\\u0438\\u0440\\u043e\\u0432\\u0430\\u043d\\u0438\\u0435) / Data scientist\", \"\\u0421\\u0442\\u0430\\u0440\\u0448\\u0438\\u0439 \\u0410\\u043d\\u0430\\u043b\\u0438\\u0442\\u0438\\u043a (\\u042d\\u043a\\u043e\\u043d\\u043e\\u043c\\u0435\\u0442\\u0440\\u0438\\u0447\\u0435\\u0441\\u043a\\u043e\\u0435 \\u043c\\u043e\\u0434\\u0435\\u043b\\u0438\\u0440\\u043e\\u0432\\u0430\\u043d\\u0438\\u0435)/ Senior Data scientist\", \"Data Scientist (\\u043f\\u0435\\u0440\\u0441\\u043e\\u043d\\u0430\\u043b\\u0438\\u0437\\u0430\\u0446\\u0438\\u044f \\u0432\\u0438\\u0442\\u0440\\u0438\\u043d)\", \"Data scientist (\\u043a\\u043e\\u043c\\u0430\\u043d\\u0434\\u0430 \\u0418\\u0421\\u0423)\", \"\\u0422eam lead \\u043a\\u043e\\u043c\\u0430\\u043d\\u0434\\u044b \\u043f\\u043e \\u0430\\u0434\\u0430\\u043f\\u0442\\u0438\\u0440\\u043e\\u0432\\u0430\\u043d\\u0438\\u044e/\\u0434\\u043e\\u0440\\u0430\\u0431\\u043e\\u0442\\u043a\\u0435 \\u043c\\u043e\\u0434\\u0435\\u043b\\u0435\\u0439 (Big data)\", \"Data Scientist NLP\", \"Data Scientist - \\u043a\\u043e\\u043c\\u0430\\u043d\\u0434\\u0430 CLTV. \\u0414\\u0438\\u0432\\u0438\\u0437\\u0438\\u043e\\u043d `\\u041c\\u0430\\u0441\\u0441\\u043e\\u0432\\u0430\\u044f \\u043f\\u0435\\u0440\\u0441\\u043e\\u043d\\u0430\\u043b\\u0438\\u0437\\u0430\\u0446\\u0438\\u044f`\", \"Senior Data Scientist (ML)\", \"Data Scientist \\u0432 \\u043a\\u043e\\u043c\\u0430\\u043d\\u0434\\u0443 CRM\", \"Customer Facing Data Scientists (Remote option)\", \"Cloud Data Scientist (remote)\", \"Data Scientist\", \"Data Scientist\", \"Data Science Lead\", \"Data engineer\", \"ML engineer/Layer (SberDevices)\", \"Research Scientist for Reservoir Engineering Data Analytics\", \"Data Scientist\", \"Data Scientist (recommender systems)\", \"Data scientist (\\u0430\\u043d\\u0430\\u043b\\u0438\\u0442\\u0438\\u043a \\u0434\\u0430\\u043d\\u043d\\u044b\\u0445)\", \"Data Scientist (\\u0440\\u0430\\u0437\\u0440\\u0430\\u0431\\u043e\\u0442\\u0447\\u0438\\u043a)\", \"\\u041c\\u0430\\u0442\\u0435\\u043c\\u0430\\u0442\\u0438\\u043a/data scientist\", \"Data engineer\", \"Data Scientist\", \"Data Scientist\", \"Data Analytics Consultant\", \"Business Data Scientist (Cyprus)\", \"Data Scientist / Machine Learning Engineer\", \"\\u0410\\u043d\\u0430\\u043b\\u0438\\u0442\\u0438\\u043a \\u0434\\u0430\\u043d\\u043d\\u044b\\u0445 / Data scientist (SIEM)\", \"Big-Data & HPC Scientist\", \"Data Scientist at Sber Corporate (\\u0423\\u043f\\u0440\\u0430\\u0432\\u043b\\u0435\\u043d\\u0438\\u0435 \\u043f\\u0440\\u043e\\u0434\\u0430\\u0436\\u0430\\u043c\\u0438 \\u0432 \\u0421\\u0443\\u0431\\u044a\\u0435\\u043a\\u0442\\u0430\\u0445 \\u0420\\u0424)\", \"Data Analyst/ Data Scientist\", \"Data Scientist/\\u0410\\u043d\\u0430\\u043b\\u0438\\u0442\\u0438\\u043a \\u0434\\u0430\\u043d\\u043d\\u044b\\u0445\", \"Lead Data Scientist (Remote option)\", \"Data Scientist (\\u043a\\u043e\\u043c\\u043c\\u0435\\u0440\\u0447\\u0435\\u0441\\u043a\\u043e\\u0435 \\u043d\\u0430\\u043f\\u0440\\u0430\\u0432\\u043b\\u0435\\u043d\\u0438\\u0435)\", \"Data Engineer / Data Scientist\", \"Data Scientist, Capital Markets\", \"Data Scientist\", \"Data Scientist (ML Engineer)\", \"Data scientist\", \"Senior Data Scientist (NLP)\", \"Data scientist\", \"Product Data Analyst (Perm)\", \"Junior Data Scientist\", \"Data Scientist / Machine Learning Engineer\", \"Data Scientist\", \"Data Scientist\", \"Data Scientist\", \"B2B Data Scientist (Python, SQL)\", \"Data Scientist, \\u0410\\u0432\\u0442\\u043e\\u043c\\u043e\\u0434\\u0435\\u0440\\u0430\\u0446\\u0438\\u044f\", \"Senior Data Scientist\", \"Data Analyst\", \"Senior Data Engineer (\\u0411\\u0435\\u0440\\u043b\\u0438\\u043d / \\u0411\\u0440\\u0430\\u0443\\u043d\\u0448\\u0432\\u0430\\u0439\\u0433)\", \"Data Scientist\", \"Data Scientist, \\u041f\\u043e\\u0438\\u0441\\u043a\", \"Data Scientist\", \"Data Scientist\", \"Middle Data Scientist \\u0432 \\u043a\\u043e\\u043c\\u0430\\u043d\\u0434\\u0443 \\u0442\\u0440\\u0430\\u0439\\u0431\\u0430 \\u00ab\\u042d\\u043a\\u0432\\u0430\\u0439\\u0440\\u0438\\u043d\\u0433\\u00bb\", \"Senior Data Scientist\", \"Business Data Scientist (Cyprus)\", \"Data Scientist (Computer vision, NLP) - Syntagma Team\", \"Data Engineer\", \"Data \\u0430\\u043d\\u0430\\u043b\\u0438\\u0442\\u0438\\u043a/Data Scientist(Python, SQL)\", \"Data engineer\", \"Senior Data Scientist\", \"Senior Data Scientist (probabilistic modelling)\", \"Data Scientist\", \"Data Scientist (NLP)\", \"Team Lead Data Science\", \"Senior Data Scientist NLP\", \"Senior Data Scientist\", \"Middle / Senior Data Scientist\", \"\\u0420\\u0443\\u043a\\u043e\\u0432\\u043e\\u0434\\u0438\\u0442\\u0435\\u043b\\u044c \\u043d\\u0430\\u043f\\u0440\\u0430\\u0432\\u043b\\u0435\\u043d\\u0438\\u044f \\u043f\\u043e \\u0430\\u043d\\u0430\\u043b\\u0438\\u0442\\u0438\\u043a\\u0435 \\u0434\\u0430\\u043d\\u043d\\u044b\\u0445 (Lead data scientist)\", \"Data Scientist (middle)\", \"Data Scientist NLP (middle/ senior)\", \"ML Engineer / Data Scientist\", \"Senior Data Scientist (Computer Vision) - Syntagma Team\", \"Middle data scientist\", \"Senior Data Scientist (Tech Lead)\", \"Technical Lead \\u0432 Data Science-\\u043a\\u043e\\u043c\\u0430\\u043d\\u0434\\u0443/ML Engineer\", \"Junior Data Scientist (SberDevices)\", \"Junior Data Scientist \\u0432 \\u043a\\u043e\\u043c\\u0430\\u043d\\u0434\\u0443 \\u043a\\u043e\\u043c\\u043f\\u043b\\u0430\\u0435\\u043d\\u0441-\\u043a\\u043e\\u043d\\u0442\\u0440\\u043e\\u043b\\u044f\", \"Junior data scientist( AI \\u0440\\u0430\\u0437\\u0440\\u0430\\u0431\\u043e\\u0442\\u0447\\u0438\\u043a )\", \"AI researcher\", \"ML Engineer\", \"Researcher / Sourcer\", \"Machine Learning Developer (remote)\", \"Junior Product owner / Project manager / \\u0421\\u0438\\u0441\\u0442\\u0435\\u043c\\u043d\\u044b\\u0439 \\u0430\\u043d\\u0430\\u043b\\u0438\\u0442\\u0438\\u043a / \\u0411\\u0438\\u0437\\u043d\\u0435\\u0441-\\u0430\\u043d\\u0430\\u043b\\u0438\\u0442\\u0438\\u043a\", \"Java Developer (BigData)\", \"NLP engineer (SberDevices)\", \"\\u041c\\u0435\\u043d\\u0435\\u0434\\u0436\\u0435\\u0440 \\u043f\\u0440\\u043e\\u0435\\u043a\\u0442\\u043e\\u0432 \\u0432 \\u043d\\u0430\\u043f\\u0440\\u0430\\u0432\\u043b\\u0435\\u043d\\u0438\\u0438 Big Data\", \"\\u0410\\u0434\\u043c\\u0438\\u043d\\u0438\\u0441\\u0442\\u0440\\u0430\\u0442\\u043e\\u0440 \\u0438 \\u0440\\u0430\\u0437\\u0440\\u0430\\u0431\\u043e\\u0442\\u0447\\u0438\\u043a \\u043f\\u043b\\u0430\\u0442\\u0444\\u043e\\u0440\\u043c\\u044b \\u0431\\u043e\\u043b\\u044c\\u0448\\u0438\\u0445 \\u0434\\u0430\\u043d\\u043d\\u044b\\u0445\", \"Researcher, scheduling algorithms\", \"Medical Advisor/ Medical Science Liaison\", \"\\u041c\\u0435\\u043d\\u0435\\u0434\\u0436\\u0435\\u0440 \\u043f\\u0440\\u043e\\u0434\\u0443\\u043a\\u0442\\u0430 \\u0431\\u0438\\u043e\\u043c\\u0435\\u0442\\u0440\\u0438\\u0438 (Product manager)\", \"Researcher, operations research and optimization\", \"Data Engineer (Middle)\", \"Python \\u0440\\u0430\\u0437\\u0440\\u0430\\u0431\\u043e\\u0442\\u0447\\u0438\\u043a (django)\", \"\\u041f\\u0440\\u043e\\u0433\\u0440\\u0430\\u043c\\u043c\\u0438\\u0441\\u0442 Python (Middle)\", \"\\u0410\\u043d\\u0430\\u043b\\u0438\\u0442\\u0438\\u043a \\u043f\\u043e \\u0443\\u043f\\u0440\\u0430\\u0432\\u043b\\u0435\\u043d\\u0438\\u044e \\u0434\\u0430\\u043d\\u043d\\u044b\\u043c\\u0438\", \"New Business Development Manager\", \"\\u0420\\u0430\\u0437\\u0440\\u0430\\u0431\\u043e\\u0442\\u0447\\u0438\\u043a BI-DWH\", \"\\u0412\\u0435\\u0434\\u0443\\u0449\\u0438\\u0439 \\u0438\\u043d\\u0436\\u0435\\u043d\\u0435\\u0440 \\u0431\\u043e\\u043b\\u044c\\u0448\\u0438\\u0445 \\u0434\\u0430\\u043d\\u043d\\u044b\\u0445 (Lead Data)\", \"PandaOmics Global Product Manager\", \"Java-\\u0440\\u0430\\u0437\\u0440\\u0430\\u0431\\u043e\\u0442\\u0447\\u0438\\u043a Middle+\", \"Head of HR\", \"Project Manager (Marketing BI Analytics)\", \"Data Engineer (\\u0415\\u0434\\u0438\\u043d\\u044b\\u0439 \\u0432\\u0438\\u0440\\u0442\\u0443\\u0430\\u043b\\u044c\\u043d\\u044b\\u0439 \\u0430\\u0441\\u0441\\u0438\\u0441\\u0442\\u0435\\u043d\\u0442 \\u0441\\u043e\\u0442\\u0440\\u0443\\u0434\\u043d\\u0438\\u043a\\u0430)\", \"\\u0410\\u043d\\u0430\\u043b\\u0438\\u0442\\u0438\\u043a \\u043a\\u043b\\u0438\\u0435\\u043d\\u0442\\u0441\\u043a\\u043e\\u0439 \\u0431\\u0430\\u0437\\u044b \\u0434\\u0430\\u043d\\u043d\\u044b\\u0445\", \"Student guidance manager (USA) at Practicum by Yandex\", \"DevOps\", \"\\u0410\\u043d\\u0430\\u043b\\u0438\\u0442\\u0438\\u043a\", \"\\u0421\\u0438\\u0441\\u0442\\u0435\\u043c\\u043d\\u044b\\u0439 \\u0430\\u043d\\u0430\\u043b\\u0438\\u0442\\u0438\\u043a\", \"\\u0421\\u0438\\u0441\\u0442\\u0435\\u043c\\u043d\\u044b\\u0439 \\u0430\\u043d\\u0430\\u043b\\u0438\\u0442\\u0438\\u043a\", \"\\u0418\\u043d\\u0436\\u0435\\u043d\\u0435\\u0440 ML-\\u0440\\u0430\\u0437\\u0440\\u0430\\u0431\\u043e\\u0442\\u043a\\u0438 (Pydata)\", \"Middle/Senior NodeJS \\u0440\\u0430\\u0437\\u0440\\u0430\\u0431\\u043e\\u0442\\u0447\\u0438\\u043a\", \"\\u0421\\u0442\\u0430\\u0440\\u0448\\u0438\\u0439 \\u0430\\u043d\\u0430\\u043b\\u0438\\u0442\\u0438\\u043a-\\u043c\\u0430\\u0442\\u0435\\u043c\\u0430\\u0442\\u0438\\u043a\", \"\\u0424\\u0440\\u043e\\u043d\\u0442\\u044d\\u043d\\u0434\\u0435\\u0440 \\u043d\\u0430 JS (React/Redux)\", \"NLP engineer (SberDevices)\", \"\\u0412\\u043b\\u0430\\u0434\\u0435\\u043b\\u0435\\u0446 \\u043f\\u0440\\u043e\\u0434\\u0443\\u043a\\u0442\\u0430 \\u0434\\u043b\\u044f \\u0432\\u043d\\u0443\\u0442\\u0440\\u0435\\u043d\\u043d\\u0438\\u0445 Data&Analytics \\u043f\\u0440\\u043e\\u0434\\u0443\\u043a\\u0442\\u043e\\u0432 \\u041c\\u0430\\u0433\\u043d\\u0438\\u0442\", \"\\u041f\\u0440\\u0435\\u043f\\u043e\\u0434\\u0430\\u0432\\u0430\\u0442\\u0435\\u043b\\u044c \\u043a\\u0443\\u0440\\u0441\\u0430 \\u041c\\u0430\\u0448\\u0438\\u043d\\u043d\\u043e\\u0435 \\u043e\\u0431\\u0443\\u0447\\u0435\\u043d\\u0438\\u0435\", \"\\u0410\\u043d\\u0430\\u043b\\u0438\\u0442\\u0438\\u043a SQL\", \"Search Engineer\", \"DevOps engineer \\u0432 \\u043a\\u043e\\u043c\\u0430\\u043d\\u0434\\u0443 Data Lake\", \"\\u0410\\u043d\\u0430\\u043b\\u0438\\u0442\\u0438\\u043a \\u0434\\u0430\\u043d\\u043d\\u044b\\u0445, \\u0437\\u0430\\u0434\\u0430\\u0447\\u0438 \\u043f\\u043e \\u0442\\u0435\\u0445\\u043d\\u043e\\u043b\\u043e\\u0433\\u0438\\u0447\\u0435\\u0441\\u043a\\u043e\\u0439 \\u043e\\u043f\\u0442\\u0438\\u043c\\u0438\\u0437\\u0430\\u0446\\u0438\\u0438\", \"\\u0421\\u043f\\u0435\\u0446\\u0438\\u0430\\u043b\\u0438\\u0441\\u0442 \\u043f\\u043e \\u0430\\u043d\\u0430\\u043b\\u0438\\u0437\\u0443 \\u0434\\u0430\\u043d\\u043d\\u044b\\u0445\", \"Product owner/ Lead DS (\\u0426\\u0438\\u0444\\u0440\\u043e\\u0432\\u043e\\u0439 \\u043a\\u0440\\u0435\\u0434\\u0438\\u0442\\u043d\\u044b\\u0439 \\u043c\\u043e\\u043d\\u0438\\u0442\\u043e\\u0440\\u0438\\u043d\\u0433)\", \"\\u0420\\u0443\\u043a\\u043e\\u0432\\u043e\\u0434\\u0438\\u0442\\u0435\\u043b\\u044c \\u043e\\u0442\\u0434\\u0435\\u043b\\u0430 \\u0440\\u0430\\u0437\\u0440\\u0430\\u0431\\u043e\\u0442\\u043a\\u0438 \\u041f\\u041e - HeadDev\", \"\\u0420\\u0443\\u043a\\u043e\\u0432\\u043e\\u0434\\u0438\\u0442\\u0435\\u043b\\u044c \\u043e\\u0442\\u0434\\u0435\\u043b\\u0430 \\u0440\\u0430\\u0437\\u0440\\u0430\\u0431\\u043e\\u0442\\u043a\\u0438 \\u041f\\u041e\", \"\\u0410\\u043d\\u0430\\u043b\\u0438\\u0442\\u0438\\u043a BI\", \"Web Analyst (Google Analytics evangelist) / remote\", \"Senior Full Stack Developer (\\u0411\\u0435\\u0440\\u043b\\u0438\\u043d / \\u0411\\u0440\\u0430\\u0443\\u043d\\u0448\\u0432\\u0430\\u0439\\u0433)\", \"DevOps \\u0438\\u043d\\u0436\\u0435\\u043d\\u0435\\u0440\", \"\\u0410\\u043d\\u0434\\u0440\\u043e\\u0438\\u0434 \\u0420\\u0430\\u0437\\u0440\\u0430\\u0431\\u043e\\u0442\\u0447\\u0438\\u043a (Android Developer)\", \"Senior Fullstack Developer (Python, React, remote)\", \"\\u042d\\u043a\\u0441\\u043f\\u0435\\u0440\\u0442 \\u0432 \\u0423\\u043f\\u0440\\u0430\\u0432\\u043b\\u0435\\u043d\\u0438\\u0435 \\u0440\\u043e\\u0437\\u043d\\u0438\\u0447\\u043d\\u043e\\u0433\\u043e \\u043c\\u043e\\u0434\\u0435\\u043b\\u0438\\u0440\\u043e\\u0432\\u0430\\u043d\\u0438\\u044f\", \"\\u0414\\u0438\\u0440\\u0435\\u043a\\u0442\\u043e\\u0440 \\u043f\\u043e \\u043c\\u0430\\u0440\\u043a\\u0435\\u0442\\u0438\\u043d\\u0433\\u0443\", \"Data scientist/\\u0440\\u0430\\u0437\\u0440\\u0430\\u0431\\u043e\\u0442\\u043a\\u0430 \\u043c\\u043e\\u0434\\u0435\\u043b\\u0435\\u0439 \\u043e\\u0446\\u0435\\u043d\\u043a\\u0438 \\u043a\\u0440\\u0435\\u0434\\u0438\\u0442\\u043d\\u043e\\u0433\\u043e \\u0440\\u0438\\u0441\\u043a\\u0430 \\u0434\\u043b\\u044f \\u043a\\u043b\\u0438\\u0435\\u043d\\u0442\\u043e\\u0432 \\u043c\\u0430\\u043b\\u043e\\u0433\\u043e \\u0438 \\u0441\\u0440\\u0435\\u0434\\u043d\\u0435\\u0433\\u043e \\u0431\\u0438\\u0437\\u043d\\u0435\\u0441\\u0430\", \"\\u0420\\u0430\\u0437\\u0440\\u0430\\u0431\\u043e\\u0442\\u0447\\u0438\\u043a Python\", \"\\u0410\\u0440\\u0445\\u0438\\u0442\\u0435\\u043a\\u0442\\u043e\\u0440 \\u0434\\u0430\\u043d\\u043d\\u044b\\u0445 DWH\", \"\\u0421\\u043f\\u0435\\u0446\\u0438\\u0430\\u043b\\u0438\\u0441\\u0442 \\u043f\\u043e \\u043f\\u0440\\u043e\\u0434\\u0432\\u0438\\u0436\\u0435\\u043d\\u0438\\u044e \\u0431\\u0440\\u0435\\u043d\\u0434\\u0430 \\u0440\\u0430\\u0431\\u043e\\u0442\\u043e\\u0434\\u0430\\u0442\\u0435\\u043b\\u044f (Talent Brand)\", \"\\u0420\\u0443\\u043a\\u043e\\u0432\\u043e\\u0434\\u0438\\u0442\\u0435\\u043b\\u044c \\u043f\\u0440\\u043e\\u0435\\u043a\\u0442\\u043e\\u0432 (Big Data)\", \"Assistant for Client Development\", \"\\u0410\\u043d\\u0430\\u043b\\u0438\\u0442\\u0438\\u043a BI/DWH\", \"Middle/Senior Data Scientist (\\u0414\\u0435\\u043f\\u0430\\u0440\\u0442\\u0430\\u043c\\u0435\\u043d\\u0442\\u0430 \\u041c\\u0430\\u0440\\u043a\\u0435\\u0442\\u0438\\u043d\\u0433\\u0430 \\u0438 \\u041a\\u043e\\u043c\\u043c\\u0443\\u043d\\u0438\\u043a\\u0430\\u0446\\u0438\\u0439)\", \"Head of Analytics\", \"Python-\\u0440\\u0430\\u0437\\u0440\\u0430\\u0431\\u043e\\u0442\\u0447\\u0438\\u043a (\\u0426\\u041a\\u041c)\", \"\\u0420\\u0435\\u043a\\u0440\\u0443\\u0442\\u0435\\u0440\", \"Market Analyst\", \"Consumer Insights Client Consultant (Quantitative)\", \"IT Recruiter\", \"\\u0410\\u043d\\u0430\\u043b\\u0438\\u0442\\u0438\\u043a \\u0434\\u0430\\u043d\\u043d\\u044b\\u0445\", \"Client Consultant (market research, FMCG sector)\", \"Product Manager (Analytics)\", \"Java Developer (\\u0421\\u0438\\u0441\\u0442\\u0435\\u043c\\u0430 \\u0443\\u043f\\u0440\\u0430\\u0432\\u043b\\u0435\\u043d\\u0438\\u044f \\u0437\\u043d\\u0430\\u043d\\u0438\\u044f\\u043c\\u0438 \\u0438 \\u043f\\u043e\\u0438\\u0441\\u043a)\"], \"type\": \"scattermapbox\"}],                        {\"mapbox\": {\"center\": {\"lat\": 55.745297, \"lon\": 37.604217}, \"style\": \"open-street-map\", \"zoom\": 9}, \"template\": {\"data\": {\"bar\": [{\"error_x\": {\"color\": \"#2a3f5f\"}, \"error_y\": {\"color\": \"#2a3f5f\"}, \"marker\": {\"line\": {\"color\": \"#E5ECF6\", \"width\": 0.5}}, \"type\": \"bar\"}], \"barpolar\": [{\"marker\": {\"line\": {\"color\": \"#E5ECF6\", \"width\": 0.5}}, \"type\": \"barpolar\"}], \"carpet\": [{\"aaxis\": {\"endlinecolor\": \"#2a3f5f\", \"gridcolor\": \"white\", \"linecolor\": \"white\", \"minorgridcolor\": \"white\", \"startlinecolor\": \"#2a3f5f\"}, \"baxis\": {\"endlinecolor\": \"#2a3f5f\", \"gridcolor\": \"white\", \"linecolor\": \"white\", \"minorgridcolor\": \"white\", \"startlinecolor\": \"#2a3f5f\"}, \"type\": \"carpet\"}], \"choropleth\": [{\"colorbar\": {\"outlinewidth\": 0, \"ticks\": \"\"}, \"type\": \"choropleth\"}], \"contour\": [{\"colorbar\": {\"outlinewidth\": 0, \"ticks\": \"\"}, \"colorscale\": [[0.0, \"#0d0887\"], [0.1111111111111111, \"#46039f\"], [0.2222222222222222, \"#7201a8\"], [0.3333333333333333, \"#9c179e\"], [0.4444444444444444, \"#bd3786\"], [0.5555555555555556, \"#d8576b\"], [0.6666666666666666, \"#ed7953\"], [0.7777777777777778, \"#fb9f3a\"], [0.8888888888888888, \"#fdca26\"], [1.0, \"#f0f921\"]], \"type\": \"contour\"}], \"contourcarpet\": [{\"colorbar\": {\"outlinewidth\": 0, \"ticks\": \"\"}, \"type\": \"contourcarpet\"}], \"heatmap\": [{\"colorbar\": {\"outlinewidth\": 0, \"ticks\": \"\"}, \"colorscale\": [[0.0, \"#0d0887\"], [0.1111111111111111, \"#46039f\"], [0.2222222222222222, \"#7201a8\"], [0.3333333333333333, \"#9c179e\"], [0.4444444444444444, \"#bd3786\"], [0.5555555555555556, \"#d8576b\"], [0.6666666666666666, \"#ed7953\"], [0.7777777777777778, \"#fb9f3a\"], [0.8888888888888888, \"#fdca26\"], [1.0, \"#f0f921\"]], \"type\": \"heatmap\"}], \"heatmapgl\": [{\"colorbar\": {\"outlinewidth\": 0, \"ticks\": \"\"}, \"colorscale\": [[0.0, \"#0d0887\"], [0.1111111111111111, \"#46039f\"], [0.2222222222222222, \"#7201a8\"], [0.3333333333333333, \"#9c179e\"], [0.4444444444444444, \"#bd3786\"], [0.5555555555555556, \"#d8576b\"], [0.6666666666666666, \"#ed7953\"], [0.7777777777777778, \"#fb9f3a\"], [0.8888888888888888, \"#fdca26\"], [1.0, \"#f0f921\"]], \"type\": \"heatmapgl\"}], \"histogram\": [{\"marker\": {\"colorbar\": {\"outlinewidth\": 0, \"ticks\": \"\"}}, \"type\": \"histogram\"}], \"histogram2d\": [{\"colorbar\": {\"outlinewidth\": 0, \"ticks\": \"\"}, \"colorscale\": [[0.0, \"#0d0887\"], [0.1111111111111111, \"#46039f\"], [0.2222222222222222, \"#7201a8\"], [0.3333333333333333, \"#9c179e\"], [0.4444444444444444, \"#bd3786\"], [0.5555555555555556, \"#d8576b\"], [0.6666666666666666, \"#ed7953\"], [0.7777777777777778, \"#fb9f3a\"], [0.8888888888888888, \"#fdca26\"], [1.0, \"#f0f921\"]], \"type\": \"histogram2d\"}], \"histogram2dcontour\": [{\"colorbar\": {\"outlinewidth\": 0, \"ticks\": \"\"}, \"colorscale\": [[0.0, \"#0d0887\"], [0.1111111111111111, \"#46039f\"], [0.2222222222222222, \"#7201a8\"], [0.3333333333333333, \"#9c179e\"], [0.4444444444444444, \"#bd3786\"], [0.5555555555555556, \"#d8576b\"], [0.6666666666666666, \"#ed7953\"], [0.7777777777777778, \"#fb9f3a\"], [0.8888888888888888, \"#fdca26\"], [1.0, \"#f0f921\"]], \"type\": \"histogram2dcontour\"}], \"mesh3d\": [{\"colorbar\": {\"outlinewidth\": 0, \"ticks\": \"\"}, \"type\": \"mesh3d\"}], \"parcoords\": [{\"line\": {\"colorbar\": {\"outlinewidth\": 0, \"ticks\": \"\"}}, \"type\": \"parcoords\"}], \"pie\": [{\"automargin\": true, \"type\": \"pie\"}], \"scatter\": [{\"marker\": {\"colorbar\": {\"outlinewidth\": 0, \"ticks\": \"\"}}, \"type\": \"scatter\"}], \"scatter3d\": [{\"line\": {\"colorbar\": {\"outlinewidth\": 0, \"ticks\": \"\"}}, \"marker\": {\"colorbar\": {\"outlinewidth\": 0, \"ticks\": \"\"}}, \"type\": \"scatter3d\"}], \"scattercarpet\": [{\"marker\": {\"colorbar\": {\"outlinewidth\": 0, \"ticks\": \"\"}}, \"type\": \"scattercarpet\"}], \"scattergeo\": [{\"marker\": {\"colorbar\": {\"outlinewidth\": 0, \"ticks\": \"\"}}, \"type\": \"scattergeo\"}], \"scattergl\": [{\"marker\": {\"colorbar\": {\"outlinewidth\": 0, \"ticks\": \"\"}}, \"type\": \"scattergl\"}], \"scattermapbox\": [{\"marker\": {\"colorbar\": {\"outlinewidth\": 0, \"ticks\": \"\"}}, \"type\": \"scattermapbox\"}], \"scatterpolar\": [{\"marker\": {\"colorbar\": {\"outlinewidth\": 0, \"ticks\": \"\"}}, \"type\": \"scatterpolar\"}], \"scatterpolargl\": [{\"marker\": {\"colorbar\": {\"outlinewidth\": 0, \"ticks\": \"\"}}, \"type\": \"scatterpolargl\"}], \"scatterternary\": [{\"marker\": {\"colorbar\": {\"outlinewidth\": 0, \"ticks\": \"\"}}, \"type\": \"scatterternary\"}], \"surface\": [{\"colorbar\": {\"outlinewidth\": 0, \"ticks\": \"\"}, \"colorscale\": [[0.0, \"#0d0887\"], [0.1111111111111111, \"#46039f\"], [0.2222222222222222, \"#7201a8\"], [0.3333333333333333, \"#9c179e\"], [0.4444444444444444, \"#bd3786\"], [0.5555555555555556, \"#d8576b\"], [0.6666666666666666, \"#ed7953\"], [0.7777777777777778, \"#fb9f3a\"], [0.8888888888888888, \"#fdca26\"], [1.0, \"#f0f921\"]], \"type\": \"surface\"}], \"table\": [{\"cells\": {\"fill\": {\"color\": \"#EBF0F8\"}, \"line\": {\"color\": \"white\"}}, \"header\": {\"fill\": {\"color\": \"#C8D4E3\"}, \"line\": {\"color\": \"white\"}}, \"type\": \"table\"}]}, \"layout\": {\"annotationdefaults\": {\"arrowcolor\": \"#2a3f5f\", \"arrowhead\": 0, \"arrowwidth\": 1}, \"autotypenumbers\": \"strict\", \"coloraxis\": {\"colorbar\": {\"outlinewidth\": 0, \"ticks\": \"\"}}, \"colorscale\": {\"diverging\": [[0, \"#8e0152\"], [0.1, \"#c51b7d\"], [0.2, \"#de77ae\"], [0.3, \"#f1b6da\"], [0.4, \"#fde0ef\"], [0.5, \"#f7f7f7\"], [0.6, \"#e6f5d0\"], [0.7, \"#b8e186\"], [0.8, \"#7fbc41\"], [0.9, \"#4d9221\"], [1, \"#276419\"]], \"sequential\": [[0.0, \"#0d0887\"], [0.1111111111111111, \"#46039f\"], [0.2222222222222222, \"#7201a8\"], [0.3333333333333333, \"#9c179e\"], [0.4444444444444444, \"#bd3786\"], [0.5555555555555556, \"#d8576b\"], [0.6666666666666666, \"#ed7953\"], [0.7777777777777778, \"#fb9f3a\"], [0.8888888888888888, \"#fdca26\"], [1.0, \"#f0f921\"]], \"sequentialminus\": [[0.0, \"#0d0887\"], [0.1111111111111111, \"#46039f\"], [0.2222222222222222, \"#7201a8\"], [0.3333333333333333, \"#9c179e\"], [0.4444444444444444, \"#bd3786\"], [0.5555555555555556, \"#d8576b\"], [0.6666666666666666, \"#ed7953\"], [0.7777777777777778, \"#fb9f3a\"], [0.8888888888888888, \"#fdca26\"], [1.0, \"#f0f921\"]]}, \"colorway\": [\"#636efa\", \"#EF553B\", \"#00cc96\", \"#ab63fa\", \"#FFA15A\", \"#19d3f3\", \"#FF6692\", \"#B6E880\", \"#FF97FF\", \"#FECB52\"], \"font\": {\"color\": \"#2a3f5f\"}, \"geo\": {\"bgcolor\": \"white\", \"lakecolor\": \"white\", \"landcolor\": \"#E5ECF6\", \"showlakes\": true, \"showland\": true, \"subunitcolor\": \"white\"}, \"hoverlabel\": {\"align\": \"left\"}, \"hovermode\": \"closest\", \"mapbox\": {\"style\": \"light\"}, \"paper_bgcolor\": \"white\", \"plot_bgcolor\": \"#E5ECF6\", \"polar\": {\"angularaxis\": {\"gridcolor\": \"white\", \"linecolor\": \"white\", \"ticks\": \"\"}, \"bgcolor\": \"#E5ECF6\", \"radialaxis\": {\"gridcolor\": \"white\", \"linecolor\": \"white\", \"ticks\": \"\"}}, \"scene\": {\"xaxis\": {\"backgroundcolor\": \"#E5ECF6\", \"gridcolor\": \"white\", \"gridwidth\": 2, \"linecolor\": \"white\", \"showbackground\": true, \"ticks\": \"\", \"zerolinecolor\": \"white\"}, \"yaxis\": {\"backgroundcolor\": \"#E5ECF6\", \"gridcolor\": \"white\", \"gridwidth\": 2, \"linecolor\": \"white\", \"showbackground\": true, \"ticks\": \"\", \"zerolinecolor\": \"white\"}, \"zaxis\": {\"backgroundcolor\": \"#E5ECF6\", \"gridcolor\": \"white\", \"gridwidth\": 2, \"linecolor\": \"white\", \"showbackground\": true, \"ticks\": \"\", \"zerolinecolor\": \"white\"}}, \"shapedefaults\": {\"line\": {\"color\": \"#2a3f5f\"}}, \"ternary\": {\"aaxis\": {\"gridcolor\": \"white\", \"linecolor\": \"white\", \"ticks\": \"\"}, \"baxis\": {\"gridcolor\": \"white\", \"linecolor\": \"white\", \"ticks\": \"\"}, \"bgcolor\": \"#E5ECF6\", \"caxis\": {\"gridcolor\": \"white\", \"linecolor\": \"white\", \"ticks\": \"\"}}, \"title\": {\"x\": 0.05}, \"xaxis\": {\"automargin\": true, \"gridcolor\": \"white\", \"linecolor\": \"white\", \"ticks\": \"\", \"title\": {\"standoff\": 15}, \"zerolinecolor\": \"white\", \"zerolinewidth\": 2}, \"yaxis\": {\"automargin\": true, \"gridcolor\": \"white\", \"linecolor\": \"white\", \"ticks\": \"\", \"title\": {\"standoff\": 15}, \"zerolinecolor\": \"white\", \"zerolinewidth\": 2}}}},                        {\"responsive\": true}                    ).then(function(){\n",
       "                            \n",
       "var gd = document.getElementById('2c233903-b6d7-4bc9-9f48-5aebc10b837e');\n",
       "var x = new MutationObserver(function (mutations, observer) {{\n",
       "        var display = window.getComputedStyle(gd).display;\n",
       "        if (!display || display === 'none') {{\n",
       "            console.log([gd, 'removed!']);\n",
       "            Plotly.purge(gd);\n",
       "            observer.disconnect();\n",
       "        }}\n",
       "}});\n",
       "\n",
       "// Listen for the removal of the full notebook cells\n",
       "var notebookContainer = gd.closest('#notebook-container');\n",
       "if (notebookContainer) {{\n",
       "    x.observe(notebookContainer, {childList: true});\n",
       "}}\n",
       "\n",
       "// Listen for the clearing of the current output cell\n",
       "var outputEl = gd.closest('.output');\n",
       "if (outputEl) {{\n",
       "    x.observe(outputEl, {childList: true});\n",
       "}}\n",
       "\n",
       "                        })                };                });            </script>        </div>"
      ]
     },
     "metadata": {},
     "output_type": "display_data"
    }
   ],
   "source": [
    "# распределение средней заработной платы по карте Москвы;\n",
    "import plotly.graph_objects as go\n",
    "\n",
    "# центровка\n",
    "map_center = dict(lat=final_data.lat[3], lon=final_data.lng[3])\n",
    "\n",
    "fig = go.Figure(go.Scattermapbox(lat=final_data.lat, \n",
    "                                 lon=final_data.lng, \n",
    "                                 text=final_data.name,\n",
    "                                 marker=dict(colorbar=dict(title=\"Зарплаты\"),\n",
    "                                             color=final_data.salary_mean)))\n",
    "fig.update_layout(mapbox_style=\"open-street-map\", mapbox=dict(center=map_center, zoom = 9))\n",
    "fig.show()"
   ]
  },
  {
   "cell_type": "markdown",
   "metadata": {},
   "source": [
    "Даже не знаю, что еще добавить, карты получились очень информативными с градиентной раскраской в зависимости от средней зарпалаты в компании."
   ]
  },
  {
   "cell_type": "code",
   "execution_count": 92,
   "metadata": {},
   "outputs": [
    {
     "data": {
      "application/vnd.plotly.v1+json": {
       "config": {
        "plotlyServerURL": "https://plot.ly"
       },
       "data": [
        {
         "lat": [
          53.905615,
          55.655745,
          55.656682,
          55.662379,
          55.663146,
          55.677671,
          55.682099,
          55.687147,
          55.69,
          55.695,
          55.7055,
          55.706634,
          55.70678,
          55.70961,
          55.718828,
          55.720278,
          55.726548,
          55.729542,
          55.729741,
          55.731414,
          55.735221,
          55.735679,
          55.736163,
          55.740544,
          55.740746,
          55.740833,
          55.741375,
          55.742391,
          55.742396,
          55.745297,
          55.749083,
          55.7491,
          55.750243,
          55.75098,
          55.752312,
          55.758564,
          55.760793,
          55.761498,
          55.765607,
          55.769808,
          55.772405,
          55.774072,
          55.777201,
          55.777439,
          55.779584,
          55.780014,
          55.782057,
          55.789704,
          55.793723,
          55.796322,
          55.800441,
          55.807794,
          55.808056,
          55.823342,
          55.825479,
          55.825833,
          59.891788
         ],
         "lon": [
          27.55415,
          37.649683,
          37.540075,
          37.605274,
          37.482852,
          37.562595,
          37.620917,
          37.5723,
          37.618889,
          37.664167,
          37.5225,
          37.657008,
          37.58499,
          37.622569,
          37.607892,
          37.563056,
          37.624792,
          37.470973,
          37.638693,
          37.636294,
          37.593095,
          37.516865,
          37.595027,
          37.5341,
          37.65604,
          37.533333,
          37.415627,
          37.62928,
          37.653334,
          37.604217,
          37.582173,
          37.5395,
          37.542641,
          37.78422,
          37.60349,
          37.659039,
          37.581242,
          37.624423,
          37.604356,
          37.596192,
          37.67904,
          37.654565,
          37.517895,
          37.582107,
          37.633646,
          37.666097,
          37.7053,
          37.558212,
          37.61618,
          37.713582,
          37.530477,
          37.638699,
          37.581734,
          37.385214,
          37.437024,
          37.496111,
          30.317873
         ],
         "marker": {
          "color": [
           2,
           1,
           2,
           1,
           1,
           2,
           2,
           2,
           1,
           5,
           2,
           1,
           1,
           5,
           1,
           2,
           1,
           1,
           2,
           2,
           1,
           1,
           1,
           5,
           1,
           8,
           1,
           1,
           1,
           1,
           1,
           7,
           1,
           2,
           1,
           1,
           2,
           1,
           1,
           11,
           2,
           1,
           1,
           4,
           3,
           2,
           1,
           2,
           1,
           3,
           6,
           1,
           1,
           1,
           2,
           3,
           1
          ],
          "colorbar": {
           "title": {
            "text": "Количество вакансий"
           }
          }
         },
         "type": "scattermapbox"
        }
       ],
       "layout": {
        "mapbox": {
         "center": {
          "lat": 55.655745,
          "lon": 37.649683
         },
         "style": "open-street-map",
         "zoom": 9
        },
        "template": {
         "data": {
          "bar": [
           {
            "error_x": {
             "color": "#2a3f5f"
            },
            "error_y": {
             "color": "#2a3f5f"
            },
            "marker": {
             "line": {
              "color": "#E5ECF6",
              "width": 0.5
             }
            },
            "type": "bar"
           }
          ],
          "barpolar": [
           {
            "marker": {
             "line": {
              "color": "#E5ECF6",
              "width": 0.5
             }
            },
            "type": "barpolar"
           }
          ],
          "carpet": [
           {
            "aaxis": {
             "endlinecolor": "#2a3f5f",
             "gridcolor": "white",
             "linecolor": "white",
             "minorgridcolor": "white",
             "startlinecolor": "#2a3f5f"
            },
            "baxis": {
             "endlinecolor": "#2a3f5f",
             "gridcolor": "white",
             "linecolor": "white",
             "minorgridcolor": "white",
             "startlinecolor": "#2a3f5f"
            },
            "type": "carpet"
           }
          ],
          "choropleth": [
           {
            "colorbar": {
             "outlinewidth": 0,
             "ticks": ""
            },
            "type": "choropleth"
           }
          ],
          "contour": [
           {
            "colorbar": {
             "outlinewidth": 0,
             "ticks": ""
            },
            "colorscale": [
             [
              0,
              "#0d0887"
             ],
             [
              0.1111111111111111,
              "#46039f"
             ],
             [
              0.2222222222222222,
              "#7201a8"
             ],
             [
              0.3333333333333333,
              "#9c179e"
             ],
             [
              0.4444444444444444,
              "#bd3786"
             ],
             [
              0.5555555555555556,
              "#d8576b"
             ],
             [
              0.6666666666666666,
              "#ed7953"
             ],
             [
              0.7777777777777778,
              "#fb9f3a"
             ],
             [
              0.8888888888888888,
              "#fdca26"
             ],
             [
              1,
              "#f0f921"
             ]
            ],
            "type": "contour"
           }
          ],
          "contourcarpet": [
           {
            "colorbar": {
             "outlinewidth": 0,
             "ticks": ""
            },
            "type": "contourcarpet"
           }
          ],
          "heatmap": [
           {
            "colorbar": {
             "outlinewidth": 0,
             "ticks": ""
            },
            "colorscale": [
             [
              0,
              "#0d0887"
             ],
             [
              0.1111111111111111,
              "#46039f"
             ],
             [
              0.2222222222222222,
              "#7201a8"
             ],
             [
              0.3333333333333333,
              "#9c179e"
             ],
             [
              0.4444444444444444,
              "#bd3786"
             ],
             [
              0.5555555555555556,
              "#d8576b"
             ],
             [
              0.6666666666666666,
              "#ed7953"
             ],
             [
              0.7777777777777778,
              "#fb9f3a"
             ],
             [
              0.8888888888888888,
              "#fdca26"
             ],
             [
              1,
              "#f0f921"
             ]
            ],
            "type": "heatmap"
           }
          ],
          "heatmapgl": [
           {
            "colorbar": {
             "outlinewidth": 0,
             "ticks": ""
            },
            "colorscale": [
             [
              0,
              "#0d0887"
             ],
             [
              0.1111111111111111,
              "#46039f"
             ],
             [
              0.2222222222222222,
              "#7201a8"
             ],
             [
              0.3333333333333333,
              "#9c179e"
             ],
             [
              0.4444444444444444,
              "#bd3786"
             ],
             [
              0.5555555555555556,
              "#d8576b"
             ],
             [
              0.6666666666666666,
              "#ed7953"
             ],
             [
              0.7777777777777778,
              "#fb9f3a"
             ],
             [
              0.8888888888888888,
              "#fdca26"
             ],
             [
              1,
              "#f0f921"
             ]
            ],
            "type": "heatmapgl"
           }
          ],
          "histogram": [
           {
            "marker": {
             "colorbar": {
              "outlinewidth": 0,
              "ticks": ""
             }
            },
            "type": "histogram"
           }
          ],
          "histogram2d": [
           {
            "colorbar": {
             "outlinewidth": 0,
             "ticks": ""
            },
            "colorscale": [
             [
              0,
              "#0d0887"
             ],
             [
              0.1111111111111111,
              "#46039f"
             ],
             [
              0.2222222222222222,
              "#7201a8"
             ],
             [
              0.3333333333333333,
              "#9c179e"
             ],
             [
              0.4444444444444444,
              "#bd3786"
             ],
             [
              0.5555555555555556,
              "#d8576b"
             ],
             [
              0.6666666666666666,
              "#ed7953"
             ],
             [
              0.7777777777777778,
              "#fb9f3a"
             ],
             [
              0.8888888888888888,
              "#fdca26"
             ],
             [
              1,
              "#f0f921"
             ]
            ],
            "type": "histogram2d"
           }
          ],
          "histogram2dcontour": [
           {
            "colorbar": {
             "outlinewidth": 0,
             "ticks": ""
            },
            "colorscale": [
             [
              0,
              "#0d0887"
             ],
             [
              0.1111111111111111,
              "#46039f"
             ],
             [
              0.2222222222222222,
              "#7201a8"
             ],
             [
              0.3333333333333333,
              "#9c179e"
             ],
             [
              0.4444444444444444,
              "#bd3786"
             ],
             [
              0.5555555555555556,
              "#d8576b"
             ],
             [
              0.6666666666666666,
              "#ed7953"
             ],
             [
              0.7777777777777778,
              "#fb9f3a"
             ],
             [
              0.8888888888888888,
              "#fdca26"
             ],
             [
              1,
              "#f0f921"
             ]
            ],
            "type": "histogram2dcontour"
           }
          ],
          "mesh3d": [
           {
            "colorbar": {
             "outlinewidth": 0,
             "ticks": ""
            },
            "type": "mesh3d"
           }
          ],
          "parcoords": [
           {
            "line": {
             "colorbar": {
              "outlinewidth": 0,
              "ticks": ""
             }
            },
            "type": "parcoords"
           }
          ],
          "pie": [
           {
            "automargin": true,
            "type": "pie"
           }
          ],
          "scatter": [
           {
            "marker": {
             "colorbar": {
              "outlinewidth": 0,
              "ticks": ""
             }
            },
            "type": "scatter"
           }
          ],
          "scatter3d": [
           {
            "line": {
             "colorbar": {
              "outlinewidth": 0,
              "ticks": ""
             }
            },
            "marker": {
             "colorbar": {
              "outlinewidth": 0,
              "ticks": ""
             }
            },
            "type": "scatter3d"
           }
          ],
          "scattercarpet": [
           {
            "marker": {
             "colorbar": {
              "outlinewidth": 0,
              "ticks": ""
             }
            },
            "type": "scattercarpet"
           }
          ],
          "scattergeo": [
           {
            "marker": {
             "colorbar": {
              "outlinewidth": 0,
              "ticks": ""
             }
            },
            "type": "scattergeo"
           }
          ],
          "scattergl": [
           {
            "marker": {
             "colorbar": {
              "outlinewidth": 0,
              "ticks": ""
             }
            },
            "type": "scattergl"
           }
          ],
          "scattermapbox": [
           {
            "marker": {
             "colorbar": {
              "outlinewidth": 0,
              "ticks": ""
             }
            },
            "type": "scattermapbox"
           }
          ],
          "scatterpolar": [
           {
            "marker": {
             "colorbar": {
              "outlinewidth": 0,
              "ticks": ""
             }
            },
            "type": "scatterpolar"
           }
          ],
          "scatterpolargl": [
           {
            "marker": {
             "colorbar": {
              "outlinewidth": 0,
              "ticks": ""
             }
            },
            "type": "scatterpolargl"
           }
          ],
          "scatterternary": [
           {
            "marker": {
             "colorbar": {
              "outlinewidth": 0,
              "ticks": ""
             }
            },
            "type": "scatterternary"
           }
          ],
          "surface": [
           {
            "colorbar": {
             "outlinewidth": 0,
             "ticks": ""
            },
            "colorscale": [
             [
              0,
              "#0d0887"
             ],
             [
              0.1111111111111111,
              "#46039f"
             ],
             [
              0.2222222222222222,
              "#7201a8"
             ],
             [
              0.3333333333333333,
              "#9c179e"
             ],
             [
              0.4444444444444444,
              "#bd3786"
             ],
             [
              0.5555555555555556,
              "#d8576b"
             ],
             [
              0.6666666666666666,
              "#ed7953"
             ],
             [
              0.7777777777777778,
              "#fb9f3a"
             ],
             [
              0.8888888888888888,
              "#fdca26"
             ],
             [
              1,
              "#f0f921"
             ]
            ],
            "type": "surface"
           }
          ],
          "table": [
           {
            "cells": {
             "fill": {
              "color": "#EBF0F8"
             },
             "line": {
              "color": "white"
             }
            },
            "header": {
             "fill": {
              "color": "#C8D4E3"
             },
             "line": {
              "color": "white"
             }
            },
            "type": "table"
           }
          ]
         },
         "layout": {
          "annotationdefaults": {
           "arrowcolor": "#2a3f5f",
           "arrowhead": 0,
           "arrowwidth": 1
          },
          "autotypenumbers": "strict",
          "coloraxis": {
           "colorbar": {
            "outlinewidth": 0,
            "ticks": ""
           }
          },
          "colorscale": {
           "diverging": [
            [
             0,
             "#8e0152"
            ],
            [
             0.1,
             "#c51b7d"
            ],
            [
             0.2,
             "#de77ae"
            ],
            [
             0.3,
             "#f1b6da"
            ],
            [
             0.4,
             "#fde0ef"
            ],
            [
             0.5,
             "#f7f7f7"
            ],
            [
             0.6,
             "#e6f5d0"
            ],
            [
             0.7,
             "#b8e186"
            ],
            [
             0.8,
             "#7fbc41"
            ],
            [
             0.9,
             "#4d9221"
            ],
            [
             1,
             "#276419"
            ]
           ],
           "sequential": [
            [
             0,
             "#0d0887"
            ],
            [
             0.1111111111111111,
             "#46039f"
            ],
            [
             0.2222222222222222,
             "#7201a8"
            ],
            [
             0.3333333333333333,
             "#9c179e"
            ],
            [
             0.4444444444444444,
             "#bd3786"
            ],
            [
             0.5555555555555556,
             "#d8576b"
            ],
            [
             0.6666666666666666,
             "#ed7953"
            ],
            [
             0.7777777777777778,
             "#fb9f3a"
            ],
            [
             0.8888888888888888,
             "#fdca26"
            ],
            [
             1,
             "#f0f921"
            ]
           ],
           "sequentialminus": [
            [
             0,
             "#0d0887"
            ],
            [
             0.1111111111111111,
             "#46039f"
            ],
            [
             0.2222222222222222,
             "#7201a8"
            ],
            [
             0.3333333333333333,
             "#9c179e"
            ],
            [
             0.4444444444444444,
             "#bd3786"
            ],
            [
             0.5555555555555556,
             "#d8576b"
            ],
            [
             0.6666666666666666,
             "#ed7953"
            ],
            [
             0.7777777777777778,
             "#fb9f3a"
            ],
            [
             0.8888888888888888,
             "#fdca26"
            ],
            [
             1,
             "#f0f921"
            ]
           ]
          },
          "colorway": [
           "#636efa",
           "#EF553B",
           "#00cc96",
           "#ab63fa",
           "#FFA15A",
           "#19d3f3",
           "#FF6692",
           "#B6E880",
           "#FF97FF",
           "#FECB52"
          ],
          "font": {
           "color": "#2a3f5f"
          },
          "geo": {
           "bgcolor": "white",
           "lakecolor": "white",
           "landcolor": "#E5ECF6",
           "showlakes": true,
           "showland": true,
           "subunitcolor": "white"
          },
          "hoverlabel": {
           "align": "left"
          },
          "hovermode": "closest",
          "mapbox": {
           "style": "light"
          },
          "paper_bgcolor": "white",
          "plot_bgcolor": "#E5ECF6",
          "polar": {
           "angularaxis": {
            "gridcolor": "white",
            "linecolor": "white",
            "ticks": ""
           },
           "bgcolor": "#E5ECF6",
           "radialaxis": {
            "gridcolor": "white",
            "linecolor": "white",
            "ticks": ""
           }
          },
          "scene": {
           "xaxis": {
            "backgroundcolor": "#E5ECF6",
            "gridcolor": "white",
            "gridwidth": 2,
            "linecolor": "white",
            "showbackground": true,
            "ticks": "",
            "zerolinecolor": "white"
           },
           "yaxis": {
            "backgroundcolor": "#E5ECF6",
            "gridcolor": "white",
            "gridwidth": 2,
            "linecolor": "white",
            "showbackground": true,
            "ticks": "",
            "zerolinecolor": "white"
           },
           "zaxis": {
            "backgroundcolor": "#E5ECF6",
            "gridcolor": "white",
            "gridwidth": 2,
            "linecolor": "white",
            "showbackground": true,
            "ticks": "",
            "zerolinecolor": "white"
           }
          },
          "shapedefaults": {
           "line": {
            "color": "#2a3f5f"
           }
          },
          "ternary": {
           "aaxis": {
            "gridcolor": "white",
            "linecolor": "white",
            "ticks": ""
           },
           "baxis": {
            "gridcolor": "white",
            "linecolor": "white",
            "ticks": ""
           },
           "bgcolor": "#E5ECF6",
           "caxis": {
            "gridcolor": "white",
            "linecolor": "white",
            "ticks": ""
           }
          },
          "title": {
           "x": 0.05
          },
          "xaxis": {
           "automargin": true,
           "gridcolor": "white",
           "linecolor": "white",
           "ticks": "",
           "title": {
            "standoff": 15
           },
           "zerolinecolor": "white",
           "zerolinewidth": 2
          },
          "yaxis": {
           "automargin": true,
           "gridcolor": "white",
           "linecolor": "white",
           "ticks": "",
           "title": {
            "standoff": 15
           },
           "zerolinecolor": "white",
           "zerolinewidth": 2
          }
         }
        }
       }
      },
      "text/html": [
       "<div>                            <div id=\"2e48337b-d47c-4b5b-999d-689d78ec1ef2\" class=\"plotly-graph-div\" style=\"height:525px; width:100%;\"></div>            <script type=\"text/javascript\">                require([\"plotly\"], function(Plotly) {                    window.PLOTLYENV=window.PLOTLYENV || {};                                    if (document.getElementById(\"2e48337b-d47c-4b5b-999d-689d78ec1ef2\")) {                    Plotly.newPlot(                        \"2e48337b-d47c-4b5b-999d-689d78ec1ef2\",                        [{\"lat\": [53.905615, 55.655745, 55.656682, 55.662379, 55.663146, 55.677671, 55.682099, 55.687147, 55.69, 55.695, 55.7055, 55.706634, 55.70678, 55.70961, 55.718828, 55.720278, 55.726548, 55.729542, 55.729741, 55.731414, 55.735221, 55.735679, 55.736163, 55.740544, 55.740746, 55.740833, 55.741375, 55.742391, 55.742396, 55.745297, 55.749083, 55.7491, 55.750243, 55.75098, 55.752312, 55.758564, 55.760793, 55.761498, 55.765607, 55.769808, 55.772405, 55.774072, 55.777201, 55.777439, 55.779584, 55.780014, 55.782057, 55.789704, 55.793723, 55.796322, 55.800441, 55.807794, 55.808056, 55.823342, 55.825479, 55.825833, 59.891788], \"lon\": [27.55415, 37.649683, 37.540075, 37.605274, 37.482852, 37.562595, 37.620917, 37.5723, 37.618889, 37.664167, 37.5225, 37.657008, 37.58499, 37.622569, 37.607892, 37.563056, 37.624792, 37.470973, 37.638693, 37.636294, 37.593095, 37.516865, 37.595027, 37.5341, 37.65604, 37.533333, 37.415627, 37.62928, 37.653334, 37.604217, 37.582173, 37.5395, 37.542641, 37.78422, 37.60349, 37.659039, 37.581242, 37.624423, 37.604356, 37.596192, 37.67904, 37.654565, 37.517895, 37.582107, 37.633646, 37.666097, 37.7053, 37.558212, 37.61618, 37.713582, 37.530477, 37.638699, 37.581734, 37.385214, 37.437024, 37.496111, 30.317873], \"marker\": {\"color\": [2, 1, 2, 1, 1, 2, 2, 2, 1, 5, 2, 1, 1, 5, 1, 2, 1, 1, 2, 2, 1, 1, 1, 5, 1, 8, 1, 1, 1, 1, 1, 7, 1, 2, 1, 1, 2, 1, 1, 11, 2, 1, 1, 4, 3, 2, 1, 2, 1, 3, 6, 1, 1, 1, 2, 3, 1], \"colorbar\": {\"title\": {\"text\": \"\\u041a\\u043e\\u043b\\u0438\\u0447\\u0435\\u0441\\u0442\\u0432\\u043e \\u0432\\u0430\\u043a\\u0430\\u043d\\u0441\\u0438\\u0439\"}}}, \"type\": \"scattermapbox\"}],                        {\"mapbox\": {\"center\": {\"lat\": 55.655745, \"lon\": 37.649683}, \"style\": \"open-street-map\", \"zoom\": 9}, \"template\": {\"data\": {\"bar\": [{\"error_x\": {\"color\": \"#2a3f5f\"}, \"error_y\": {\"color\": \"#2a3f5f\"}, \"marker\": {\"line\": {\"color\": \"#E5ECF6\", \"width\": 0.5}}, \"type\": \"bar\"}], \"barpolar\": [{\"marker\": {\"line\": {\"color\": \"#E5ECF6\", \"width\": 0.5}}, \"type\": \"barpolar\"}], \"carpet\": [{\"aaxis\": {\"endlinecolor\": \"#2a3f5f\", \"gridcolor\": \"white\", \"linecolor\": \"white\", \"minorgridcolor\": \"white\", \"startlinecolor\": \"#2a3f5f\"}, \"baxis\": {\"endlinecolor\": \"#2a3f5f\", \"gridcolor\": \"white\", \"linecolor\": \"white\", \"minorgridcolor\": \"white\", \"startlinecolor\": \"#2a3f5f\"}, \"type\": \"carpet\"}], \"choropleth\": [{\"colorbar\": {\"outlinewidth\": 0, \"ticks\": \"\"}, \"type\": \"choropleth\"}], \"contour\": [{\"colorbar\": {\"outlinewidth\": 0, \"ticks\": \"\"}, \"colorscale\": [[0.0, \"#0d0887\"], [0.1111111111111111, \"#46039f\"], [0.2222222222222222, \"#7201a8\"], [0.3333333333333333, \"#9c179e\"], [0.4444444444444444, \"#bd3786\"], [0.5555555555555556, \"#d8576b\"], [0.6666666666666666, \"#ed7953\"], [0.7777777777777778, \"#fb9f3a\"], [0.8888888888888888, \"#fdca26\"], [1.0, \"#f0f921\"]], \"type\": \"contour\"}], \"contourcarpet\": [{\"colorbar\": {\"outlinewidth\": 0, \"ticks\": \"\"}, \"type\": \"contourcarpet\"}], \"heatmap\": [{\"colorbar\": {\"outlinewidth\": 0, \"ticks\": \"\"}, \"colorscale\": [[0.0, \"#0d0887\"], [0.1111111111111111, \"#46039f\"], [0.2222222222222222, \"#7201a8\"], [0.3333333333333333, \"#9c179e\"], [0.4444444444444444, \"#bd3786\"], [0.5555555555555556, \"#d8576b\"], [0.6666666666666666, \"#ed7953\"], [0.7777777777777778, \"#fb9f3a\"], [0.8888888888888888, \"#fdca26\"], [1.0, \"#f0f921\"]], \"type\": \"heatmap\"}], \"heatmapgl\": [{\"colorbar\": {\"outlinewidth\": 0, \"ticks\": \"\"}, \"colorscale\": [[0.0, \"#0d0887\"], [0.1111111111111111, \"#46039f\"], [0.2222222222222222, \"#7201a8\"], [0.3333333333333333, \"#9c179e\"], [0.4444444444444444, \"#bd3786\"], [0.5555555555555556, \"#d8576b\"], [0.6666666666666666, \"#ed7953\"], [0.7777777777777778, \"#fb9f3a\"], [0.8888888888888888, \"#fdca26\"], [1.0, \"#f0f921\"]], \"type\": \"heatmapgl\"}], \"histogram\": [{\"marker\": {\"colorbar\": {\"outlinewidth\": 0, \"ticks\": \"\"}}, \"type\": \"histogram\"}], \"histogram2d\": [{\"colorbar\": {\"outlinewidth\": 0, \"ticks\": \"\"}, \"colorscale\": [[0.0, \"#0d0887\"], [0.1111111111111111, \"#46039f\"], [0.2222222222222222, \"#7201a8\"], [0.3333333333333333, \"#9c179e\"], [0.4444444444444444, \"#bd3786\"], [0.5555555555555556, \"#d8576b\"], [0.6666666666666666, \"#ed7953\"], [0.7777777777777778, \"#fb9f3a\"], [0.8888888888888888, \"#fdca26\"], [1.0, \"#f0f921\"]], \"type\": \"histogram2d\"}], \"histogram2dcontour\": [{\"colorbar\": {\"outlinewidth\": 0, \"ticks\": \"\"}, \"colorscale\": [[0.0, \"#0d0887\"], [0.1111111111111111, \"#46039f\"], [0.2222222222222222, \"#7201a8\"], [0.3333333333333333, \"#9c179e\"], [0.4444444444444444, \"#bd3786\"], [0.5555555555555556, \"#d8576b\"], [0.6666666666666666, \"#ed7953\"], [0.7777777777777778, \"#fb9f3a\"], [0.8888888888888888, \"#fdca26\"], [1.0, \"#f0f921\"]], \"type\": \"histogram2dcontour\"}], \"mesh3d\": [{\"colorbar\": {\"outlinewidth\": 0, \"ticks\": \"\"}, \"type\": \"mesh3d\"}], \"parcoords\": [{\"line\": {\"colorbar\": {\"outlinewidth\": 0, \"ticks\": \"\"}}, \"type\": \"parcoords\"}], \"pie\": [{\"automargin\": true, \"type\": \"pie\"}], \"scatter\": [{\"marker\": {\"colorbar\": {\"outlinewidth\": 0, \"ticks\": \"\"}}, \"type\": \"scatter\"}], \"scatter3d\": [{\"line\": {\"colorbar\": {\"outlinewidth\": 0, \"ticks\": \"\"}}, \"marker\": {\"colorbar\": {\"outlinewidth\": 0, \"ticks\": \"\"}}, \"type\": \"scatter3d\"}], \"scattercarpet\": [{\"marker\": {\"colorbar\": {\"outlinewidth\": 0, \"ticks\": \"\"}}, \"type\": \"scattercarpet\"}], \"scattergeo\": [{\"marker\": {\"colorbar\": {\"outlinewidth\": 0, \"ticks\": \"\"}}, \"type\": \"scattergeo\"}], \"scattergl\": [{\"marker\": {\"colorbar\": {\"outlinewidth\": 0, \"ticks\": \"\"}}, \"type\": \"scattergl\"}], \"scattermapbox\": [{\"marker\": {\"colorbar\": {\"outlinewidth\": 0, \"ticks\": \"\"}}, \"type\": \"scattermapbox\"}], \"scatterpolar\": [{\"marker\": {\"colorbar\": {\"outlinewidth\": 0, \"ticks\": \"\"}}, \"type\": \"scatterpolar\"}], \"scatterpolargl\": [{\"marker\": {\"colorbar\": {\"outlinewidth\": 0, \"ticks\": \"\"}}, \"type\": \"scatterpolargl\"}], \"scatterternary\": [{\"marker\": {\"colorbar\": {\"outlinewidth\": 0, \"ticks\": \"\"}}, \"type\": \"scatterternary\"}], \"surface\": [{\"colorbar\": {\"outlinewidth\": 0, \"ticks\": \"\"}, \"colorscale\": [[0.0, \"#0d0887\"], [0.1111111111111111, \"#46039f\"], [0.2222222222222222, \"#7201a8\"], [0.3333333333333333, \"#9c179e\"], [0.4444444444444444, \"#bd3786\"], [0.5555555555555556, \"#d8576b\"], [0.6666666666666666, \"#ed7953\"], [0.7777777777777778, \"#fb9f3a\"], [0.8888888888888888, \"#fdca26\"], [1.0, \"#f0f921\"]], \"type\": \"surface\"}], \"table\": [{\"cells\": {\"fill\": {\"color\": \"#EBF0F8\"}, \"line\": {\"color\": \"white\"}}, \"header\": {\"fill\": {\"color\": \"#C8D4E3\"}, \"line\": {\"color\": \"white\"}}, \"type\": \"table\"}]}, \"layout\": {\"annotationdefaults\": {\"arrowcolor\": \"#2a3f5f\", \"arrowhead\": 0, \"arrowwidth\": 1}, \"autotypenumbers\": \"strict\", \"coloraxis\": {\"colorbar\": {\"outlinewidth\": 0, \"ticks\": \"\"}}, \"colorscale\": {\"diverging\": [[0, \"#8e0152\"], [0.1, \"#c51b7d\"], [0.2, \"#de77ae\"], [0.3, \"#f1b6da\"], [0.4, \"#fde0ef\"], [0.5, \"#f7f7f7\"], [0.6, \"#e6f5d0\"], [0.7, \"#b8e186\"], [0.8, \"#7fbc41\"], [0.9, \"#4d9221\"], [1, \"#276419\"]], \"sequential\": [[0.0, \"#0d0887\"], [0.1111111111111111, \"#46039f\"], [0.2222222222222222, \"#7201a8\"], [0.3333333333333333, \"#9c179e\"], [0.4444444444444444, \"#bd3786\"], [0.5555555555555556, \"#d8576b\"], [0.6666666666666666, \"#ed7953\"], [0.7777777777777778, \"#fb9f3a\"], [0.8888888888888888, \"#fdca26\"], [1.0, \"#f0f921\"]], \"sequentialminus\": [[0.0, \"#0d0887\"], [0.1111111111111111, \"#46039f\"], [0.2222222222222222, \"#7201a8\"], [0.3333333333333333, \"#9c179e\"], [0.4444444444444444, \"#bd3786\"], [0.5555555555555556, \"#d8576b\"], [0.6666666666666666, \"#ed7953\"], [0.7777777777777778, \"#fb9f3a\"], [0.8888888888888888, \"#fdca26\"], [1.0, \"#f0f921\"]]}, \"colorway\": [\"#636efa\", \"#EF553B\", \"#00cc96\", \"#ab63fa\", \"#FFA15A\", \"#19d3f3\", \"#FF6692\", \"#B6E880\", \"#FF97FF\", \"#FECB52\"], \"font\": {\"color\": \"#2a3f5f\"}, \"geo\": {\"bgcolor\": \"white\", \"lakecolor\": \"white\", \"landcolor\": \"#E5ECF6\", \"showlakes\": true, \"showland\": true, \"subunitcolor\": \"white\"}, \"hoverlabel\": {\"align\": \"left\"}, \"hovermode\": \"closest\", \"mapbox\": {\"style\": \"light\"}, \"paper_bgcolor\": \"white\", \"plot_bgcolor\": \"#E5ECF6\", \"polar\": {\"angularaxis\": {\"gridcolor\": \"white\", \"linecolor\": \"white\", \"ticks\": \"\"}, \"bgcolor\": \"#E5ECF6\", \"radialaxis\": {\"gridcolor\": \"white\", \"linecolor\": \"white\", \"ticks\": \"\"}}, \"scene\": {\"xaxis\": {\"backgroundcolor\": \"#E5ECF6\", \"gridcolor\": \"white\", \"gridwidth\": 2, \"linecolor\": \"white\", \"showbackground\": true, \"ticks\": \"\", \"zerolinecolor\": \"white\"}, \"yaxis\": {\"backgroundcolor\": \"#E5ECF6\", \"gridcolor\": \"white\", \"gridwidth\": 2, \"linecolor\": \"white\", \"showbackground\": true, \"ticks\": \"\", \"zerolinecolor\": \"white\"}, \"zaxis\": {\"backgroundcolor\": \"#E5ECF6\", \"gridcolor\": \"white\", \"gridwidth\": 2, \"linecolor\": \"white\", \"showbackground\": true, \"ticks\": \"\", \"zerolinecolor\": \"white\"}}, \"shapedefaults\": {\"line\": {\"color\": \"#2a3f5f\"}}, \"ternary\": {\"aaxis\": {\"gridcolor\": \"white\", \"linecolor\": \"white\", \"ticks\": \"\"}, \"baxis\": {\"gridcolor\": \"white\", \"linecolor\": \"white\", \"ticks\": \"\"}, \"bgcolor\": \"#E5ECF6\", \"caxis\": {\"gridcolor\": \"white\", \"linecolor\": \"white\", \"ticks\": \"\"}}, \"title\": {\"x\": 0.05}, \"xaxis\": {\"automargin\": true, \"gridcolor\": \"white\", \"linecolor\": \"white\", \"ticks\": \"\", \"title\": {\"standoff\": 15}, \"zerolinecolor\": \"white\", \"zerolinewidth\": 2}, \"yaxis\": {\"automargin\": true, \"gridcolor\": \"white\", \"linecolor\": \"white\", \"ticks\": \"\", \"title\": {\"standoff\": 15}, \"zerolinecolor\": \"white\", \"zerolinewidth\": 2}}}},                        {\"responsive\": true}                    ).then(function(){\n",
       "                            \n",
       "var gd = document.getElementById('2e48337b-d47c-4b5b-999d-689d78ec1ef2');\n",
       "var x = new MutationObserver(function (mutations, observer) {{\n",
       "        var display = window.getComputedStyle(gd).display;\n",
       "        if (!display || display === 'none') {{\n",
       "            console.log([gd, 'removed!']);\n",
       "            Plotly.purge(gd);\n",
       "            observer.disconnect();\n",
       "        }}\n",
       "}});\n",
       "\n",
       "// Listen for the removal of the full notebook cells\n",
       "var notebookContainer = gd.closest('#notebook-container');\n",
       "if (notebookContainer) {{\n",
       "    x.observe(notebookContainer, {childList: true});\n",
       "}}\n",
       "\n",
       "// Listen for the clearing of the current output cell\n",
       "var outputEl = gd.closest('.output');\n",
       "if (outputEl) {{\n",
       "    x.observe(outputEl, {childList: true});\n",
       "}}\n",
       "\n",
       "                        })                };                });            </script>        </div>"
      ]
     },
     "metadata": {},
     "output_type": "display_data"
    }
   ],
   "source": [
    "# распределение спроса на вакансию по карте Москвы.\n",
    "coun_vac = final_data[['name', 'lat','lng']].groupby(['lat', 'lng']).count()\n",
    "coun_vac.reset_index(inplace=True)\n",
    "coun_vac.rename(columns = {'name' :'count_v'}, inplace = True)\n",
    "\n",
    "map_center = dict(lat=coun_vac.lat[1], lon=coun_vac.lng[1])\n",
    "\n",
    "fig = go.Figure(go.Scattermapbox(lat=coun_vac.lat, \n",
    "                                 lon=coun_vac.lng, \n",
    "                                 marker=dict(colorbar=dict(title=\"Количество вакансий\"),\n",
    "                                             color=coun_vac.count_v)))\n",
    "fig.update_layout(mapbox_style=\"open-street-map\", mapbox=dict(center=map_center, zoom = 9))\n",
    "fig.show()"
   ]
  },
  {
   "cell_type": "markdown",
   "metadata": {},
   "source": [
    "Здесь тоже вроде все понятно"
   ]
  },
  {
   "cell_type": "markdown",
   "metadata": {},
   "source": [
    "Какие выводы можно сделать из построенных графиков?\n",
    "Я понял для себя 2 сокровенные истины:\n",
    "\n",
    "1) Надо идти в Data Scientist и майнить 300к в наносекунду.\n",
    "\n",
    "2) Вакансии разбросаны по всей Москве, и везде разные цены. Я не нашел никакой корреляции именно с картой. Единственное, что наибольшую зарплату давали за Researcher, что лочгино, это как бы наука и люди много лет учатся и хотят, чтобы им подабающе платили. А наибольшее число вакансии --- это старший аналитик и аналитик по построению кредитного риска.\n"
   ]
  },
  {
   "cell_type": "markdown",
   "metadata": {},
   "source": [
    "**3. Анализ профессии, о которой вы мечтали в детстве**"
   ]
  },
  {
   "cell_type": "markdown",
   "metadata": {},
   "source": [
    "Проведите аналогичное исследование для профессии, о которой вы мечтали в детстве. Это может быть повар, учитель, пожарный и т.д. &mdash; все зависит от вас ☺."
   ]
  },
  {
   "cell_type": "markdown",
   "metadata": {},
   "source": [
    "Я в детстве мечтал стать Data Scientist-ом☺."
   ]
  },
  {
   "cell_type": "code",
   "execution_count": 24,
   "metadata": {},
   "outputs": [],
   "source": [
    "URL = 'https://api.hh.ru/vacancies'\n",
    "num_of_pages = 5\n",
    "pages = np.arange(num_of_pages)\n",
    "area = 1 #Moscow\n",
    "per_page = 100\n",
    "vacance_id = pd.DataFrame()\n",
    "\n",
    "for page in pages:\n",
    "    params = {\n",
    "        'text': \"Учитель математики\",\n",
    "        'area': area,\n",
    "        'page': page,\n",
    "        'per_page': per_page\n",
    "    }\n",
    "\n",
    "    data = pd.DataFrame(json.loads(requests.get(URL, params).content.decode())['items'])\n",
    "    vacance_id = vacance_id.append(data, ignore_index=True)\n",
    "    \n",
    "vacance_id.drop_duplicates(subset=['id'])\n",
    "vacance_id = vacance_id['id']"
   ]
  },
  {
   "cell_type": "code",
   "execution_count": 25,
   "metadata": {},
   "outputs": [],
   "source": [
    "currency = {'RUR' : 1, 'USD': 74.87, 'EUR': 90.57}\n",
    "tax = 0.13\n",
    "\n",
    "def salary_to(value):\n",
    "    if value == None:\n",
    "        return None\n",
    "    \n",
    "    if value['to'] == None:\n",
    "        value['to'] = value['from']\n",
    "    \n",
    "    temp = value['to']\n",
    "    temp *= currency[value['currency']]\n",
    "    \n",
    "    if not value['gross']:\n",
    "        temp *= (tax + 1)\n",
    "        \n",
    "    return temp\n",
    "\n",
    "def salary_from(value):\n",
    "    if value == None or value['from'] == None:\n",
    "        return None\n",
    "    \n",
    "    if value['from'] == None:\n",
    "        value['from'] = value['to']\n",
    "    \n",
    "    temp = value['from']\n",
    "    temp *= currency[value['currency']]\n",
    "    \n",
    "    if not value['gross']:\n",
    "        temp *= (tax + 1)\n",
    "        \n",
    "    return temp"
   ]
  },
  {
   "cell_type": "code",
   "execution_count": 26,
   "metadata": {},
   "outputs": [],
   "source": [
    "def get_lat(value):\n",
    "    if value == None:\n",
    "        return None\n",
    "    \n",
    "    if value.get('metro') != None:\n",
    "        return value['metro']['lat']\n",
    "    return None\n",
    "\n",
    "def get_lng(value):\n",
    "    if value == None:\n",
    "        return None\n",
    "    \n",
    "    if value.get('metro') != None:\n",
    "        return value['metro']['lng']\n",
    "    return None"
   ]
  },
  {
   "cell_type": "code",
   "execution_count": 27,
   "metadata": {},
   "outputs": [],
   "source": [
    "final_data = pd.DataFrame()\n",
    "attributes = ['name',\n",
    "              'employer', # name\n",
    "              'salary', # from, to \n",
    "              'address', # metro.station_name\n",
    "              'alternate_url',\n",
    "              'experience', # name\n",
    "              'key_skills', # arr[name]\n",
    "              'schedule', # name\n",
    "              'has_test',\n",
    "              'test']  # required\n",
    "currency = {'RUR' : 1, 'USD': 74.87, 'EUR': 90.57}\n",
    "\n",
    "for v_id in vacance_id:\n",
    "    URL = 'https://api.hh.ru/vacancies/{}'.format(v_id)\n",
    "    data = pd.DataFrame(pd.Series(json.loads(requests.get(URL, params = {}).content.decode()))).T\n",
    "    final_data = final_data.append(data, ignore_index=True)\n",
    "    \n",
    "final_data = final_data[attributes]\n",
    "\n",
    "final_data['employer'] = final_data['employer'].apply(lambda x: None if x is None else x['name'])\n",
    "\n",
    "final_data['salary_from'] = final_data['salary'].apply(salary_from)\n",
    "final_data['salary_to'] = final_data['salary'].apply(salary_to)\n",
    "final_data.drop('salary', axis = 1, inplace = True)\n",
    "\n",
    "final_data['lat'] = final_data['address'].apply(get_lat)\n",
    "final_data['lng'] = final_data['address'].apply(get_lng)\n",
    "final_data['address'] = final_data['address'].apply(lambda x: None if x is None else x['metro'])\n",
    "final_data['address'] = final_data['address'].apply(lambda x: None if x is None else x['station_name'])\n",
    "final_data.rename(columns = {'address' : 'metro_station'}, inplace = True)\n",
    "\n",
    "final_data['experience'] = final_data['experience'].apply(lambda x: None if x is None else x['name'])\n",
    "\n",
    "final_data['schedule'] = final_data['schedule'].apply(lambda x: None if x is None else x['name'])\n",
    "\n",
    "final_data['key_skills'] = final_data['key_skills'].apply(lambda x: list(i['name'] for i in x))\n",
    "\n",
    "final_data['test'] = final_data['test'].apply(lambda x: None if x is None else x['required'])"
   ]
  },
  {
   "cell_type": "code",
   "execution_count": 28,
   "metadata": {},
   "outputs": [
    {
     "data": {
      "text/plain": [
       "155"
      ]
     },
     "execution_count": 28,
     "metadata": {},
     "output_type": "execute_result"
    }
   ],
   "source": [
    "# Сколько сейчас доступно вакансий по вашему запросу?\n",
    "len(final_data)"
   ]
  },
  {
   "cell_type": "code",
   "execution_count": 29,
   "metadata": {},
   "outputs": [],
   "source": [
    "groups = {('assistant ', 'помощник'):'Помощник', \n",
    "          ('воспитатель', ):'Воспитатель ', \n",
    "          ('преподаватель','учитель') :'Преподаватель', \n",
    "          ('редактор', ):'Редактор'}\n",
    "\n",
    "def parse_groups(value):\n",
    "    if value == None:\n",
    "        return None\n",
    "\n",
    "    temp = value\n",
    "    temp = temp.lower()\n",
    "\n",
    "    for i, j in groups.items():\n",
    "        for k in i:\n",
    "            if temp.count(k) > 0:\n",
    "                return j\n",
    "    return None\n",
    "\n",
    "final_data['groups'] = final_data['name'].apply(parse_groups)"
   ]
  },
  {
   "cell_type": "code",
   "execution_count": 30,
   "metadata": {},
   "outputs": [
    {
     "data": {
      "text/html": [
       "<div>\n",
       "<style scoped>\n",
       "    .dataframe tbody tr th:only-of-type {\n",
       "        vertical-align: middle;\n",
       "    }\n",
       "\n",
       "    .dataframe tbody tr th {\n",
       "        vertical-align: top;\n",
       "    }\n",
       "\n",
       "    .dataframe thead th {\n",
       "        text-align: right;\n",
       "    }\n",
       "</style>\n",
       "<table border=\"1\" class=\"dataframe\">\n",
       "  <thead>\n",
       "    <tr style=\"text-align: right;\">\n",
       "      <th></th>\n",
       "      <th>counts</th>\n",
       "    </tr>\n",
       "    <tr>\n",
       "      <th>groups</th>\n",
       "      <th></th>\n",
       "    </tr>\n",
       "  </thead>\n",
       "  <tbody>\n",
       "    <tr>\n",
       "      <th>Преподаватель</th>\n",
       "      <td>82</td>\n",
       "    </tr>\n",
       "    <tr>\n",
       "      <th>Редактор</th>\n",
       "      <td>4</td>\n",
       "    </tr>\n",
       "    <tr>\n",
       "      <th>Воспитатель</th>\n",
       "      <td>3</td>\n",
       "    </tr>\n",
       "    <tr>\n",
       "      <th>Помощник</th>\n",
       "      <td>1</td>\n",
       "    </tr>\n",
       "  </tbody>\n",
       "</table>\n",
       "</div>"
      ],
      "text/plain": [
       "               counts\n",
       "groups               \n",
       "Преподаватель      82\n",
       "Редактор            4\n",
       "Воспитатель         3\n",
       "Помощник            1"
      ]
     },
     "execution_count": 30,
     "metadata": {},
     "output_type": "execute_result"
    }
   ],
   "source": [
    "# Какие группы вакансий самые популярные?\n",
    "statistic_group = final_data[['name', 'groups']].groupby('groups').count()\n",
    "statistic_group.rename(columns={'name':'counts'}, inplace = True)\n",
    "statistic_group.sort_values(by='counts', ascending=False)"
   ]
  },
  {
   "cell_type": "code",
   "execution_count": 31,
   "metadata": {},
   "outputs": [
    {
     "name": "stdout",
     "output_type": "stream",
     "text": [
      "Средняя зарплата: 74269 рублей\n",
      "Медианная зарплата: 70000 рублей\n"
     ]
    }
   ],
   "source": [
    "# Какова средняя и медианная заработная плата?\n",
    "print('Средняя зарплата: {} рублей'.format(int(((final_data['salary_from'] + final_data['salary_to'])/2).mean())))\n",
    "print('Медианная зарплата: {} рублей'.format(int(((final_data['salary_from'] + final_data['salary_to'])/2).median())))"
   ]
  },
  {
   "cell_type": "code",
   "execution_count": 32,
   "metadata": {},
   "outputs": [
    {
     "data": {
      "text/html": [
       "<div>\n",
       "<style scoped>\n",
       "    .dataframe tbody tr th:only-of-type {\n",
       "        vertical-align: middle;\n",
       "    }\n",
       "\n",
       "    .dataframe tbody tr th {\n",
       "        vertical-align: top;\n",
       "    }\n",
       "\n",
       "    .dataframe thead th {\n",
       "        text-align: right;\n",
       "    }\n",
       "</style>\n",
       "<table border=\"1\" class=\"dataframe\">\n",
       "  <thead>\n",
       "    <tr style=\"text-align: right;\">\n",
       "      <th></th>\n",
       "      <th>математика</th>\n",
       "      <th>Управленческие навыки</th>\n",
       "      <th>Работа с детьми</th>\n",
       "      <th>Skype</th>\n",
       "      <th>Работа с большим объемом информации</th>\n",
       "      <th>Административная поддержка руководителя</th>\n",
       "      <th>Недирективные способы коммуникации с учениками</th>\n",
       "      <th>Методист</th>\n",
       "      <th>Диагностика</th>\n",
       "      <th>Умение работать в коллективе</th>\n",
       "      <th>...</th>\n",
       "      <th>SQL</th>\n",
       "      <th>Python</th>\n",
       "      <th>Работа в команде</th>\n",
       "      <th>Пользователь ПК</th>\n",
       "      <th>Грамотность</th>\n",
       "      <th>Организация учебного процесса</th>\n",
       "      <th>Обучение и развитие</th>\n",
       "      <th>Грамотная речь</th>\n",
       "      <th>Обучение</th>\n",
       "      <th>Преподаватель</th>\n",
       "    </tr>\n",
       "  </thead>\n",
       "  <tbody>\n",
       "    <tr>\n",
       "      <th>0</th>\n",
       "      <td>1</td>\n",
       "      <td>1</td>\n",
       "      <td>1</td>\n",
       "      <td>1</td>\n",
       "      <td>1</td>\n",
       "      <td>1</td>\n",
       "      <td>1</td>\n",
       "      <td>1</td>\n",
       "      <td>1</td>\n",
       "      <td>1</td>\n",
       "      <td>...</td>\n",
       "      <td>13</td>\n",
       "      <td>13</td>\n",
       "      <td>17</td>\n",
       "      <td>20</td>\n",
       "      <td>22</td>\n",
       "      <td>30</td>\n",
       "      <td>36</td>\n",
       "      <td>36</td>\n",
       "      <td>40</td>\n",
       "      <td>43</td>\n",
       "    </tr>\n",
       "  </tbody>\n",
       "</table>\n",
       "<p>1 rows × 163 columns</p>\n",
       "</div>"
      ],
      "text/plain": [
       "   математика  Управленческие навыки  Работа с детьми  Skype  \\\n",
       "0           1                      1                1      1   \n",
       "\n",
       "   Работа с большим объемом информации  \\\n",
       "0                                    1   \n",
       "\n",
       "   Административная поддержка руководителя  \\\n",
       "0                                        1   \n",
       "\n",
       "   Недирективные способы коммуникации с учениками  Методист  Диагностика  \\\n",
       "0                                               1         1            1   \n",
       "\n",
       "   Умение работать в коллективе  ...  SQL  Python  Работа в команде  \\\n",
       "0                             1  ...   13      13                17   \n",
       "\n",
       "   Пользователь ПК  Грамотность  Организация учебного процесса  \\\n",
       "0               20           22                             30   \n",
       "\n",
       "   Обучение и развитие  Грамотная речь  Обучение  Преподаватель  \n",
       "0                   36              36        40             43  \n",
       "\n",
       "[1 rows x 163 columns]"
      ]
     },
     "execution_count": 32,
     "metadata": {},
     "output_type": "execute_result"
    }
   ],
   "source": [
    "# Какие ключевые навыки требуются для данной вакансии?\n",
    "key_skills = dict()\n",
    "\n",
    "for i in final_data['key_skills']:\n",
    "    for j in i:\n",
    "        if key_skills.get(j) != None:\n",
    "            key_skills[j] += 1\n",
    "        else:\n",
    "            key_skills.update({j : 1})\n",
    "            \n",
    "key_skills = {k: v for k, v in sorted(key_skills.items(), key=lambda item: item[1])}\n",
    "pd.DataFrame(key_skills, index = [0])"
   ]
  },
  {
   "cell_type": "code",
   "execution_count": 33,
   "metadata": {},
   "outputs": [
    {
     "data": {
      "text/html": [
       "<div>\n",
       "<style scoped>\n",
       "    .dataframe tbody tr th:only-of-type {\n",
       "        vertical-align: middle;\n",
       "    }\n",
       "\n",
       "    .dataframe tbody tr th {\n",
       "        vertical-align: top;\n",
       "    }\n",
       "\n",
       "    .dataframe thead th {\n",
       "        text-align: right;\n",
       "    }\n",
       "</style>\n",
       "<table border=\"1\" class=\"dataframe\">\n",
       "  <thead>\n",
       "    <tr style=\"text-align: right;\">\n",
       "      <th></th>\n",
       "      <th>counts</th>\n",
       "    </tr>\n",
       "    <tr>\n",
       "      <th>experience</th>\n",
       "      <th></th>\n",
       "    </tr>\n",
       "  </thead>\n",
       "  <tbody>\n",
       "    <tr>\n",
       "      <th>Более 6 лет</th>\n",
       "      <td>12</td>\n",
       "    </tr>\n",
       "    <tr>\n",
       "      <th>Нет опыта</th>\n",
       "      <td>24</td>\n",
       "    </tr>\n",
       "    <tr>\n",
       "      <th>От 1 года до 3 лет</th>\n",
       "      <td>61</td>\n",
       "    </tr>\n",
       "    <tr>\n",
       "      <th>От 3 до 6 лет</th>\n",
       "      <td>58</td>\n",
       "    </tr>\n",
       "  </tbody>\n",
       "</table>\n",
       "</div>"
      ],
      "text/plain": [
       "                    counts\n",
       "experience                \n",
       "Более 6 лет             12\n",
       "Нет опыта               24\n",
       "От 1 года до 3 лет      61\n",
       "От 3 до 6 лет           58"
      ]
     },
     "execution_count": 33,
     "metadata": {},
     "output_type": "execute_result"
    }
   ],
   "source": [
    "# Какой опыт требуется для данной вакансии?\n",
    "experience_data = final_data[['name', 'experience']].groupby('experience').count()\n",
    "experience_data.rename(columns = {'name':'counts'})"
   ]
  },
  {
   "cell_type": "code",
   "execution_count": 34,
   "metadata": {},
   "outputs": [
    {
     "data": {
      "text/html": [
       "<div>\n",
       "<style scoped>\n",
       "    .dataframe tbody tr th:only-of-type {\n",
       "        vertical-align: middle;\n",
       "    }\n",
       "\n",
       "    .dataframe tbody tr th {\n",
       "        vertical-align: top;\n",
       "    }\n",
       "\n",
       "    .dataframe thead th {\n",
       "        text-align: right;\n",
       "    }\n",
       "</style>\n",
       "<table border=\"1\" class=\"dataframe\">\n",
       "  <thead>\n",
       "    <tr style=\"text-align: right;\">\n",
       "      <th></th>\n",
       "      <th>counts</th>\n",
       "    </tr>\n",
       "    <tr>\n",
       "      <th>employer</th>\n",
       "      <th></th>\n",
       "    </tr>\n",
       "  </thead>\n",
       "  <tbody>\n",
       "    <tr>\n",
       "      <th>Центр онлайн-обучения Нетология-групп</th>\n",
       "      <td>10</td>\n",
       "    </tr>\n",
       "    <tr>\n",
       "      <th>Uchi.ru</th>\n",
       "      <td>9</td>\n",
       "    </tr>\n",
       "    <tr>\n",
       "      <th>Ozon</th>\n",
       "      <td>9</td>\n",
       "    </tr>\n",
       "    <tr>\n",
       "      <th>Алгоритмика</th>\n",
       "      <td>9</td>\n",
       "    </tr>\n",
       "    <tr>\n",
       "      <th>Skyeng</th>\n",
       "      <td>8</td>\n",
       "    </tr>\n",
       "  </tbody>\n",
       "</table>\n",
       "</div>"
      ],
      "text/plain": [
       "                                       counts\n",
       "employer                                     \n",
       "Центр онлайн-обучения Нетология-групп      10\n",
       "Uchi.ru                                     9\n",
       "Ozon                                        9\n",
       "Алгоритмика                                 9\n",
       "Skyeng                                      8"
      ]
     },
     "execution_count": 34,
     "metadata": {},
     "output_type": "execute_result"
    }
   ],
   "source": [
    "# Какие работодатели в топе?\n",
    "employer_data = final_data[['name', 'employer']].groupby('employer').count()\n",
    "employer_data.rename(columns = {'name':'counts'}, inplace = True)\n",
    "employer_data.sort_values(by = 'counts', ascending=False).head()"
   ]
  },
  {
   "cell_type": "code",
   "execution_count": 35,
   "metadata": {},
   "outputs": [
    {
     "data": {
      "text/html": [
       "<div>\n",
       "<style scoped>\n",
       "    .dataframe tbody tr th:only-of-type {\n",
       "        vertical-align: middle;\n",
       "    }\n",
       "\n",
       "    .dataframe tbody tr th {\n",
       "        vertical-align: top;\n",
       "    }\n",
       "\n",
       "    .dataframe thead th {\n",
       "        text-align: right;\n",
       "    }\n",
       "</style>\n",
       "<table border=\"1\" class=\"dataframe\">\n",
       "  <thead>\n",
       "    <tr style=\"text-align: right;\">\n",
       "      <th></th>\n",
       "      <th>counts</th>\n",
       "    </tr>\n",
       "    <tr>\n",
       "      <th>metro_station</th>\n",
       "      <th></th>\n",
       "    </tr>\n",
       "  </thead>\n",
       "  <tbody>\n",
       "    <tr>\n",
       "      <th>Улица 1905 года</th>\n",
       "      <td>5</td>\n",
       "    </tr>\n",
       "    <tr>\n",
       "      <th>Деловой центр</th>\n",
       "      <td>4</td>\n",
       "    </tr>\n",
       "    <tr>\n",
       "      <th>Алексеевская</th>\n",
       "      <td>1</td>\n",
       "    </tr>\n",
       "    <tr>\n",
       "      <th>Октябрьское поле</th>\n",
       "      <td>1</td>\n",
       "    </tr>\n",
       "    <tr>\n",
       "      <th>Тульская</th>\n",
       "      <td>1</td>\n",
       "    </tr>\n",
       "  </tbody>\n",
       "</table>\n",
       "</div>"
      ],
      "text/plain": [
       "                  counts\n",
       "metro_station           \n",
       "Улица 1905 года        5\n",
       "Деловой центр          4\n",
       "Алексеевская           1\n",
       "Октябрьское поле       1\n",
       "Тульская               1"
      ]
     },
     "execution_count": 35,
     "metadata": {},
     "output_type": "execute_result"
    }
   ],
   "source": [
    "# В каком районе Москвы данная вакансия пользуется наибольшим и наименьшим спросом?\n",
    "area_data = final_data[['name', 'metro_station']].groupby('metro_station').count()\n",
    "area_data.rename(columns = {'name':'counts'}, inplace = True)\n",
    "area_data.sort_values(by = 'counts', ascending=False, inplace = True)\n",
    "area_data.head()"
   ]
  },
  {
   "cell_type": "code",
   "execution_count": 36,
   "metadata": {},
   "outputs": [
    {
     "data": {
      "text/html": [
       "<div>\n",
       "<style scoped>\n",
       "    .dataframe tbody tr th:only-of-type {\n",
       "        vertical-align: middle;\n",
       "    }\n",
       "\n",
       "    .dataframe tbody tr th {\n",
       "        vertical-align: top;\n",
       "    }\n",
       "\n",
       "    .dataframe thead th {\n",
       "        text-align: right;\n",
       "    }\n",
       "</style>\n",
       "<table border=\"1\" class=\"dataframe\">\n",
       "  <thead>\n",
       "    <tr style=\"text-align: right;\">\n",
       "      <th></th>\n",
       "      <th>counts</th>\n",
       "    </tr>\n",
       "    <tr>\n",
       "      <th>metro_station</th>\n",
       "      <th></th>\n",
       "    </tr>\n",
       "  </thead>\n",
       "  <tbody>\n",
       "    <tr>\n",
       "      <th>Бунинская аллея</th>\n",
       "      <td>1</td>\n",
       "    </tr>\n",
       "    <tr>\n",
       "      <th>Белорусская</th>\n",
       "      <td>1</td>\n",
       "    </tr>\n",
       "    <tr>\n",
       "      <th>Багратионовская</th>\n",
       "      <td>1</td>\n",
       "    </tr>\n",
       "    <tr>\n",
       "      <th>Аэропорт</th>\n",
       "      <td>1</td>\n",
       "    </tr>\n",
       "    <tr>\n",
       "      <th>Фрунзенская</th>\n",
       "      <td>1</td>\n",
       "    </tr>\n",
       "  </tbody>\n",
       "</table>\n",
       "</div>"
      ],
      "text/plain": [
       "                 counts\n",
       "metro_station          \n",
       "Бунинская аллея       1\n",
       "Белорусская           1\n",
       "Багратионовская       1\n",
       "Аэропорт              1\n",
       "Фрунзенская           1"
      ]
     },
     "execution_count": 36,
     "metadata": {},
     "output_type": "execute_result"
    }
   ],
   "source": [
    "area_data.tail()"
   ]
  },
  {
   "cell_type": "code",
   "execution_count": 37,
   "metadata": {},
   "outputs": [
    {
     "name": "stderr",
     "output_type": "stream",
     "text": [
      "c:\\users\\acer\\appdata\\local\\programs\\python\\python37\\lib\\site-packages\\numpy\\lib\\histograms.py:839: RuntimeWarning:\n",
      "\n",
      "invalid value encountered in greater_equal\n",
      "\n",
      "c:\\users\\acer\\appdata\\local\\programs\\python\\python37\\lib\\site-packages\\numpy\\lib\\histograms.py:840: RuntimeWarning:\n",
      "\n",
      "invalid value encountered in less_equal\n",
      "\n",
      "No handles with labels found to put in legend.\n"
     ]
    },
    {
     "data": {
      "image/png": "[encoded data removed]",
      "text/plain": [
       "<Figure size 1080x504 with 1 Axes>"
      ]
     },
     "metadata": {
      "needs_background": "light"
     },
     "output_type": "display_data"
    }
   ],
   "source": [
    "# гистограмма распределения заработной платы;\n",
    "plt.figure(figsize = (15, 7))\n",
    "\n",
    "plt.hist(\n",
    "    (final_data['salary_from'] + final_data['salary_to'])/2, \n",
    "    bins = 10, \n",
    "    alpha = 0.6, \n",
    "    color = 'black'\n",
    ")\n",
    "\n",
    "plt.xlabel('Зарплаты', fontsize=14)\n",
    "plt.ylabel('Количество', fontsize=14)\n",
    "plt.title(' гистограмма зарплат')\n",
    "plt.legend()\n",
    "plt.grid(ls=':')\n",
    "plt.show()"
   ]
  },
  {
   "cell_type": "code",
   "execution_count": 46,
   "metadata": {},
   "outputs": [],
   "source": [
    "# heatmap, отображающий зависимость количества вакансий от группы и навыка;\n",
    "skills = ['Преподаватель',\n",
    "          'Обучение',\n",
    "          'Грамотная речь',\n",
    "          'Организация учебного процесса',\n",
    "          'Пользователь ПК',\n",
    "          'Работа в команде',\n",
    "          'Python',\n",
    "          'SQL']\n",
    "\n",
    "def help_fun_teac(value):\n",
    "    for i in value:\n",
    "        if i == 'Преподаватель':\n",
    "            return 1\n",
    "    return 0\n",
    "\n",
    "def help_fun_ob(value):\n",
    "    for i in value:\n",
    "        if i == 'Обучение':\n",
    "            return 1\n",
    "    return 0\n",
    "\n",
    "def help_fun_sp(value):\n",
    "    for i in value:\n",
    "        if i == 'Грамотная речь':\n",
    "            return 1\n",
    "    return 0\n",
    "\n",
    "def help_fun_st(value):\n",
    "    for i in value:\n",
    "        if i == 'Организация учебного процесса':\n",
    "            return 1\n",
    "    return 0\n",
    "\n",
    "def help_fun_pc(value):\n",
    "    for i in value:\n",
    "        if i == 'Пользователь ПК':\n",
    "            return 1\n",
    "    return 0\n",
    "\n",
    "def help_fun_team(value):\n",
    "    for i in value:\n",
    "        if i == 'Работа в команде':\n",
    "            return 1\n",
    "    return 0\n",
    "\n",
    "def help_fun_python(value):\n",
    "    for i in value:\n",
    "        if i == 'Python':\n",
    "            return 1\n",
    "    return 0\n",
    "\n",
    "def help_fun_sql(value):\n",
    "    for i in value:\n",
    "        if i == 'SQL':\n",
    "            return 1\n",
    "    return 0\n",
    "          \n",
    "final_data['Преподаватель'] = final_data['key_skills'].apply(help_fun_teac)\n",
    "final_data['Обучение'] = final_data['key_skills'].apply(help_fun_ob)\n",
    "final_data['Грамотная речь'] = final_data['key_skills'].apply(help_fun_sp)\n",
    "final_data['Организация учебного процесса'] = final_data['key_skills'].apply(help_fun_st)\n",
    "final_data['Пользователь ПК'] = final_data['key_skills'].apply(help_fun_pc)\n",
    "final_data['Работа в команде'] = final_data['key_skills'].apply(help_fun_team)\n",
    "final_data['Python'] = final_data['key_skills'].apply(help_fun_python)\n",
    "final_data['SQL'] = final_data['key_skills'].apply(help_fun_sql)"
   ]
  },
  {
   "cell_type": "code",
   "execution_count": 47,
   "metadata": {},
   "outputs": [
    {
     "data": {
      "image/png": "[encoded data removed]",
      "text/plain": [
       "<Figure size 1296x648 with 1 Axes>"
      ]
     },
     "metadata": {
      "needs_background": "light"
     },
     "output_type": "display_data"
    }
   ],
   "source": [
    "# зависимость средней заработной платы от требуемых навыков;\n",
    "final_data['salary_mean'] = (final_data['salary_from'] + final_data['salary_to'])/2\n",
    "graph = []\n",
    "\n",
    "for i in skills:\n",
    "    graph.append(final_data[['salary_mean', i]].groupby(i).sum().iloc[1,0])\n",
    "    \n",
    "plt.figure(figsize=(18, 9))\n",
    "\n",
    "plt.bar(\n",
    "    range(len(graph)),\n",
    "    graph,\n",
    "    color = 'green', \n",
    "    lw = 2\n",
    ")\n",
    "\n",
    "skills = ['Преподаватель',\n",
    "          'Обучение',\n",
    "          'Грамотная\\nречь',\n",
    "          'Организация\\nучебного\\nпроцесса',\n",
    "          'Пользователь\\nПК',\n",
    "          'Работа в команде',\n",
    "          'Python',\n",
    "          'SQL']\n",
    "\n",
    "plt.xticks(range(len(graph)), skills)\n",
    "\n",
    "plt.ylabel('Средняя зарплата')\n",
    "plt.xlabel('Навык')\n",
    "plt.legend(['Зависимость средней зарплаты от навыков'])\n",
    "plt.show()"
   ]
  },
  {
   "cell_type": "code",
   "execution_count": 54,
   "metadata": {
    "scrolled": true
   },
   "outputs": [
    {
     "data": {
      "application/vnd.plotly.v1+json": {
       "config": {
        "plotlyServerURL": "https://plot.ly"
       },
       "data": [
        {
         "lat": [
          55.729741,
          null,
          null,
          null,
          55.780014,
          55.652923,
          null,
          null,
          null,
          null,
          55.677423,
          null,
          55.789282,
          null,
          55.676549,
          null,
          null,
          null,
          null,
          55.709211,
          null,
          55.899034,
          null,
          null,
          null,
          null,
          null,
          55.722388,
          55.730673,
          null,
          null,
          55.70961,
          null,
          null,
          null,
          null,
          55.763944,
          null,
          null,
          55.729542,
          55.743544,
          null,
          null,
          null,
          null,
          55.537977,
          null,
          null,
          null,
          55.838978,
          55.807794,
          null,
          null,
          null,
          null,
          null,
          null,
          null,
          null,
          null,
          55.805564,
          null,
          null,
          null,
          null,
          null,
          null,
          null,
          null,
          null,
          null,
          null,
          55.854152,
          null,
          null,
          55.705493,
          null,
          null,
          null,
          null,
          null,
          55.846098,
          55.793581,
          55.716139,
          null,
          null,
          null,
          null,
          null,
          null,
          null,
          null,
          55.7491,
          null,
          null,
          null,
          55.783096,
          null,
          null,
          55.777439,
          null,
          null,
          55.763944,
          null,
          null,
          55.763944,
          null,
          null,
          null,
          55.763944,
          55.7491,
          null,
          null,
          null,
          55.763944,
          null,
          null,
          null,
          null,
          null,
          null,
          null,
          null,
          55.727462,
          55.859676,
          null,
          null,
          null,
          null,
          null,
          null,
          55.7491,
          null,
          null,
          null,
          null,
          null,
          null,
          null,
          null,
          null,
          55.7491,
          55.740746,
          null,
          null,
          null,
          null,
          null,
          null,
          null,
          null,
          null,
          55.800441,
          55.756842,
          null
         ],
         "lon": [
          37.638693,
          null,
          null,
          null,
          37.666097,
          37.596573,
          null,
          null,
          null,
          null,
          37.663719,
          null,
          37.679895,
          null,
          37.504584,
          null,
          null,
          null,
          null,
          37.732117,
          null,
          37.586473,
          null,
          null,
          null,
          null,
          null,
          37.562041,
          37.446522,
          null,
          null,
          37.622569,
          null,
          null,
          null,
          null,
          37.562271,
          null,
          null,
          37.470973,
          37.497042,
          null,
          null,
          null,
          null,
          37.515899,
          null,
          null,
          null,
          37.487515,
          37.638699,
          null,
          null,
          null,
          null,
          null,
          null,
          null,
          null,
          null,
          37.515245,
          null,
          null,
          null,
          null,
          null,
          null,
          null,
          null,
          null,
          null,
          null,
          37.476728,
          null,
          null,
          37.763295,
          null,
          null,
          null,
          null,
          null,
          37.36122,
          37.493317,
          37.792694,
          null,
          null,
          null,
          null,
          null,
          null,
          null,
          null,
          37.5395,
          null,
          null,
          null,
          37.719289,
          null,
          null,
          37.582107,
          null,
          null,
          37.562271,
          null,
          null,
          37.562271,
          null,
          null,
          null,
          37.562271,
          37.5395,
          null,
          null,
          null,
          37.562271,
          null,
          null,
          null,
          null,
          null,
          null,
          null,
          null,
          37.58022,
          37.436808,
          null,
          null,
          null,
          null,
          null,
          null,
          37.5395,
          null,
          null,
          null,
          null,
          null,
          null,
          null,
          null,
          null,
          37.5395,
          37.65604,
          null,
          null,
          null,
          null,
          null,
          null,
          null,
          null,
          null,
          37.530477,
          37.408139,
          null
         ],
         "marker": {
          "color": [
           80000,
           90000,
           73449.99999999999,
           73449.99999999999,
           null,
           118649.99999999999,
           null,
           70000,
           52500,
           72000,
           92500,
           80000,
           98309.99999999999,
           101699.99999999999,
           100000,
           null,
           null,
           null,
           null,
           45200,
           56499.99999999999,
           null,
           null,
           67800,
           67800,
           null,
           null,
           null,
           67800,
           112999.99999999999,
           null,
           null,
           61358.999999999985,
           null,
           null,
           67800,
           null,
           57500,
           null,
           33899.99999999999,
           78000,
           141249.99999999997,
           null,
           null,
           72000,
           56499.99999999999,
           null,
           79099.99999999999,
           null,
           80000,
           null,
           59324.999999999985,
           null,
           null,
           null,
           null,
           115000,
           67799.99999999999,
           22599.999999999996,
           37500,
           null,
           null,
           78000,
           45200,
           null,
           107349.99999999999,
           67800,
           null,
           null,
           56499.99999999999,
           60000,
           141249.99999999997,
           80000,
           null,
           null,
           100000,
           42374.99999999999,
           79000,
           100000,
           null,
           null,
           56499.99999999999,
           89000,
           135600,
           45200,
           56500,
           65000,
           null,
           null,
           null,
           null,
           76274.99999999999,
           null,
           22600,
           null,
           null,
           175000,
           67800,
           null,
           null,
           null,
           40000,
           null,
           null,
           null,
           null,
           56499.99999999999,
           112999.99999999999,
           56499.99999999999,
           null,
           null,
           112999.99999999999,
           null,
           null,
           null,
           null,
           112999.99999999999,
           53674.99999999999,
           null,
           null,
           null,
           null,
           73449.99999999999,
           79099.99999999999,
           40000,
           169499.99999999997,
           null,
           53109.99999999999,
           70000,
           70000,
           70000,
           null,
           70000,
           null,
           70000,
           null,
           36725,
           45764.99999999999,
           36725,
           125000,
           15000,
           null,
           null,
           null,
           55000,
           null,
           null,
           79099.99999999999,
           null,
           49380.99999999999,
           45199.99999999999,
           90399.99999999999,
           70000,
           null,
           56500
          ],
          "colorbar": {
           "title": {
            "text": "Зарплаты"
           }
          }
         },
         "text": [
          "Учитель математики",
          "Учитель математики на английском языке в частную школу",
          "Преподаватель математики онлайн",
          "Преподаватель математики онлайн",
          "Учитель физики и математики",
          "Учитель математики",
          "Преподаватель в онлайн-школу",
          "Учитель математики (Заморенова, 29)",
          "Ассистент / старший преподаватель (доцент)",
          "Преподаватель математики",
          "Учитель математики",
          "Учитель математики",
          "Учитель начальных классов",
          "Учитель математики (Новая Москва)",
          "Учитель математики",
          "Учитель математики",
          "Преподаватель математики (онлайн)",
          "Учитель математики в Международную гимназию, Сколково",
          "Учитель начальных классов",
          "Преподаватель математики",
          "Методист образовательных программ",
          "Учитель математики",
          "Учитель математики (Школа Сотрудничества)",
          "Методист по математике (Моро)",
          "Методист по математике в начальную школу",
          "Учитель математики",
          "Учитель начальных классов",
          "Учитель математики",
          "Учитель начальных классов",
          "Учитель математики / руководитель методического объединения",
          "Репетитор по математике (5-9 класс)",
          "Репетитор по математике в онлайн-школу",
          "Педагог по ментальной арифметике, каллиграфии, чтению и скорочтению",
          "Преподаватель кружка программирования (Python)",
          "Преподаватель кружка программирования",
          "Методист в начальную школу (Моро)",
          "Старший методист-продюсер по математике",
          "Учитель математики и физики",
          "Методист онлайн-курсов по математике (средние и старшие классы)",
          "Учитель математики в нешкольном формате",
          "Учитель математики",
          "Учитель начальной школы по математике",
          "Учитель математики (профильный уровень)",
          "Учитель информатики и математики",
          "Преподаватель/репетитор математики (удаленно)",
          "Педагог начальных классов",
          "Учитель математики",
          "Учитель математики (следующий учебный год)",
          "Методист по Математике",
          "Учитель физики и математики",
          "Преподаватель математики",
          "Педагог по английскому языку",
          "Преподаватель математики",
          "Ведущий учитель математики (руководитель кафедры)",
          "Учитель математики (с 5-го класса)",
          "Учитель математики",
          "Репетитор по математике",
          "Педагог начальной школы со знанием английского языка",
          "Учитель математики в онлайн-школе",
          "Учитель начальных классов онлайн",
          "Учитель математики",
          "Преподаватель по курсу BI",
          "Учитель математики",
          "Учитель математики Онлайн школа",
          "Учитель математики",
          "Преподаватель-методист (информатика /математика)",
          "Репетитор по математике (олимпиады)",
          "Учитель математики",
          "Преподаватель по курсу Python",
          "Репетитор по математике (ЕГЭ)",
          "Учитель математики (Сочи)",
          "Репетитор по математике в начальных классах",
          "Учитель математики",
          "Учитель (преподаватель) математики",
          "Преподаватель математики / Репетитор (Учитель)",
          "Учитель математики",
          "Преподаватель математики в средней школе",
          "Учитель математики",
          "Преподаватель математики",
          "Преподаватель по курсу MS Excel",
          "Учитель математики",
          "Преподаватель математики и физики",
          "Учитель математики",
          "Учитель математики-ответственный за методическую работу",
          "Учитель начальных классов (Онлайн школа)",
          "Учитель математики средних классов",
          "Учитель математики в частную школу",
          "Методист-преподаватель по курсу Roblox",
          "Методист в начальную школу",
          "Преподаватель курса \" Математика для DataScience \"",
          "Учитель математики в Семейные классы",
          "Преподаватель по русскому языку (ОГЭ) в онлайн-школу",
          "Преподаватель по курсу SQL",
          "Преподаватель по робототехнике",
          "Преподаватель начальных классов",
          "Преподаватель кружка программирования Scratch (на английском языке)",
          "Доцент (математика, программирование, машинное обучение, робототехника)",
          "Методист по биологии",
          "Заведующий кафедрой математики",
          "Руководитель отдела Data Analysis",
          "Редактор",
          "Преподаватель по программированию",
          "Продуктовый аналитик",
          "Специалист по подготовке ГДЗ",
          "SEO редактор",
          "Бизнес-аналитик",
          "Менеджер по персоналу (HR-менеджер)",
          "Маркетолог (Digital)",
          "Менеджер по продажам",
          "Senior Product Analyst (Сервисы для учителей)",
          "Стажер бизнес-аналитик в финансово-аналитический отдел",
          "Middle QA engineer (проект Teachers)",
          "Product Analyst",
          "Менеджер по продажам курса математики",
          "Бизнес-аналитик",
          "Куратор",
          "Middle QA engineer",
          "Младший воспитатель в детский сад",
          "Frontend Developer (Education)",
          "Senior Product analyst",
          "Менеджер по вводным встречам",
          "Методист по информатике и программированию (удаленно)",
          "Автор студенческих работ по техническим дисциплинам",
          "Ведущий методист/редактор по математике",
          "Специалист по технической информации и документации",
          "Преподаватель по Data Science",
          "Fullstack Web Developer (Education)",
          "Менеджер вводного урока",
          "Научный сотрудник в департамент прикладной математики МИЭМ (Программа российских постдоков)",
          "Научный сотрудник в центр нейроэкономики и когнитивных исследований (постдоки)",
          "Научный сотрудник в центр нейроэкономики и когнитивных исследований института когнитивных нейронаук",
          "Аналитик данных/стажер",
          "Научный сотрудник в НУЛ алгебраических групп преобразований/ постдоки",
          "Преподаватель курсов Web-аналитики",
          "Постдок в Международную лабораторию статистической и вычислительной геномики",
          "Методист курса программирования на Python (удаленно)",
          "Телемаркетолог",
          "Менеджер по продажам",
          "Менеджер по продажам",
          "Руководитель GR проектов",
          "Автор учебно-методических материалов",
          "Стажер/Бизнес-аналитик",
          "Продуктовый дизайнер Skysmart",
          "Преподаватель кружка программирования Python (на английском языке)",
          "Воспитатель в частный детский сад",
          "Руководитель образовательного направления",
          "Репетитор по домашнему заданию",
          "Тьютор (Новая Москва)",
          "Эксперт по обучению и развитию преподавателей (со знанием Английского и Испанского языков)",
          "Педагог по ораторскому искусству (сценической речи, самопрезентации)",
          "Редактор",
          "Воспитатель в частный детский сад",
          "Классный руководитель – предметник Монтессори класса (12-15 лет)",
          "Assistant teacher / Помощник преподавателя",
          "Педагог/тренер по шахматам"
         ],
         "type": "scattermapbox"
        }
       ],
       "layout": {
        "mapbox": {
         "center": {
          "lat": 55.729741,
          "lon": 37.638693
         },
         "style": "open-street-map",
         "zoom": 9
        },
        "template": {
         "data": {
          "bar": [
           {
            "error_x": {
             "color": "#2a3f5f"
            },
            "error_y": {
             "color": "#2a3f5f"
            },
            "marker": {
             "line": {
              "color": "#E5ECF6",
              "width": 0.5
             }
            },
            "type": "bar"
           }
          ],
          "barpolar": [
           {
            "marker": {
             "line": {
              "color": "#E5ECF6",
              "width": 0.5
             }
            },
            "type": "barpolar"
           }
          ],
          "carpet": [
           {
            "aaxis": {
             "endlinecolor": "#2a3f5f",
             "gridcolor": "white",
             "linecolor": "white",
             "minorgridcolor": "white",
             "startlinecolor": "#2a3f5f"
            },
            "baxis": {
             "endlinecolor": "#2a3f5f",
             "gridcolor": "white",
             "linecolor": "white",
             "minorgridcolor": "white",
             "startlinecolor": "#2a3f5f"
            },
            "type": "carpet"
           }
          ],
          "choropleth": [
           {
            "colorbar": {
             "outlinewidth": 0,
             "ticks": ""
            },
            "type": "choropleth"
           }
          ],
          "contour": [
           {
            "colorbar": {
             "outlinewidth": 0,
             "ticks": ""
            },
            "colorscale": [
             [
              0,
              "#0d0887"
             ],
             [
              0.1111111111111111,
              "#46039f"
             ],
             [
              0.2222222222222222,
              "#7201a8"
             ],
             [
              0.3333333333333333,
              "#9c179e"
             ],
             [
              0.4444444444444444,
              "#bd3786"
             ],
             [
              0.5555555555555556,
              "#d8576b"
             ],
             [
              0.6666666666666666,
              "#ed7953"
             ],
             [
              0.7777777777777778,
              "#fb9f3a"
             ],
             [
              0.8888888888888888,
              "#fdca26"
             ],
             [
              1,
              "#f0f921"
             ]
            ],
            "type": "contour"
           }
          ],
          "contourcarpet": [
           {
            "colorbar": {
             "outlinewidth": 0,
             "ticks": ""
            },
            "type": "contourcarpet"
           }
          ],
          "heatmap": [
           {
            "colorbar": {
             "outlinewidth": 0,
             "ticks": ""
            },
            "colorscale": [
             [
              0,
              "#0d0887"
             ],
             [
              0.1111111111111111,
              "#46039f"
             ],
             [
              0.2222222222222222,
              "#7201a8"
             ],
             [
              0.3333333333333333,
              "#9c179e"
             ],
             [
              0.4444444444444444,
              "#bd3786"
             ],
             [
              0.5555555555555556,
              "#d8576b"
             ],
             [
              0.6666666666666666,
              "#ed7953"
             ],
             [
              0.7777777777777778,
              "#fb9f3a"
             ],
             [
              0.8888888888888888,
              "#fdca26"
             ],
             [
              1,
              "#f0f921"
             ]
            ],
            "type": "heatmap"
           }
          ],
          "heatmapgl": [
           {
            "colorbar": {
             "outlinewidth": 0,
             "ticks": ""
            },
            "colorscale": [
             [
              0,
              "#0d0887"
             ],
             [
              0.1111111111111111,
              "#46039f"
             ],
             [
              0.2222222222222222,
              "#7201a8"
             ],
             [
              0.3333333333333333,
              "#9c179e"
             ],
             [
              0.4444444444444444,
              "#bd3786"
             ],
             [
              0.5555555555555556,
              "#d8576b"
             ],
             [
              0.6666666666666666,
              "#ed7953"
             ],
             [
              0.7777777777777778,
              "#fb9f3a"
             ],
             [
              0.8888888888888888,
              "#fdca26"
             ],
             [
              1,
              "#f0f921"
             ]
            ],
            "type": "heatmapgl"
           }
          ],
          "histogram": [
           {
            "marker": {
             "colorbar": {
              "outlinewidth": 0,
              "ticks": ""
             }
            },
            "type": "histogram"
           }
          ],
          "histogram2d": [
           {
            "colorbar": {
             "outlinewidth": 0,
             "ticks": ""
            },
            "colorscale": [
             [
              0,
              "#0d0887"
             ],
             [
              0.1111111111111111,
              "#46039f"
             ],
             [
              0.2222222222222222,
              "#7201a8"
             ],
             [
              0.3333333333333333,
              "#9c179e"
             ],
             [
              0.4444444444444444,
              "#bd3786"
             ],
             [
              0.5555555555555556,
              "#d8576b"
             ],
             [
              0.6666666666666666,
              "#ed7953"
             ],
             [
              0.7777777777777778,
              "#fb9f3a"
             ],
             [
              0.8888888888888888,
              "#fdca26"
             ],
             [
              1,
              "#f0f921"
             ]
            ],
            "type": "histogram2d"
           }
          ],
          "histogram2dcontour": [
           {
            "colorbar": {
             "outlinewidth": 0,
             "ticks": ""
            },
            "colorscale": [
             [
              0,
              "#0d0887"
             ],
             [
              0.1111111111111111,
              "#46039f"
             ],
             [
              0.2222222222222222,
              "#7201a8"
             ],
             [
              0.3333333333333333,
              "#9c179e"
             ],
             [
              0.4444444444444444,
              "#bd3786"
             ],
             [
              0.5555555555555556,
              "#d8576b"
             ],
             [
              0.6666666666666666,
              "#ed7953"
             ],
             [
              0.7777777777777778,
              "#fb9f3a"
             ],
             [
              0.8888888888888888,
              "#fdca26"
             ],
             [
              1,
              "#f0f921"
             ]
            ],
            "type": "histogram2dcontour"
           }
          ],
          "mesh3d": [
           {
            "colorbar": {
             "outlinewidth": 0,
             "ticks": ""
            },
            "type": "mesh3d"
           }
          ],
          "parcoords": [
           {
            "line": {
             "colorbar": {
              "outlinewidth": 0,
              "ticks": ""
             }
            },
            "type": "parcoords"
           }
          ],
          "pie": [
           {
            "automargin": true,
            "type": "pie"
           }
          ],
          "scatter": [
           {
            "marker": {
             "colorbar": {
              "outlinewidth": 0,
              "ticks": ""
             }
            },
            "type": "scatter"
           }
          ],
          "scatter3d": [
           {
            "line": {
             "colorbar": {
              "outlinewidth": 0,
              "ticks": ""
             }
            },
            "marker": {
             "colorbar": {
              "outlinewidth": 0,
              "ticks": ""
             }
            },
            "type": "scatter3d"
           }
          ],
          "scattercarpet": [
           {
            "marker": {
             "colorbar": {
              "outlinewidth": 0,
              "ticks": ""
             }
            },
            "type": "scattercarpet"
           }
          ],
          "scattergeo": [
           {
            "marker": {
             "colorbar": {
              "outlinewidth": 0,
              "ticks": ""
             }
            },
            "type": "scattergeo"
           }
          ],
          "scattergl": [
           {
            "marker": {
             "colorbar": {
              "outlinewidth": 0,
              "ticks": ""
             }
            },
            "type": "scattergl"
           }
          ],
          "scattermapbox": [
           {
            "marker": {
             "colorbar": {
              "outlinewidth": 0,
              "ticks": ""
             }
            },
            "type": "scattermapbox"
           }
          ],
          "scatterpolar": [
           {
            "marker": {
             "colorbar": {
              "outlinewidth": 0,
              "ticks": ""
             }
            },
            "type": "scatterpolar"
           }
          ],
          "scatterpolargl": [
           {
            "marker": {
             "colorbar": {
              "outlinewidth": 0,
              "ticks": ""
             }
            },
            "type": "scatterpolargl"
           }
          ],
          "scatterternary": [
           {
            "marker": {
             "colorbar": {
              "outlinewidth": 0,
              "ticks": ""
             }
            },
            "type": "scatterternary"
           }
          ],
          "surface": [
           {
            "colorbar": {
             "outlinewidth": 0,
             "ticks": ""
            },
            "colorscale": [
             [
              0,
              "#0d0887"
             ],
             [
              0.1111111111111111,
              "#46039f"
             ],
             [
              0.2222222222222222,
              "#7201a8"
             ],
             [
              0.3333333333333333,
              "#9c179e"
             ],
             [
              0.4444444444444444,
              "#bd3786"
             ],
             [
              0.5555555555555556,
              "#d8576b"
             ],
             [
              0.6666666666666666,
              "#ed7953"
             ],
             [
              0.7777777777777778,
              "#fb9f3a"
             ],
             [
              0.8888888888888888,
              "#fdca26"
             ],
             [
              1,
              "#f0f921"
             ]
            ],
            "type": "surface"
           }
          ],
          "table": [
           {
            "cells": {
             "fill": {
              "color": "#EBF0F8"
             },
             "line": {
              "color": "white"
             }
            },
            "header": {
             "fill": {
              "color": "#C8D4E3"
             },
             "line": {
              "color": "white"
             }
            },
            "type": "table"
           }
          ]
         },
         "layout": {
          "annotationdefaults": {
           "arrowcolor": "#2a3f5f",
           "arrowhead": 0,
           "arrowwidth": 1
          },
          "autotypenumbers": "strict",
          "coloraxis": {
           "colorbar": {
            "outlinewidth": 0,
            "ticks": ""
           }
          },
          "colorscale": {
           "diverging": [
            [
             0,
             "#8e0152"
            ],
            [
             0.1,
             "#c51b7d"
            ],
            [
             0.2,
             "#de77ae"
            ],
            [
             0.3,
             "#f1b6da"
            ],
            [
             0.4,
             "#fde0ef"
            ],
            [
             0.5,
             "#f7f7f7"
            ],
            [
             0.6,
             "#e6f5d0"
            ],
            [
             0.7,
             "#b8e186"
            ],
            [
             0.8,
             "#7fbc41"
            ],
            [
             0.9,
             "#4d9221"
            ],
            [
             1,
             "#276419"
            ]
           ],
           "sequential": [
            [
             0,
             "#0d0887"
            ],
            [
             0.1111111111111111,
             "#46039f"
            ],
            [
             0.2222222222222222,
             "#7201a8"
            ],
            [
             0.3333333333333333,
             "#9c179e"
            ],
            [
             0.4444444444444444,
             "#bd3786"
            ],
            [
             0.5555555555555556,
             "#d8576b"
            ],
            [
             0.6666666666666666,
             "#ed7953"
            ],
            [
             0.7777777777777778,
             "#fb9f3a"
            ],
            [
             0.8888888888888888,
             "#fdca26"
            ],
            [
             1,
             "#f0f921"
            ]
           ],
           "sequentialminus": [
            [
             0,
             "#0d0887"
            ],
            [
             0.1111111111111111,
             "#46039f"
            ],
            [
             0.2222222222222222,
             "#7201a8"
            ],
            [
             0.3333333333333333,
             "#9c179e"
            ],
            [
             0.4444444444444444,
             "#bd3786"
            ],
            [
             0.5555555555555556,
             "#d8576b"
            ],
            [
             0.6666666666666666,
             "#ed7953"
            ],
            [
             0.7777777777777778,
             "#fb9f3a"
            ],
            [
             0.8888888888888888,
             "#fdca26"
            ],
            [
             1,
             "#f0f921"
            ]
           ]
          },
          "colorway": [
           "#636efa",
           "#EF553B",
           "#00cc96",
           "#ab63fa",
           "#FFA15A",
           "#19d3f3",
           "#FF6692",
           "#B6E880",
           "#FF97FF",
           "#FECB52"
          ],
          "font": {
           "color": "#2a3f5f"
          },
          "geo": {
           "bgcolor": "white",
           "lakecolor": "white",
           "landcolor": "#E5ECF6",
           "showlakes": true,
           "showland": true,
           "subunitcolor": "white"
          },
          "hoverlabel": {
           "align": "left"
          },
          "hovermode": "closest",
          "mapbox": {
           "style": "light"
          },
          "paper_bgcolor": "white",
          "plot_bgcolor": "#E5ECF6",
          "polar": {
           "angularaxis": {
            "gridcolor": "white",
            "linecolor": "white",
            "ticks": ""
           },
           "bgcolor": "#E5ECF6",
           "radialaxis": {
            "gridcolor": "white",
            "linecolor": "white",
            "ticks": ""
           }
          },
          "scene": {
           "xaxis": {
            "backgroundcolor": "#E5ECF6",
            "gridcolor": "white",
            "gridwidth": 2,
            "linecolor": "white",
            "showbackground": true,
            "ticks": "",
            "zerolinecolor": "white"
           },
           "yaxis": {
            "backgroundcolor": "#E5ECF6",
            "gridcolor": "white",
            "gridwidth": 2,
            "linecolor": "white",
            "showbackground": true,
            "ticks": "",
            "zerolinecolor": "white"
           },
           "zaxis": {
            "backgroundcolor": "#E5ECF6",
            "gridcolor": "white",
            "gridwidth": 2,
            "linecolor": "white",
            "showbackground": true,
            "ticks": "",
            "zerolinecolor": "white"
           }
          },
          "shapedefaults": {
           "line": {
            "color": "#2a3f5f"
           }
          },
          "ternary": {
           "aaxis": {
            "gridcolor": "white",
            "linecolor": "white",
            "ticks": ""
           },
           "baxis": {
            "gridcolor": "white",
            "linecolor": "white",
            "ticks": ""
           },
           "bgcolor": "#E5ECF6",
           "caxis": {
            "gridcolor": "white",
            "linecolor": "white",
            "ticks": ""
           }
          },
          "title": {
           "x": 0.05
          },
          "xaxis": {
           "automargin": true,
           "gridcolor": "white",
           "linecolor": "white",
           "ticks": "",
           "title": {
            "standoff": 15
           },
           "zerolinecolor": "white",
           "zerolinewidth": 2
          },
          "yaxis": {
           "automargin": true,
           "gridcolor": "white",
           "linecolor": "white",
           "ticks": "",
           "title": {
            "standoff": 15
           },
           "zerolinecolor": "white",
           "zerolinewidth": 2
          }
         }
        }
       }
      },
      "text/html": [
       "<div>                            <div id=\"e95482ed-a74c-41c0-b835-6e730253d19b\" class=\"plotly-graph-div\" style=\"height:525px; width:100%;\"></div>            <script type=\"text/javascript\">                require([\"plotly\"], function(Plotly) {                    window.PLOTLYENV=window.PLOTLYENV || {};                                    if (document.getElementById(\"e95482ed-a74c-41c0-b835-6e730253d19b\")) {                    Plotly.newPlot(                        \"e95482ed-a74c-41c0-b835-6e730253d19b\",                        [{\"lat\": [55.729741, null, null, null, 55.780014, 55.652923, null, null, null, null, 55.677423, null, 55.789282, null, 55.676549, null, null, null, null, 55.709211, null, 55.899034, null, null, null, null, null, 55.722388, 55.730673, null, null, 55.70961, null, null, null, null, 55.763944, null, null, 55.729542, 55.743544, null, null, null, null, 55.537977, null, null, null, 55.838978, 55.807794, null, null, null, null, null, null, null, null, null, 55.805564, null, null, null, null, null, null, null, null, null, null, null, 55.854152, null, null, 55.705493, null, null, null, null, null, 55.846098, 55.793581, 55.716139, null, null, null, null, null, null, null, null, 55.7491, null, null, null, 55.783096, null, null, 55.777439, null, null, 55.763944, null, null, 55.763944, null, null, null, 55.763944, 55.7491, null, null, null, 55.763944, null, null, null, null, null, null, null, null, 55.727462, 55.859676, null, null, null, null, null, null, 55.7491, null, null, null, null, null, null, null, null, null, 55.7491, 55.740746, null, null, null, null, null, null, null, null, null, 55.800441, 55.756842, null], \"lon\": [37.638693, null, null, null, 37.666097, 37.596573, null, null, null, null, 37.663719, null, 37.679895, null, 37.504584, null, null, null, null, 37.732117, null, 37.586473, null, null, null, null, null, 37.562041, 37.446522, null, null, 37.622569, null, null, null, null, 37.562271, null, null, 37.470973, 37.497042, null, null, null, null, 37.515899, null, null, null, 37.487515, 37.638699, null, null, null, null, null, null, null, null, null, 37.515245, null, null, null, null, null, null, null, null, null, null, null, 37.476728, null, null, 37.763295, null, null, null, null, null, 37.36122, 37.493317, 37.792694, null, null, null, null, null, null, null, null, 37.5395, null, null, null, 37.719289, null, null, 37.582107, null, null, 37.562271, null, null, 37.562271, null, null, null, 37.562271, 37.5395, null, null, null, 37.562271, null, null, null, null, null, null, null, null, 37.58022, 37.436808, null, null, null, null, null, null, 37.5395, null, null, null, null, null, null, null, null, null, 37.5395, 37.65604, null, null, null, null, null, null, null, null, null, 37.530477, 37.408139, null], \"marker\": {\"color\": [80000.0, 90000.0, 73449.99999999999, 73449.99999999999, null, 118649.99999999999, null, 70000.0, 52500.0, 72000.0, 92500.0, 80000.0, 98309.99999999999, 101699.99999999999, 100000.0, null, null, null, null, 45200.0, 56499.99999999999, null, null, 67800.0, 67800.0, null, null, null, 67800.0, 112999.99999999999, null, null, 61358.999999999985, null, null, 67800.0, null, 57500.0, null, 33899.99999999999, 78000.0, 141249.99999999997, null, null, 72000.0, 56499.99999999999, null, 79099.99999999999, null, 80000.0, null, 59324.999999999985, null, null, null, null, 115000.0, 67799.99999999999, 22599.999999999996, 37500.0, null, null, 78000.0, 45200.0, null, 107349.99999999999, 67800.0, null, null, 56499.99999999999, 60000.0, 141249.99999999997, 80000.0, null, null, 100000.0, 42374.99999999999, 79000.0, 100000.0, null, null, 56499.99999999999, 89000.0, 135600.0, 45200.0, 56500.0, 65000.0, null, null, null, null, 76274.99999999999, null, 22600.0, null, null, 175000.0, 67800.0, null, null, null, 40000.0, null, null, null, null, 56499.99999999999, 112999.99999999999, 56499.99999999999, null, null, 112999.99999999999, null, null, null, null, 112999.99999999999, 53674.99999999999, null, null, null, null, 73449.99999999999, 79099.99999999999, 40000.0, 169499.99999999997, null, 53109.99999999999, 70000.0, 70000.0, 70000.0, null, 70000.0, null, 70000.0, null, 36725.0, 45764.99999999999, 36725.0, 125000.0, 15000.0, null, null, null, 55000.0, null, null, 79099.99999999999, null, 49380.99999999999, 45199.99999999999, 90399.99999999999, 70000.0, null, 56500.0], \"colorbar\": {\"title\": {\"text\": \"\\u0417\\u0430\\u0440\\u043f\\u043b\\u0430\\u0442\\u044b\"}}}, \"text\": [\"\\u0423\\u0447\\u0438\\u0442\\u0435\\u043b\\u044c \\u043c\\u0430\\u0442\\u0435\\u043c\\u0430\\u0442\\u0438\\u043a\\u0438\", \"\\u0423\\u0447\\u0438\\u0442\\u0435\\u043b\\u044c \\u043c\\u0430\\u0442\\u0435\\u043c\\u0430\\u0442\\u0438\\u043a\\u0438 \\u043d\\u0430 \\u0430\\u043d\\u0433\\u043b\\u0438\\u0439\\u0441\\u043a\\u043e\\u043c \\u044f\\u0437\\u044b\\u043a\\u0435 \\u0432 \\u0447\\u0430\\u0441\\u0442\\u043d\\u0443\\u044e \\u0448\\u043a\\u043e\\u043b\\u0443\", \"\\u041f\\u0440\\u0435\\u043f\\u043e\\u0434\\u0430\\u0432\\u0430\\u0442\\u0435\\u043b\\u044c \\u043c\\u0430\\u0442\\u0435\\u043c\\u0430\\u0442\\u0438\\u043a\\u0438 \\u043e\\u043d\\u043b\\u0430\\u0439\\u043d\", \"\\u041f\\u0440\\u0435\\u043f\\u043e\\u0434\\u0430\\u0432\\u0430\\u0442\\u0435\\u043b\\u044c \\u043c\\u0430\\u0442\\u0435\\u043c\\u0430\\u0442\\u0438\\u043a\\u0438 \\u043e\\u043d\\u043b\\u0430\\u0439\\u043d\", \"\\u0423\\u0447\\u0438\\u0442\\u0435\\u043b\\u044c \\u0444\\u0438\\u0437\\u0438\\u043a\\u0438 \\u0438 \\u043c\\u0430\\u0442\\u0435\\u043c\\u0430\\u0442\\u0438\\u043a\\u0438\", \"\\u0423\\u0447\\u0438\\u0442\\u0435\\u043b\\u044c \\u043c\\u0430\\u0442\\u0435\\u043c\\u0430\\u0442\\u0438\\u043a\\u0438\", \"\\u041f\\u0440\\u0435\\u043f\\u043e\\u0434\\u0430\\u0432\\u0430\\u0442\\u0435\\u043b\\u044c \\u0432 \\u043e\\u043d\\u043b\\u0430\\u0439\\u043d-\\u0448\\u043a\\u043e\\u043b\\u0443\", \"\\u0423\\u0447\\u0438\\u0442\\u0435\\u043b\\u044c \\u043c\\u0430\\u0442\\u0435\\u043c\\u0430\\u0442\\u0438\\u043a\\u0438 (\\u0417\\u0430\\u043c\\u043e\\u0440\\u0435\\u043d\\u043e\\u0432\\u0430, 29)\", \"\\u0410\\u0441\\u0441\\u0438\\u0441\\u0442\\u0435\\u043d\\u0442 / \\u0441\\u0442\\u0430\\u0440\\u0448\\u0438\\u0439 \\u043f\\u0440\\u0435\\u043f\\u043e\\u0434\\u0430\\u0432\\u0430\\u0442\\u0435\\u043b\\u044c (\\u0434\\u043e\\u0446\\u0435\\u043d\\u0442)\", \"\\u041f\\u0440\\u0435\\u043f\\u043e\\u0434\\u0430\\u0432\\u0430\\u0442\\u0435\\u043b\\u044c \\u043c\\u0430\\u0442\\u0435\\u043c\\u0430\\u0442\\u0438\\u043a\\u0438\", \"\\u0423\\u0447\\u0438\\u0442\\u0435\\u043b\\u044c \\u043c\\u0430\\u0442\\u0435\\u043c\\u0430\\u0442\\u0438\\u043a\\u0438\", \"\\u0423\\u0447\\u0438\\u0442\\u0435\\u043b\\u044c \\u043c\\u0430\\u0442\\u0435\\u043c\\u0430\\u0442\\u0438\\u043a\\u0438\", \"\\u0423\\u0447\\u0438\\u0442\\u0435\\u043b\\u044c \\u043d\\u0430\\u0447\\u0430\\u043b\\u044c\\u043d\\u044b\\u0445 \\u043a\\u043b\\u0430\\u0441\\u0441\\u043e\\u0432\", \"\\u0423\\u0447\\u0438\\u0442\\u0435\\u043b\\u044c \\u043c\\u0430\\u0442\\u0435\\u043c\\u0430\\u0442\\u0438\\u043a\\u0438 (\\u041d\\u043e\\u0432\\u0430\\u044f \\u041c\\u043e\\u0441\\u043a\\u0432\\u0430)\", \"\\u0423\\u0447\\u0438\\u0442\\u0435\\u043b\\u044c \\u043c\\u0430\\u0442\\u0435\\u043c\\u0430\\u0442\\u0438\\u043a\\u0438\", \"\\u0423\\u0447\\u0438\\u0442\\u0435\\u043b\\u044c \\u043c\\u0430\\u0442\\u0435\\u043c\\u0430\\u0442\\u0438\\u043a\\u0438\", \"\\u041f\\u0440\\u0435\\u043f\\u043e\\u0434\\u0430\\u0432\\u0430\\u0442\\u0435\\u043b\\u044c \\u043c\\u0430\\u0442\\u0435\\u043c\\u0430\\u0442\\u0438\\u043a\\u0438 (\\u043e\\u043d\\u043b\\u0430\\u0439\\u043d)\", \"\\u0423\\u0447\\u0438\\u0442\\u0435\\u043b\\u044c \\u043c\\u0430\\u0442\\u0435\\u043c\\u0430\\u0442\\u0438\\u043a\\u0438 \\u0432 \\u041c\\u0435\\u0436\\u0434\\u0443\\u043d\\u0430\\u0440\\u043e\\u0434\\u043d\\u0443\\u044e \\u0433\\u0438\\u043c\\u043d\\u0430\\u0437\\u0438\\u044e, \\u0421\\u043a\\u043e\\u043b\\u043a\\u043e\\u0432\\u043e\", \"\\u0423\\u0447\\u0438\\u0442\\u0435\\u043b\\u044c \\u043d\\u0430\\u0447\\u0430\\u043b\\u044c\\u043d\\u044b\\u0445 \\u043a\\u043b\\u0430\\u0441\\u0441\\u043e\\u0432\", \"\\u041f\\u0440\\u0435\\u043f\\u043e\\u0434\\u0430\\u0432\\u0430\\u0442\\u0435\\u043b\\u044c \\u043c\\u0430\\u0442\\u0435\\u043c\\u0430\\u0442\\u0438\\u043a\\u0438\", \"\\u041c\\u0435\\u0442\\u043e\\u0434\\u0438\\u0441\\u0442 \\u043e\\u0431\\u0440\\u0430\\u0437\\u043e\\u0432\\u0430\\u0442\\u0435\\u043b\\u044c\\u043d\\u044b\\u0445 \\u043f\\u0440\\u043e\\u0433\\u0440\\u0430\\u043c\\u043c\", \"\\u0423\\u0447\\u0438\\u0442\\u0435\\u043b\\u044c \\u043c\\u0430\\u0442\\u0435\\u043c\\u0430\\u0442\\u0438\\u043a\\u0438\", \"\\u0423\\u0447\\u0438\\u0442\\u0435\\u043b\\u044c \\u043c\\u0430\\u0442\\u0435\\u043c\\u0430\\u0442\\u0438\\u043a\\u0438 (\\u0428\\u043a\\u043e\\u043b\\u0430 \\u0421\\u043e\\u0442\\u0440\\u0443\\u0434\\u043d\\u0438\\u0447\\u0435\\u0441\\u0442\\u0432\\u0430)\", \"\\u041c\\u0435\\u0442\\u043e\\u0434\\u0438\\u0441\\u0442 \\u043f\\u043e \\u043c\\u0430\\u0442\\u0435\\u043c\\u0430\\u0442\\u0438\\u043a\\u0435 (\\u041c\\u043e\\u0440\\u043e)\", \"\\u041c\\u0435\\u0442\\u043e\\u0434\\u0438\\u0441\\u0442 \\u043f\\u043e \\u043c\\u0430\\u0442\\u0435\\u043c\\u0430\\u0442\\u0438\\u043a\\u0435 \\u0432 \\u043d\\u0430\\u0447\\u0430\\u043b\\u044c\\u043d\\u0443\\u044e \\u0448\\u043a\\u043e\\u043b\\u0443\", \"\\u0423\\u0447\\u0438\\u0442\\u0435\\u043b\\u044c \\u043c\\u0430\\u0442\\u0435\\u043c\\u0430\\u0442\\u0438\\u043a\\u0438\", \"\\u0423\\u0447\\u0438\\u0442\\u0435\\u043b\\u044c \\u043d\\u0430\\u0447\\u0430\\u043b\\u044c\\u043d\\u044b\\u0445 \\u043a\\u043b\\u0430\\u0441\\u0441\\u043e\\u0432\", \"\\u0423\\u0447\\u0438\\u0442\\u0435\\u043b\\u044c \\u043c\\u0430\\u0442\\u0435\\u043c\\u0430\\u0442\\u0438\\u043a\\u0438\", \"\\u0423\\u0447\\u0438\\u0442\\u0435\\u043b\\u044c \\u043d\\u0430\\u0447\\u0430\\u043b\\u044c\\u043d\\u044b\\u0445 \\u043a\\u043b\\u0430\\u0441\\u0441\\u043e\\u0432\", \"\\u0423\\u0447\\u0438\\u0442\\u0435\\u043b\\u044c \\u043c\\u0430\\u0442\\u0435\\u043c\\u0430\\u0442\\u0438\\u043a\\u0438 / \\u0440\\u0443\\u043a\\u043e\\u0432\\u043e\\u0434\\u0438\\u0442\\u0435\\u043b\\u044c \\u043c\\u0435\\u0442\\u043e\\u0434\\u0438\\u0447\\u0435\\u0441\\u043a\\u043e\\u0433\\u043e \\u043e\\u0431\\u044a\\u0435\\u0434\\u0438\\u043d\\u0435\\u043d\\u0438\\u044f\", \"\\u0420\\u0435\\u043f\\u0435\\u0442\\u0438\\u0442\\u043e\\u0440 \\u043f\\u043e \\u043c\\u0430\\u0442\\u0435\\u043c\\u0430\\u0442\\u0438\\u043a\\u0435 (5-9 \\u043a\\u043b\\u0430\\u0441\\u0441)\", \"\\u0420\\u0435\\u043f\\u0435\\u0442\\u0438\\u0442\\u043e\\u0440 \\u043f\\u043e \\u043c\\u0430\\u0442\\u0435\\u043c\\u0430\\u0442\\u0438\\u043a\\u0435 \\u0432 \\u043e\\u043d\\u043b\\u0430\\u0439\\u043d-\\u0448\\u043a\\u043e\\u043b\\u0443\", \"\\u041f\\u0435\\u0434\\u0430\\u0433\\u043e\\u0433 \\u043f\\u043e \\u043c\\u0435\\u043d\\u0442\\u0430\\u043b\\u044c\\u043d\\u043e\\u0439 \\u0430\\u0440\\u0438\\u0444\\u043c\\u0435\\u0442\\u0438\\u043a\\u0435, \\u043a\\u0430\\u043b\\u043b\\u0438\\u0433\\u0440\\u0430\\u0444\\u0438\\u0438, \\u0447\\u0442\\u0435\\u043d\\u0438\\u044e \\u0438 \\u0441\\u043a\\u043e\\u0440\\u043e\\u0447\\u0442\\u0435\\u043d\\u0438\\u044e\", \"\\u041f\\u0440\\u0435\\u043f\\u043e\\u0434\\u0430\\u0432\\u0430\\u0442\\u0435\\u043b\\u044c \\u043a\\u0440\\u0443\\u0436\\u043a\\u0430 \\u043f\\u0440\\u043e\\u0433\\u0440\\u0430\\u043c\\u043c\\u0438\\u0440\\u043e\\u0432\\u0430\\u043d\\u0438\\u044f (Python)\", \"\\u041f\\u0440\\u0435\\u043f\\u043e\\u0434\\u0430\\u0432\\u0430\\u0442\\u0435\\u043b\\u044c \\u043a\\u0440\\u0443\\u0436\\u043a\\u0430 \\u043f\\u0440\\u043e\\u0433\\u0440\\u0430\\u043c\\u043c\\u0438\\u0440\\u043e\\u0432\\u0430\\u043d\\u0438\\u044f\", \"\\u041c\\u0435\\u0442\\u043e\\u0434\\u0438\\u0441\\u0442 \\u0432 \\u043d\\u0430\\u0447\\u0430\\u043b\\u044c\\u043d\\u0443\\u044e \\u0448\\u043a\\u043e\\u043b\\u0443 (\\u041c\\u043e\\u0440\\u043e)\", \"\\u0421\\u0442\\u0430\\u0440\\u0448\\u0438\\u0439 \\u043c\\u0435\\u0442\\u043e\\u0434\\u0438\\u0441\\u0442-\\u043f\\u0440\\u043e\\u0434\\u044e\\u0441\\u0435\\u0440 \\u043f\\u043e \\u043c\\u0430\\u0442\\u0435\\u043c\\u0430\\u0442\\u0438\\u043a\\u0435\", \"\\u0423\\u0447\\u0438\\u0442\\u0435\\u043b\\u044c \\u043c\\u0430\\u0442\\u0435\\u043c\\u0430\\u0442\\u0438\\u043a\\u0438 \\u0438 \\u0444\\u0438\\u0437\\u0438\\u043a\\u0438\", \"\\u041c\\u0435\\u0442\\u043e\\u0434\\u0438\\u0441\\u0442 \\u043e\\u043d\\u043b\\u0430\\u0439\\u043d-\\u043a\\u0443\\u0440\\u0441\\u043e\\u0432 \\u043f\\u043e \\u043c\\u0430\\u0442\\u0435\\u043c\\u0430\\u0442\\u0438\\u043a\\u0435 (\\u0441\\u0440\\u0435\\u0434\\u043d\\u0438\\u0435 \\u0438 \\u0441\\u0442\\u0430\\u0440\\u0448\\u0438\\u0435 \\u043a\\u043b\\u0430\\u0441\\u0441\\u044b)\", \"\\u0423\\u0447\\u0438\\u0442\\u0435\\u043b\\u044c \\u043c\\u0430\\u0442\\u0435\\u043c\\u0430\\u0442\\u0438\\u043a\\u0438 \\u0432 \\u043d\\u0435\\u0448\\u043a\\u043e\\u043b\\u044c\\u043d\\u043e\\u043c \\u0444\\u043e\\u0440\\u043c\\u0430\\u0442\\u0435\", \"\\u0423\\u0447\\u0438\\u0442\\u0435\\u043b\\u044c \\u043c\\u0430\\u0442\\u0435\\u043c\\u0430\\u0442\\u0438\\u043a\\u0438\", \"\\u0423\\u0447\\u0438\\u0442\\u0435\\u043b\\u044c \\u043d\\u0430\\u0447\\u0430\\u043b\\u044c\\u043d\\u043e\\u0439 \\u0448\\u043a\\u043e\\u043b\\u044b \\u043f\\u043e \\u043c\\u0430\\u0442\\u0435\\u043c\\u0430\\u0442\\u0438\\u043a\\u0435\", \"\\u0423\\u0447\\u0438\\u0442\\u0435\\u043b\\u044c \\u043c\\u0430\\u0442\\u0435\\u043c\\u0430\\u0442\\u0438\\u043a\\u0438 (\\u043f\\u0440\\u043e\\u0444\\u0438\\u043b\\u044c\\u043d\\u044b\\u0439 \\u0443\\u0440\\u043e\\u0432\\u0435\\u043d\\u044c)\", \"\\u0423\\u0447\\u0438\\u0442\\u0435\\u043b\\u044c \\u0438\\u043d\\u0444\\u043e\\u0440\\u043c\\u0430\\u0442\\u0438\\u043a\\u0438 \\u0438 \\u043c\\u0430\\u0442\\u0435\\u043c\\u0430\\u0442\\u0438\\u043a\\u0438\", \"\\u041f\\u0440\\u0435\\u043f\\u043e\\u0434\\u0430\\u0432\\u0430\\u0442\\u0435\\u043b\\u044c/\\u0440\\u0435\\u043f\\u0435\\u0442\\u0438\\u0442\\u043e\\u0440 \\u043c\\u0430\\u0442\\u0435\\u043c\\u0430\\u0442\\u0438\\u043a\\u0438 (\\u0443\\u0434\\u0430\\u043b\\u0435\\u043d\\u043d\\u043e)\", \"\\u041f\\u0435\\u0434\\u0430\\u0433\\u043e\\u0433 \\u043d\\u0430\\u0447\\u0430\\u043b\\u044c\\u043d\\u044b\\u0445 \\u043a\\u043b\\u0430\\u0441\\u0441\\u043e\\u0432\", \"\\u0423\\u0447\\u0438\\u0442\\u0435\\u043b\\u044c \\u043c\\u0430\\u0442\\u0435\\u043c\\u0430\\u0442\\u0438\\u043a\\u0438\", \"\\u0423\\u0447\\u0438\\u0442\\u0435\\u043b\\u044c \\u043c\\u0430\\u0442\\u0435\\u043c\\u0430\\u0442\\u0438\\u043a\\u0438 (\\u0441\\u043b\\u0435\\u0434\\u0443\\u044e\\u0449\\u0438\\u0439 \\u0443\\u0447\\u0435\\u0431\\u043d\\u044b\\u0439 \\u0433\\u043e\\u0434)\", \"\\u041c\\u0435\\u0442\\u043e\\u0434\\u0438\\u0441\\u0442 \\u043f\\u043e \\u041c\\u0430\\u0442\\u0435\\u043c\\u0430\\u0442\\u0438\\u043a\\u0435\", \"\\u0423\\u0447\\u0438\\u0442\\u0435\\u043b\\u044c \\u0444\\u0438\\u0437\\u0438\\u043a\\u0438 \\u0438 \\u043c\\u0430\\u0442\\u0435\\u043c\\u0430\\u0442\\u0438\\u043a\\u0438\", \"\\u041f\\u0440\\u0435\\u043f\\u043e\\u0434\\u0430\\u0432\\u0430\\u0442\\u0435\\u043b\\u044c \\u043c\\u0430\\u0442\\u0435\\u043c\\u0430\\u0442\\u0438\\u043a\\u0438\", \"\\u041f\\u0435\\u0434\\u0430\\u0433\\u043e\\u0433 \\u043f\\u043e \\u0430\\u043d\\u0433\\u043b\\u0438\\u0439\\u0441\\u043a\\u043e\\u043c\\u0443 \\u044f\\u0437\\u044b\\u043a\\u0443\", \"\\u041f\\u0440\\u0435\\u043f\\u043e\\u0434\\u0430\\u0432\\u0430\\u0442\\u0435\\u043b\\u044c \\u043c\\u0430\\u0442\\u0435\\u043c\\u0430\\u0442\\u0438\\u043a\\u0438\", \"\\u0412\\u0435\\u0434\\u0443\\u0449\\u0438\\u0439 \\u0443\\u0447\\u0438\\u0442\\u0435\\u043b\\u044c \\u043c\\u0430\\u0442\\u0435\\u043c\\u0430\\u0442\\u0438\\u043a\\u0438 (\\u0440\\u0443\\u043a\\u043e\\u0432\\u043e\\u0434\\u0438\\u0442\\u0435\\u043b\\u044c \\u043a\\u0430\\u0444\\u0435\\u0434\\u0440\\u044b)\", \"\\u0423\\u0447\\u0438\\u0442\\u0435\\u043b\\u044c \\u043c\\u0430\\u0442\\u0435\\u043c\\u0430\\u0442\\u0438\\u043a\\u0438 (\\u0441 5-\\u0433\\u043e \\u043a\\u043b\\u0430\\u0441\\u0441\\u0430)\", \"\\u0423\\u0447\\u0438\\u0442\\u0435\\u043b\\u044c \\u043c\\u0430\\u0442\\u0435\\u043c\\u0430\\u0442\\u0438\\u043a\\u0438\", \"\\u0420\\u0435\\u043f\\u0435\\u0442\\u0438\\u0442\\u043e\\u0440 \\u043f\\u043e \\u043c\\u0430\\u0442\\u0435\\u043c\\u0430\\u0442\\u0438\\u043a\\u0435\", \"\\u041f\\u0435\\u0434\\u0430\\u0433\\u043e\\u0433 \\u043d\\u0430\\u0447\\u0430\\u043b\\u044c\\u043d\\u043e\\u0439 \\u0448\\u043a\\u043e\\u043b\\u044b \\u0441\\u043e \\u0437\\u043d\\u0430\\u043d\\u0438\\u0435\\u043c \\u0430\\u043d\\u0433\\u043b\\u0438\\u0439\\u0441\\u043a\\u043e\\u0433\\u043e \\u044f\\u0437\\u044b\\u043a\\u0430\", \"\\u0423\\u0447\\u0438\\u0442\\u0435\\u043b\\u044c \\u043c\\u0430\\u0442\\u0435\\u043c\\u0430\\u0442\\u0438\\u043a\\u0438 \\u0432 \\u043e\\u043d\\u043b\\u0430\\u0439\\u043d-\\u0448\\u043a\\u043e\\u043b\\u0435\", \"\\u0423\\u0447\\u0438\\u0442\\u0435\\u043b\\u044c \\u043d\\u0430\\u0447\\u0430\\u043b\\u044c\\u043d\\u044b\\u0445 \\u043a\\u043b\\u0430\\u0441\\u0441\\u043e\\u0432 \\u043e\\u043d\\u043b\\u0430\\u0439\\u043d\", \"\\u0423\\u0447\\u0438\\u0442\\u0435\\u043b\\u044c \\u043c\\u0430\\u0442\\u0435\\u043c\\u0430\\u0442\\u0438\\u043a\\u0438\", \"\\u041f\\u0440\\u0435\\u043f\\u043e\\u0434\\u0430\\u0432\\u0430\\u0442\\u0435\\u043b\\u044c \\u043f\\u043e \\u043a\\u0443\\u0440\\u0441\\u0443 BI\", \"\\u0423\\u0447\\u0438\\u0442\\u0435\\u043b\\u044c \\u043c\\u0430\\u0442\\u0435\\u043c\\u0430\\u0442\\u0438\\u043a\\u0438\", \"\\u0423\\u0447\\u0438\\u0442\\u0435\\u043b\\u044c \\u043c\\u0430\\u0442\\u0435\\u043c\\u0430\\u0442\\u0438\\u043a\\u0438 \\u041e\\u043d\\u043b\\u0430\\u0439\\u043d \\u0448\\u043a\\u043e\\u043b\\u0430\", \"\\u0423\\u0447\\u0438\\u0442\\u0435\\u043b\\u044c \\u043c\\u0430\\u0442\\u0435\\u043c\\u0430\\u0442\\u0438\\u043a\\u0438\", \"\\u041f\\u0440\\u0435\\u043f\\u043e\\u0434\\u0430\\u0432\\u0430\\u0442\\u0435\\u043b\\u044c-\\u043c\\u0435\\u0442\\u043e\\u0434\\u0438\\u0441\\u0442 (\\u0438\\u043d\\u0444\\u043e\\u0440\\u043c\\u0430\\u0442\\u0438\\u043a\\u0430 /\\u043c\\u0430\\u0442\\u0435\\u043c\\u0430\\u0442\\u0438\\u043a\\u0430)\", \"\\u0420\\u0435\\u043f\\u0435\\u0442\\u0438\\u0442\\u043e\\u0440 \\u043f\\u043e \\u043c\\u0430\\u0442\\u0435\\u043c\\u0430\\u0442\\u0438\\u043a\\u0435 (\\u043e\\u043b\\u0438\\u043c\\u043f\\u0438\\u0430\\u0434\\u044b)\", \"\\u0423\\u0447\\u0438\\u0442\\u0435\\u043b\\u044c \\u043c\\u0430\\u0442\\u0435\\u043c\\u0430\\u0442\\u0438\\u043a\\u0438\", \"\\u041f\\u0440\\u0435\\u043f\\u043e\\u0434\\u0430\\u0432\\u0430\\u0442\\u0435\\u043b\\u044c \\u043f\\u043e \\u043a\\u0443\\u0440\\u0441\\u0443 Python\", \"\\u0420\\u0435\\u043f\\u0435\\u0442\\u0438\\u0442\\u043e\\u0440 \\u043f\\u043e \\u043c\\u0430\\u0442\\u0435\\u043c\\u0430\\u0442\\u0438\\u043a\\u0435 (\\u0415\\u0413\\u042d)\", \"\\u0423\\u0447\\u0438\\u0442\\u0435\\u043b\\u044c \\u043c\\u0430\\u0442\\u0435\\u043c\\u0430\\u0442\\u0438\\u043a\\u0438 (\\u0421\\u043e\\u0447\\u0438)\", \"\\u0420\\u0435\\u043f\\u0435\\u0442\\u0438\\u0442\\u043e\\u0440 \\u043f\\u043e \\u043c\\u0430\\u0442\\u0435\\u043c\\u0430\\u0442\\u0438\\u043a\\u0435 \\u0432 \\u043d\\u0430\\u0447\\u0430\\u043b\\u044c\\u043d\\u044b\\u0445 \\u043a\\u043b\\u0430\\u0441\\u0441\\u0430\\u0445\", \"\\u0423\\u0447\\u0438\\u0442\\u0435\\u043b\\u044c \\u043c\\u0430\\u0442\\u0435\\u043c\\u0430\\u0442\\u0438\\u043a\\u0438\", \"\\u0423\\u0447\\u0438\\u0442\\u0435\\u043b\\u044c (\\u043f\\u0440\\u0435\\u043f\\u043e\\u0434\\u0430\\u0432\\u0430\\u0442\\u0435\\u043b\\u044c) \\u043c\\u0430\\u0442\\u0435\\u043c\\u0430\\u0442\\u0438\\u043a\\u0438\", \"\\u041f\\u0440\\u0435\\u043f\\u043e\\u0434\\u0430\\u0432\\u0430\\u0442\\u0435\\u043b\\u044c \\u043c\\u0430\\u0442\\u0435\\u043c\\u0430\\u0442\\u0438\\u043a\\u0438 / \\u0420\\u0435\\u043f\\u0435\\u0442\\u0438\\u0442\\u043e\\u0440 (\\u0423\\u0447\\u0438\\u0442\\u0435\\u043b\\u044c)\", \"\\u0423\\u0447\\u0438\\u0442\\u0435\\u043b\\u044c \\u043c\\u0430\\u0442\\u0435\\u043c\\u0430\\u0442\\u0438\\u043a\\u0438\", \"\\u041f\\u0440\\u0435\\u043f\\u043e\\u0434\\u0430\\u0432\\u0430\\u0442\\u0435\\u043b\\u044c \\u043c\\u0430\\u0442\\u0435\\u043c\\u0430\\u0442\\u0438\\u043a\\u0438 \\u0432 \\u0441\\u0440\\u0435\\u0434\\u043d\\u0435\\u0439 \\u0448\\u043a\\u043e\\u043b\\u0435\", \"\\u0423\\u0447\\u0438\\u0442\\u0435\\u043b\\u044c \\u043c\\u0430\\u0442\\u0435\\u043c\\u0430\\u0442\\u0438\\u043a\\u0438\", \"\\u041f\\u0440\\u0435\\u043f\\u043e\\u0434\\u0430\\u0432\\u0430\\u0442\\u0435\\u043b\\u044c \\u043c\\u0430\\u0442\\u0435\\u043c\\u0430\\u0442\\u0438\\u043a\\u0438\", \"\\u041f\\u0440\\u0435\\u043f\\u043e\\u0434\\u0430\\u0432\\u0430\\u0442\\u0435\\u043b\\u044c \\u043f\\u043e \\u043a\\u0443\\u0440\\u0441\\u0443 MS Excel\", \"\\u0423\\u0447\\u0438\\u0442\\u0435\\u043b\\u044c \\u043c\\u0430\\u0442\\u0435\\u043c\\u0430\\u0442\\u0438\\u043a\\u0438\", \"\\u041f\\u0440\\u0435\\u043f\\u043e\\u0434\\u0430\\u0432\\u0430\\u0442\\u0435\\u043b\\u044c \\u043c\\u0430\\u0442\\u0435\\u043c\\u0430\\u0442\\u0438\\u043a\\u0438 \\u0438 \\u0444\\u0438\\u0437\\u0438\\u043a\\u0438\", \"\\u0423\\u0447\\u0438\\u0442\\u0435\\u043b\\u044c \\u043c\\u0430\\u0442\\u0435\\u043c\\u0430\\u0442\\u0438\\u043a\\u0438\", \"\\u0423\\u0447\\u0438\\u0442\\u0435\\u043b\\u044c \\u043c\\u0430\\u0442\\u0435\\u043c\\u0430\\u0442\\u0438\\u043a\\u0438-\\u043e\\u0442\\u0432\\u0435\\u0442\\u0441\\u0442\\u0432\\u0435\\u043d\\u043d\\u044b\\u0439 \\u0437\\u0430 \\u043c\\u0435\\u0442\\u043e\\u0434\\u0438\\u0447\\u0435\\u0441\\u043a\\u0443\\u044e \\u0440\\u0430\\u0431\\u043e\\u0442\\u0443\", \"\\u0423\\u0447\\u0438\\u0442\\u0435\\u043b\\u044c \\u043d\\u0430\\u0447\\u0430\\u043b\\u044c\\u043d\\u044b\\u0445 \\u043a\\u043b\\u0430\\u0441\\u0441\\u043e\\u0432 (\\u041e\\u043d\\u043b\\u0430\\u0439\\u043d \\u0448\\u043a\\u043e\\u043b\\u0430)\", \"\\u0423\\u0447\\u0438\\u0442\\u0435\\u043b\\u044c \\u043c\\u0430\\u0442\\u0435\\u043c\\u0430\\u0442\\u0438\\u043a\\u0438 \\u0441\\u0440\\u0435\\u0434\\u043d\\u0438\\u0445 \\u043a\\u043b\\u0430\\u0441\\u0441\\u043e\\u0432\", \"\\u0423\\u0447\\u0438\\u0442\\u0435\\u043b\\u044c \\u043c\\u0430\\u0442\\u0435\\u043c\\u0430\\u0442\\u0438\\u043a\\u0438 \\u0432 \\u0447\\u0430\\u0441\\u0442\\u043d\\u0443\\u044e \\u0448\\u043a\\u043e\\u043b\\u0443\", \"\\u041c\\u0435\\u0442\\u043e\\u0434\\u0438\\u0441\\u0442-\\u043f\\u0440\\u0435\\u043f\\u043e\\u0434\\u0430\\u0432\\u0430\\u0442\\u0435\\u043b\\u044c \\u043f\\u043e \\u043a\\u0443\\u0440\\u0441\\u0443 Roblox\", \"\\u041c\\u0435\\u0442\\u043e\\u0434\\u0438\\u0441\\u0442 \\u0432 \\u043d\\u0430\\u0447\\u0430\\u043b\\u044c\\u043d\\u0443\\u044e \\u0448\\u043a\\u043e\\u043b\\u0443\", \"\\u041f\\u0440\\u0435\\u043f\\u043e\\u0434\\u0430\\u0432\\u0430\\u0442\\u0435\\u043b\\u044c \\u043a\\u0443\\u0440\\u0441\\u0430 \\\" \\u041c\\u0430\\u0442\\u0435\\u043c\\u0430\\u0442\\u0438\\u043a\\u0430 \\u0434\\u043b\\u044f DataScience \\\"\", \"\\u0423\\u0447\\u0438\\u0442\\u0435\\u043b\\u044c \\u043c\\u0430\\u0442\\u0435\\u043c\\u0430\\u0442\\u0438\\u043a\\u0438 \\u0432 \\u0421\\u0435\\u043c\\u0435\\u0439\\u043d\\u044b\\u0435 \\u043a\\u043b\\u0430\\u0441\\u0441\\u044b\", \"\\u041f\\u0440\\u0435\\u043f\\u043e\\u0434\\u0430\\u0432\\u0430\\u0442\\u0435\\u043b\\u044c \\u043f\\u043e \\u0440\\u0443\\u0441\\u0441\\u043a\\u043e\\u043c\\u0443 \\u044f\\u0437\\u044b\\u043a\\u0443 (\\u041e\\u0413\\u042d) \\u0432 \\u043e\\u043d\\u043b\\u0430\\u0439\\u043d-\\u0448\\u043a\\u043e\\u043b\\u0443\", \"\\u041f\\u0440\\u0435\\u043f\\u043e\\u0434\\u0430\\u0432\\u0430\\u0442\\u0435\\u043b\\u044c \\u043f\\u043e \\u043a\\u0443\\u0440\\u0441\\u0443 SQL\", \"\\u041f\\u0440\\u0435\\u043f\\u043e\\u0434\\u0430\\u0432\\u0430\\u0442\\u0435\\u043b\\u044c \\u043f\\u043e \\u0440\\u043e\\u0431\\u043e\\u0442\\u043e\\u0442\\u0435\\u0445\\u043d\\u0438\\u043a\\u0435\", \"\\u041f\\u0440\\u0435\\u043f\\u043e\\u0434\\u0430\\u0432\\u0430\\u0442\\u0435\\u043b\\u044c \\u043d\\u0430\\u0447\\u0430\\u043b\\u044c\\u043d\\u044b\\u0445 \\u043a\\u043b\\u0430\\u0441\\u0441\\u043e\\u0432\", \"\\u041f\\u0440\\u0435\\u043f\\u043e\\u0434\\u0430\\u0432\\u0430\\u0442\\u0435\\u043b\\u044c \\u043a\\u0440\\u0443\\u0436\\u043a\\u0430 \\u043f\\u0440\\u043e\\u0433\\u0440\\u0430\\u043c\\u043c\\u0438\\u0440\\u043e\\u0432\\u0430\\u043d\\u0438\\u044f Scratch (\\u043d\\u0430 \\u0430\\u043d\\u0433\\u043b\\u0438\\u0439\\u0441\\u043a\\u043e\\u043c \\u044f\\u0437\\u044b\\u043a\\u0435)\", \"\\u0414\\u043e\\u0446\\u0435\\u043d\\u0442 (\\u043c\\u0430\\u0442\\u0435\\u043c\\u0430\\u0442\\u0438\\u043a\\u0430, \\u043f\\u0440\\u043e\\u0433\\u0440\\u0430\\u043c\\u043c\\u0438\\u0440\\u043e\\u0432\\u0430\\u043d\\u0438\\u0435, \\u043c\\u0430\\u0448\\u0438\\u043d\\u043d\\u043e\\u0435 \\u043e\\u0431\\u0443\\u0447\\u0435\\u043d\\u0438\\u0435, \\u0440\\u043e\\u0431\\u043e\\u0442\\u043e\\u0442\\u0435\\u0445\\u043d\\u0438\\u043a\\u0430)\", \"\\u041c\\u0435\\u0442\\u043e\\u0434\\u0438\\u0441\\u0442 \\u043f\\u043e \\u0431\\u0438\\u043e\\u043b\\u043e\\u0433\\u0438\\u0438\", \"\\u0417\\u0430\\u0432\\u0435\\u0434\\u0443\\u044e\\u0449\\u0438\\u0439 \\u043a\\u0430\\u0444\\u0435\\u0434\\u0440\\u043e\\u0439 \\u043c\\u0430\\u0442\\u0435\\u043c\\u0430\\u0442\\u0438\\u043a\\u0438\", \"\\u0420\\u0443\\u043a\\u043e\\u0432\\u043e\\u0434\\u0438\\u0442\\u0435\\u043b\\u044c \\u043e\\u0442\\u0434\\u0435\\u043b\\u0430 Data Analysis\", \"\\u0420\\u0435\\u0434\\u0430\\u043a\\u0442\\u043e\\u0440\", \"\\u041f\\u0440\\u0435\\u043f\\u043e\\u0434\\u0430\\u0432\\u0430\\u0442\\u0435\\u043b\\u044c \\u043f\\u043e \\u043f\\u0440\\u043e\\u0433\\u0440\\u0430\\u043c\\u043c\\u0438\\u0440\\u043e\\u0432\\u0430\\u043d\\u0438\\u044e\", \"\\u041f\\u0440\\u043e\\u0434\\u0443\\u043a\\u0442\\u043e\\u0432\\u044b\\u0439 \\u0430\\u043d\\u0430\\u043b\\u0438\\u0442\\u0438\\u043a\", \"\\u0421\\u043f\\u0435\\u0446\\u0438\\u0430\\u043b\\u0438\\u0441\\u0442 \\u043f\\u043e \\u043f\\u043e\\u0434\\u0433\\u043e\\u0442\\u043e\\u0432\\u043a\\u0435 \\u0413\\u0414\\u0417\", \"SEO \\u0440\\u0435\\u0434\\u0430\\u043a\\u0442\\u043e\\u0440\", \"\\u0411\\u0438\\u0437\\u043d\\u0435\\u0441-\\u0430\\u043d\\u0430\\u043b\\u0438\\u0442\\u0438\\u043a\", \"\\u041c\\u0435\\u043d\\u0435\\u0434\\u0436\\u0435\\u0440 \\u043f\\u043e \\u043f\\u0435\\u0440\\u0441\\u043e\\u043d\\u0430\\u043b\\u0443 (HR-\\u043c\\u0435\\u043d\\u0435\\u0434\\u0436\\u0435\\u0440)\", \"\\u041c\\u0430\\u0440\\u043a\\u0435\\u0442\\u043e\\u043b\\u043e\\u0433 (Digital)\", \"\\u041c\\u0435\\u043d\\u0435\\u0434\\u0436\\u0435\\u0440 \\u043f\\u043e \\u043f\\u0440\\u043e\\u0434\\u0430\\u0436\\u0430\\u043c\", \"Senior Product Analyst (\\u0421\\u0435\\u0440\\u0432\\u0438\\u0441\\u044b \\u0434\\u043b\\u044f \\u0443\\u0447\\u0438\\u0442\\u0435\\u043b\\u0435\\u0439)\", \"\\u0421\\u0442\\u0430\\u0436\\u0435\\u0440 \\u0431\\u0438\\u0437\\u043d\\u0435\\u0441-\\u0430\\u043d\\u0430\\u043b\\u0438\\u0442\\u0438\\u043a \\u0432 \\u0444\\u0438\\u043d\\u0430\\u043d\\u0441\\u043e\\u0432\\u043e-\\u0430\\u043d\\u0430\\u043b\\u0438\\u0442\\u0438\\u0447\\u0435\\u0441\\u043a\\u0438\\u0439 \\u043e\\u0442\\u0434\\u0435\\u043b\", \"Middle QA engineer (\\u043f\\u0440\\u043e\\u0435\\u043a\\u0442 Teachers)\", \"Product Analyst\", \"\\u041c\\u0435\\u043d\\u0435\\u0434\\u0436\\u0435\\u0440 \\u043f\\u043e \\u043f\\u0440\\u043e\\u0434\\u0430\\u0436\\u0430\\u043c \\u043a\\u0443\\u0440\\u0441\\u0430 \\u043c\\u0430\\u0442\\u0435\\u043c\\u0430\\u0442\\u0438\\u043a\\u0438\", \"\\u0411\\u0438\\u0437\\u043d\\u0435\\u0441-\\u0430\\u043d\\u0430\\u043b\\u0438\\u0442\\u0438\\u043a\", \"\\u041a\\u0443\\u0440\\u0430\\u0442\\u043e\\u0440\", \"Middle QA engineer\", \"\\u041c\\u043b\\u0430\\u0434\\u0448\\u0438\\u0439 \\u0432\\u043e\\u0441\\u043f\\u0438\\u0442\\u0430\\u0442\\u0435\\u043b\\u044c \\u0432 \\u0434\\u0435\\u0442\\u0441\\u043a\\u0438\\u0439 \\u0441\\u0430\\u0434\", \"Frontend Developer (Education)\", \"Senior Product analyst\", \"\\u041c\\u0435\\u043d\\u0435\\u0434\\u0436\\u0435\\u0440 \\u043f\\u043e \\u0432\\u0432\\u043e\\u0434\\u043d\\u044b\\u043c \\u0432\\u0441\\u0442\\u0440\\u0435\\u0447\\u0430\\u043c\", \"\\u041c\\u0435\\u0442\\u043e\\u0434\\u0438\\u0441\\u0442 \\u043f\\u043e \\u0438\\u043d\\u0444\\u043e\\u0440\\u043c\\u0430\\u0442\\u0438\\u043a\\u0435 \\u0438 \\u043f\\u0440\\u043e\\u0433\\u0440\\u0430\\u043c\\u043c\\u0438\\u0440\\u043e\\u0432\\u0430\\u043d\\u0438\\u044e (\\u0443\\u0434\\u0430\\u043b\\u0435\\u043d\\u043d\\u043e)\", \"\\u0410\\u0432\\u0442\\u043e\\u0440 \\u0441\\u0442\\u0443\\u0434\\u0435\\u043d\\u0447\\u0435\\u0441\\u043a\\u0438\\u0445 \\u0440\\u0430\\u0431\\u043e\\u0442 \\u043f\\u043e \\u0442\\u0435\\u0445\\u043d\\u0438\\u0447\\u0435\\u0441\\u043a\\u0438\\u043c \\u0434\\u0438\\u0441\\u0446\\u0438\\u043f\\u043b\\u0438\\u043d\\u0430\\u043c\", \"\\u0412\\u0435\\u0434\\u0443\\u0449\\u0438\\u0439 \\u043c\\u0435\\u0442\\u043e\\u0434\\u0438\\u0441\\u0442/\\u0440\\u0435\\u0434\\u0430\\u043a\\u0442\\u043e\\u0440 \\u043f\\u043e \\u043c\\u0430\\u0442\\u0435\\u043c\\u0430\\u0442\\u0438\\u043a\\u0435\", \"\\u0421\\u043f\\u0435\\u0446\\u0438\\u0430\\u043b\\u0438\\u0441\\u0442 \\u043f\\u043e \\u0442\\u0435\\u0445\\u043d\\u0438\\u0447\\u0435\\u0441\\u043a\\u043e\\u0439 \\u0438\\u043d\\u0444\\u043e\\u0440\\u043c\\u0430\\u0446\\u0438\\u0438 \\u0438 \\u0434\\u043e\\u043a\\u0443\\u043c\\u0435\\u043d\\u0442\\u0430\\u0446\\u0438\\u0438\", \"\\u041f\\u0440\\u0435\\u043f\\u043e\\u0434\\u0430\\u0432\\u0430\\u0442\\u0435\\u043b\\u044c \\u043f\\u043e Data Science\", \"Fullstack Web Developer (Education)\", \"\\u041c\\u0435\\u043d\\u0435\\u0434\\u0436\\u0435\\u0440 \\u0432\\u0432\\u043e\\u0434\\u043d\\u043e\\u0433\\u043e \\u0443\\u0440\\u043e\\u043a\\u0430\", \"\\u041d\\u0430\\u0443\\u0447\\u043d\\u044b\\u0439 \\u0441\\u043e\\u0442\\u0440\\u0443\\u0434\\u043d\\u0438\\u043a \\u0432 \\u0434\\u0435\\u043f\\u0430\\u0440\\u0442\\u0430\\u043c\\u0435\\u043d\\u0442 \\u043f\\u0440\\u0438\\u043a\\u043b\\u0430\\u0434\\u043d\\u043e\\u0439 \\u043c\\u0430\\u0442\\u0435\\u043c\\u0430\\u0442\\u0438\\u043a\\u0438 \\u041c\\u0418\\u042d\\u041c (\\u041f\\u0440\\u043e\\u0433\\u0440\\u0430\\u043c\\u043c\\u0430 \\u0440\\u043e\\u0441\\u0441\\u0438\\u0439\\u0441\\u043a\\u0438\\u0445 \\u043f\\u043e\\u0441\\u0442\\u0434\\u043e\\u043a\\u043e\\u0432)\", \"\\u041d\\u0430\\u0443\\u0447\\u043d\\u044b\\u0439 \\u0441\\u043e\\u0442\\u0440\\u0443\\u0434\\u043d\\u0438\\u043a \\u0432 \\u0446\\u0435\\u043d\\u0442\\u0440 \\u043d\\u0435\\u0439\\u0440\\u043e\\u044d\\u043a\\u043e\\u043d\\u043e\\u043c\\u0438\\u043a\\u0438 \\u0438 \\u043a\\u043e\\u0433\\u043d\\u0438\\u0442\\u0438\\u0432\\u043d\\u044b\\u0445 \\u0438\\u0441\\u0441\\u043b\\u0435\\u0434\\u043e\\u0432\\u0430\\u043d\\u0438\\u0439 (\\u043f\\u043e\\u0441\\u0442\\u0434\\u043e\\u043a\\u0438)\", \"\\u041d\\u0430\\u0443\\u0447\\u043d\\u044b\\u0439 \\u0441\\u043e\\u0442\\u0440\\u0443\\u0434\\u043d\\u0438\\u043a \\u0432 \\u0446\\u0435\\u043d\\u0442\\u0440 \\u043d\\u0435\\u0439\\u0440\\u043e\\u044d\\u043a\\u043e\\u043d\\u043e\\u043c\\u0438\\u043a\\u0438 \\u0438 \\u043a\\u043e\\u0433\\u043d\\u0438\\u0442\\u0438\\u0432\\u043d\\u044b\\u0445 \\u0438\\u0441\\u0441\\u043b\\u0435\\u0434\\u043e\\u0432\\u0430\\u043d\\u0438\\u0439 \\u0438\\u043d\\u0441\\u0442\\u0438\\u0442\\u0443\\u0442\\u0430 \\u043a\\u043e\\u0433\\u043d\\u0438\\u0442\\u0438\\u0432\\u043d\\u044b\\u0445 \\u043d\\u0435\\u0439\\u0440\\u043e\\u043d\\u0430\\u0443\\u043a\", \"\\u0410\\u043d\\u0430\\u043b\\u0438\\u0442\\u0438\\u043a \\u0434\\u0430\\u043d\\u043d\\u044b\\u0445/\\u0441\\u0442\\u0430\\u0436\\u0435\\u0440\", \"\\u041d\\u0430\\u0443\\u0447\\u043d\\u044b\\u0439 \\u0441\\u043e\\u0442\\u0440\\u0443\\u0434\\u043d\\u0438\\u043a \\u0432 \\u041d\\u0423\\u041b \\u0430\\u043b\\u0433\\u0435\\u0431\\u0440\\u0430\\u0438\\u0447\\u0435\\u0441\\u043a\\u0438\\u0445 \\u0433\\u0440\\u0443\\u043f\\u043f \\u043f\\u0440\\u0435\\u043e\\u0431\\u0440\\u0430\\u0437\\u043e\\u0432\\u0430\\u043d\\u0438\\u0439/ \\u043f\\u043e\\u0441\\u0442\\u0434\\u043e\\u043a\\u0438\", \"\\u041f\\u0440\\u0435\\u043f\\u043e\\u0434\\u0430\\u0432\\u0430\\u0442\\u0435\\u043b\\u044c \\u043a\\u0443\\u0440\\u0441\\u043e\\u0432 Web-\\u0430\\u043d\\u0430\\u043b\\u0438\\u0442\\u0438\\u043a\\u0438\", \"\\u041f\\u043e\\u0441\\u0442\\u0434\\u043e\\u043a \\u0432 \\u041c\\u0435\\u0436\\u0434\\u0443\\u043d\\u0430\\u0440\\u043e\\u0434\\u043d\\u0443\\u044e \\u043b\\u0430\\u0431\\u043e\\u0440\\u0430\\u0442\\u043e\\u0440\\u0438\\u044e \\u0441\\u0442\\u0430\\u0442\\u0438\\u0441\\u0442\\u0438\\u0447\\u0435\\u0441\\u043a\\u043e\\u0439 \\u0438 \\u0432\\u044b\\u0447\\u0438\\u0441\\u043b\\u0438\\u0442\\u0435\\u043b\\u044c\\u043d\\u043e\\u0439 \\u0433\\u0435\\u043d\\u043e\\u043c\\u0438\\u043a\\u0438\", \"\\u041c\\u0435\\u0442\\u043e\\u0434\\u0438\\u0441\\u0442 \\u043a\\u0443\\u0440\\u0441\\u0430 \\u043f\\u0440\\u043e\\u0433\\u0440\\u0430\\u043c\\u043c\\u0438\\u0440\\u043e\\u0432\\u0430\\u043d\\u0438\\u044f \\u043d\\u0430 Python (\\u0443\\u0434\\u0430\\u043b\\u0435\\u043d\\u043d\\u043e)\", \"\\u0422\\u0435\\u043b\\u0435\\u043c\\u0430\\u0440\\u043a\\u0435\\u0442\\u043e\\u043b\\u043e\\u0433\", \"\\u041c\\u0435\\u043d\\u0435\\u0434\\u0436\\u0435\\u0440 \\u043f\\u043e \\u043f\\u0440\\u043e\\u0434\\u0430\\u0436\\u0430\\u043c\", \"\\u041c\\u0435\\u043d\\u0435\\u0434\\u0436\\u0435\\u0440 \\u043f\\u043e \\u043f\\u0440\\u043e\\u0434\\u0430\\u0436\\u0430\\u043c\", \"\\u0420\\u0443\\u043a\\u043e\\u0432\\u043e\\u0434\\u0438\\u0442\\u0435\\u043b\\u044c GR \\u043f\\u0440\\u043e\\u0435\\u043a\\u0442\\u043e\\u0432\", \"\\u0410\\u0432\\u0442\\u043e\\u0440 \\u0443\\u0447\\u0435\\u0431\\u043d\\u043e-\\u043c\\u0435\\u0442\\u043e\\u0434\\u0438\\u0447\\u0435\\u0441\\u043a\\u0438\\u0445 \\u043c\\u0430\\u0442\\u0435\\u0440\\u0438\\u0430\\u043b\\u043e\\u0432\", \"\\u0421\\u0442\\u0430\\u0436\\u0435\\u0440/\\u0411\\u0438\\u0437\\u043d\\u0435\\u0441-\\u0430\\u043d\\u0430\\u043b\\u0438\\u0442\\u0438\\u043a\", \"\\u041f\\u0440\\u043e\\u0434\\u0443\\u043a\\u0442\\u043e\\u0432\\u044b\\u0439 \\u0434\\u0438\\u0437\\u0430\\u0439\\u043d\\u0435\\u0440 Skysmart\", \"\\u041f\\u0440\\u0435\\u043f\\u043e\\u0434\\u0430\\u0432\\u0430\\u0442\\u0435\\u043b\\u044c \\u043a\\u0440\\u0443\\u0436\\u043a\\u0430 \\u043f\\u0440\\u043e\\u0433\\u0440\\u0430\\u043c\\u043c\\u0438\\u0440\\u043e\\u0432\\u0430\\u043d\\u0438\\u044f Python (\\u043d\\u0430 \\u0430\\u043d\\u0433\\u043b\\u0438\\u0439\\u0441\\u043a\\u043e\\u043c \\u044f\\u0437\\u044b\\u043a\\u0435)\", \"\\u0412\\u043e\\u0441\\u043f\\u0438\\u0442\\u0430\\u0442\\u0435\\u043b\\u044c \\u0432 \\u0447\\u0430\\u0441\\u0442\\u043d\\u044b\\u0439 \\u0434\\u0435\\u0442\\u0441\\u043a\\u0438\\u0439 \\u0441\\u0430\\u0434\", \"\\u0420\\u0443\\u043a\\u043e\\u0432\\u043e\\u0434\\u0438\\u0442\\u0435\\u043b\\u044c \\u043e\\u0431\\u0440\\u0430\\u0437\\u043e\\u0432\\u0430\\u0442\\u0435\\u043b\\u044c\\u043d\\u043e\\u0433\\u043e \\u043d\\u0430\\u043f\\u0440\\u0430\\u0432\\u043b\\u0435\\u043d\\u0438\\u044f\", \"\\u0420\\u0435\\u043f\\u0435\\u0442\\u0438\\u0442\\u043e\\u0440 \\u043f\\u043e \\u0434\\u043e\\u043c\\u0430\\u0448\\u043d\\u0435\\u043c\\u0443 \\u0437\\u0430\\u0434\\u0430\\u043d\\u0438\\u044e\", \"\\u0422\\u044c\\u044e\\u0442\\u043e\\u0440 (\\u041d\\u043e\\u0432\\u0430\\u044f \\u041c\\u043e\\u0441\\u043a\\u0432\\u0430)\", \"\\u042d\\u043a\\u0441\\u043f\\u0435\\u0440\\u0442 \\u043f\\u043e \\u043e\\u0431\\u0443\\u0447\\u0435\\u043d\\u0438\\u044e \\u0438 \\u0440\\u0430\\u0437\\u0432\\u0438\\u0442\\u0438\\u044e \\u043f\\u0440\\u0435\\u043f\\u043e\\u0434\\u0430\\u0432\\u0430\\u0442\\u0435\\u043b\\u0435\\u0439 (\\u0441\\u043e \\u0437\\u043d\\u0430\\u043d\\u0438\\u0435\\u043c \\u0410\\u043d\\u0433\\u043b\\u0438\\u0439\\u0441\\u043a\\u043e\\u0433\\u043e \\u0438 \\u0418\\u0441\\u043f\\u0430\\u043d\\u0441\\u043a\\u043e\\u0433\\u043e \\u044f\\u0437\\u044b\\u043a\\u043e\\u0432)\", \"\\u041f\\u0435\\u0434\\u0430\\u0433\\u043e\\u0433 \\u043f\\u043e \\u043e\\u0440\\u0430\\u0442\\u043e\\u0440\\u0441\\u043a\\u043e\\u043c\\u0443 \\u0438\\u0441\\u043a\\u0443\\u0441\\u0441\\u0442\\u0432\\u0443 (\\u0441\\u0446\\u0435\\u043d\\u0438\\u0447\\u0435\\u0441\\u043a\\u043e\\u0439 \\u0440\\u0435\\u0447\\u0438, \\u0441\\u0430\\u043c\\u043e\\u043f\\u0440\\u0435\\u0437\\u0435\\u043d\\u0442\\u0430\\u0446\\u0438\\u0438)\", \"\\u0420\\u0435\\u0434\\u0430\\u043a\\u0442\\u043e\\u0440\", \"\\u0412\\u043e\\u0441\\u043f\\u0438\\u0442\\u0430\\u0442\\u0435\\u043b\\u044c \\u0432 \\u0447\\u0430\\u0441\\u0442\\u043d\\u044b\\u0439 \\u0434\\u0435\\u0442\\u0441\\u043a\\u0438\\u0439 \\u0441\\u0430\\u0434\", \"\\u041a\\u043b\\u0430\\u0441\\u0441\\u043d\\u044b\\u0439 \\u0440\\u0443\\u043a\\u043e\\u0432\\u043e\\u0434\\u0438\\u0442\\u0435\\u043b\\u044c \\u2013 \\u043f\\u0440\\u0435\\u0434\\u043c\\u0435\\u0442\\u043d\\u0438\\u043a \\u041c\\u043e\\u043d\\u0442\\u0435\\u0441\\u0441\\u043e\\u0440\\u0438 \\u043a\\u043b\\u0430\\u0441\\u0441\\u0430 (12-15 \\u043b\\u0435\\u0442)\", \"Assistant teacher / \\u041f\\u043e\\u043c\\u043e\\u0449\\u043d\\u0438\\u043a \\u043f\\u0440\\u0435\\u043f\\u043e\\u0434\\u0430\\u0432\\u0430\\u0442\\u0435\\u043b\\u044f\", \"\\u041f\\u0435\\u0434\\u0430\\u0433\\u043e\\u0433/\\u0442\\u0440\\u0435\\u043d\\u0435\\u0440 \\u043f\\u043e \\u0448\\u0430\\u0445\\u043c\\u0430\\u0442\\u0430\\u043c\"], \"type\": \"scattermapbox\"}],                        {\"mapbox\": {\"center\": {\"lat\": 55.729741, \"lon\": 37.638693}, \"style\": \"open-street-map\", \"zoom\": 9}, \"template\": {\"data\": {\"bar\": [{\"error_x\": {\"color\": \"#2a3f5f\"}, \"error_y\": {\"color\": \"#2a3f5f\"}, \"marker\": {\"line\": {\"color\": \"#E5ECF6\", \"width\": 0.5}}, \"type\": \"bar\"}], \"barpolar\": [{\"marker\": {\"line\": {\"color\": \"#E5ECF6\", \"width\": 0.5}}, \"type\": \"barpolar\"}], \"carpet\": [{\"aaxis\": {\"endlinecolor\": \"#2a3f5f\", \"gridcolor\": \"white\", \"linecolor\": \"white\", \"minorgridcolor\": \"white\", \"startlinecolor\": \"#2a3f5f\"}, \"baxis\": {\"endlinecolor\": \"#2a3f5f\", \"gridcolor\": \"white\", \"linecolor\": \"white\", \"minorgridcolor\": \"white\", \"startlinecolor\": \"#2a3f5f\"}, \"type\": \"carpet\"}], \"choropleth\": [{\"colorbar\": {\"outlinewidth\": 0, \"ticks\": \"\"}, \"type\": \"choropleth\"}], \"contour\": [{\"colorbar\": {\"outlinewidth\": 0, \"ticks\": \"\"}, \"colorscale\": [[0.0, \"#0d0887\"], [0.1111111111111111, \"#46039f\"], [0.2222222222222222, \"#7201a8\"], [0.3333333333333333, \"#9c179e\"], [0.4444444444444444, \"#bd3786\"], [0.5555555555555556, \"#d8576b\"], [0.6666666666666666, \"#ed7953\"], [0.7777777777777778, \"#fb9f3a\"], [0.8888888888888888, \"#fdca26\"], [1.0, \"#f0f921\"]], \"type\": \"contour\"}], \"contourcarpet\": [{\"colorbar\": {\"outlinewidth\": 0, \"ticks\": \"\"}, \"type\": \"contourcarpet\"}], \"heatmap\": [{\"colorbar\": {\"outlinewidth\": 0, \"ticks\": \"\"}, \"colorscale\": [[0.0, \"#0d0887\"], [0.1111111111111111, \"#46039f\"], [0.2222222222222222, \"#7201a8\"], [0.3333333333333333, \"#9c179e\"], [0.4444444444444444, \"#bd3786\"], [0.5555555555555556, \"#d8576b\"], [0.6666666666666666, \"#ed7953\"], [0.7777777777777778, \"#fb9f3a\"], [0.8888888888888888, \"#fdca26\"], [1.0, \"#f0f921\"]], \"type\": \"heatmap\"}], \"heatmapgl\": [{\"colorbar\": {\"outlinewidth\": 0, \"ticks\": \"\"}, \"colorscale\": [[0.0, \"#0d0887\"], [0.1111111111111111, \"#46039f\"], [0.2222222222222222, \"#7201a8\"], [0.3333333333333333, \"#9c179e\"], [0.4444444444444444, \"#bd3786\"], [0.5555555555555556, \"#d8576b\"], [0.6666666666666666, \"#ed7953\"], [0.7777777777777778, \"#fb9f3a\"], [0.8888888888888888, \"#fdca26\"], [1.0, \"#f0f921\"]], \"type\": \"heatmapgl\"}], \"histogram\": [{\"marker\": {\"colorbar\": {\"outlinewidth\": 0, \"ticks\": \"\"}}, \"type\": \"histogram\"}], \"histogram2d\": [{\"colorbar\": {\"outlinewidth\": 0, \"ticks\": \"\"}, \"colorscale\": [[0.0, \"#0d0887\"], [0.1111111111111111, \"#46039f\"], [0.2222222222222222, \"#7201a8\"], [0.3333333333333333, \"#9c179e\"], [0.4444444444444444, \"#bd3786\"], [0.5555555555555556, \"#d8576b\"], [0.6666666666666666, \"#ed7953\"], [0.7777777777777778, \"#fb9f3a\"], [0.8888888888888888, \"#fdca26\"], [1.0, \"#f0f921\"]], \"type\": \"histogram2d\"}], \"histogram2dcontour\": [{\"colorbar\": {\"outlinewidth\": 0, \"ticks\": \"\"}, \"colorscale\": [[0.0, \"#0d0887\"], [0.1111111111111111, \"#46039f\"], [0.2222222222222222, \"#7201a8\"], [0.3333333333333333, \"#9c179e\"], [0.4444444444444444, \"#bd3786\"], [0.5555555555555556, \"#d8576b\"], [0.6666666666666666, \"#ed7953\"], [0.7777777777777778, \"#fb9f3a\"], [0.8888888888888888, \"#fdca26\"], [1.0, \"#f0f921\"]], \"type\": \"histogram2dcontour\"}], \"mesh3d\": [{\"colorbar\": {\"outlinewidth\": 0, \"ticks\": \"\"}, \"type\": \"mesh3d\"}], \"parcoords\": [{\"line\": {\"colorbar\": {\"outlinewidth\": 0, \"ticks\": \"\"}}, \"type\": \"parcoords\"}], \"pie\": [{\"automargin\": true, \"type\": \"pie\"}], \"scatter\": [{\"marker\": {\"colorbar\": {\"outlinewidth\": 0, \"ticks\": \"\"}}, \"type\": \"scatter\"}], \"scatter3d\": [{\"line\": {\"colorbar\": {\"outlinewidth\": 0, \"ticks\": \"\"}}, \"marker\": {\"colorbar\": {\"outlinewidth\": 0, \"ticks\": \"\"}}, \"type\": \"scatter3d\"}], \"scattercarpet\": [{\"marker\": {\"colorbar\": {\"outlinewidth\": 0, \"ticks\": \"\"}}, \"type\": \"scattercarpet\"}], \"scattergeo\": [{\"marker\": {\"colorbar\": {\"outlinewidth\": 0, \"ticks\": \"\"}}, \"type\": \"scattergeo\"}], \"scattergl\": [{\"marker\": {\"colorbar\": {\"outlinewidth\": 0, \"ticks\": \"\"}}, \"type\": \"scattergl\"}], \"scattermapbox\": [{\"marker\": {\"colorbar\": {\"outlinewidth\": 0, \"ticks\": \"\"}}, \"type\": \"scattermapbox\"}], \"scatterpolar\": [{\"marker\": {\"colorbar\": {\"outlinewidth\": 0, \"ticks\": \"\"}}, \"type\": \"scatterpolar\"}], \"scatterpolargl\": [{\"marker\": {\"colorbar\": {\"outlinewidth\": 0, \"ticks\": \"\"}}, \"type\": \"scatterpolargl\"}], \"scatterternary\": [{\"marker\": {\"colorbar\": {\"outlinewidth\": 0, \"ticks\": \"\"}}, \"type\": \"scatterternary\"}], \"surface\": [{\"colorbar\": {\"outlinewidth\": 0, \"ticks\": \"\"}, \"colorscale\": [[0.0, \"#0d0887\"], [0.1111111111111111, \"#46039f\"], [0.2222222222222222, \"#7201a8\"], [0.3333333333333333, \"#9c179e\"], [0.4444444444444444, \"#bd3786\"], [0.5555555555555556, \"#d8576b\"], [0.6666666666666666, \"#ed7953\"], [0.7777777777777778, \"#fb9f3a\"], [0.8888888888888888, \"#fdca26\"], [1.0, \"#f0f921\"]], \"type\": \"surface\"}], \"table\": [{\"cells\": {\"fill\": {\"color\": \"#EBF0F8\"}, \"line\": {\"color\": \"white\"}}, \"header\": {\"fill\": {\"color\": \"#C8D4E3\"}, \"line\": {\"color\": \"white\"}}, \"type\": \"table\"}]}, \"layout\": {\"annotationdefaults\": {\"arrowcolor\": \"#2a3f5f\", \"arrowhead\": 0, \"arrowwidth\": 1}, \"autotypenumbers\": \"strict\", \"coloraxis\": {\"colorbar\": {\"outlinewidth\": 0, \"ticks\": \"\"}}, \"colorscale\": {\"diverging\": [[0, \"#8e0152\"], [0.1, \"#c51b7d\"], [0.2, \"#de77ae\"], [0.3, \"#f1b6da\"], [0.4, \"#fde0ef\"], [0.5, \"#f7f7f7\"], [0.6, \"#e6f5d0\"], [0.7, \"#b8e186\"], [0.8, \"#7fbc41\"], [0.9, \"#4d9221\"], [1, \"#276419\"]], \"sequential\": [[0.0, \"#0d0887\"], [0.1111111111111111, \"#46039f\"], [0.2222222222222222, \"#7201a8\"], [0.3333333333333333, \"#9c179e\"], [0.4444444444444444, \"#bd3786\"], [0.5555555555555556, \"#d8576b\"], [0.6666666666666666, \"#ed7953\"], [0.7777777777777778, \"#fb9f3a\"], [0.8888888888888888, \"#fdca26\"], [1.0, \"#f0f921\"]], \"sequentialminus\": [[0.0, \"#0d0887\"], [0.1111111111111111, \"#46039f\"], [0.2222222222222222, \"#7201a8\"], [0.3333333333333333, \"#9c179e\"], [0.4444444444444444, \"#bd3786\"], [0.5555555555555556, \"#d8576b\"], [0.6666666666666666, \"#ed7953\"], [0.7777777777777778, \"#fb9f3a\"], [0.8888888888888888, \"#fdca26\"], [1.0, \"#f0f921\"]]}, \"colorway\": [\"#636efa\", \"#EF553B\", \"#00cc96\", \"#ab63fa\", \"#FFA15A\", \"#19d3f3\", \"#FF6692\", \"#B6E880\", \"#FF97FF\", \"#FECB52\"], \"font\": {\"color\": \"#2a3f5f\"}, \"geo\": {\"bgcolor\": \"white\", \"lakecolor\": \"white\", \"landcolor\": \"#E5ECF6\", \"showlakes\": true, \"showland\": true, \"subunitcolor\": \"white\"}, \"hoverlabel\": {\"align\": \"left\"}, \"hovermode\": \"closest\", \"mapbox\": {\"style\": \"light\"}, \"paper_bgcolor\": \"white\", \"plot_bgcolor\": \"#E5ECF6\", \"polar\": {\"angularaxis\": {\"gridcolor\": \"white\", \"linecolor\": \"white\", \"ticks\": \"\"}, \"bgcolor\": \"#E5ECF6\", \"radialaxis\": {\"gridcolor\": \"white\", \"linecolor\": \"white\", \"ticks\": \"\"}}, \"scene\": {\"xaxis\": {\"backgroundcolor\": \"#E5ECF6\", \"gridcolor\": \"white\", \"gridwidth\": 2, \"linecolor\": \"white\", \"showbackground\": true, \"ticks\": \"\", \"zerolinecolor\": \"white\"}, \"yaxis\": {\"backgroundcolor\": \"#E5ECF6\", \"gridcolor\": \"white\", \"gridwidth\": 2, \"linecolor\": \"white\", \"showbackground\": true, \"ticks\": \"\", \"zerolinecolor\": \"white\"}, \"zaxis\": {\"backgroundcolor\": \"#E5ECF6\", \"gridcolor\": \"white\", \"gridwidth\": 2, \"linecolor\": \"white\", \"showbackground\": true, \"ticks\": \"\", \"zerolinecolor\": \"white\"}}, \"shapedefaults\": {\"line\": {\"color\": \"#2a3f5f\"}}, \"ternary\": {\"aaxis\": {\"gridcolor\": \"white\", \"linecolor\": \"white\", \"ticks\": \"\"}, \"baxis\": {\"gridcolor\": \"white\", \"linecolor\": \"white\", \"ticks\": \"\"}, \"bgcolor\": \"#E5ECF6\", \"caxis\": {\"gridcolor\": \"white\", \"linecolor\": \"white\", \"ticks\": \"\"}}, \"title\": {\"x\": 0.05}, \"xaxis\": {\"automargin\": true, \"gridcolor\": \"white\", \"linecolor\": \"white\", \"ticks\": \"\", \"title\": {\"standoff\": 15}, \"zerolinecolor\": \"white\", \"zerolinewidth\": 2}, \"yaxis\": {\"automargin\": true, \"gridcolor\": \"white\", \"linecolor\": \"white\", \"ticks\": \"\", \"title\": {\"standoff\": 15}, \"zerolinecolor\": \"white\", \"zerolinewidth\": 2}}}},                        {\"responsive\": true}                    ).then(function(){\n",
       "                            \n",
       "var gd = document.getElementById('e95482ed-a74c-41c0-b835-6e730253d19b');\n",
       "var x = new MutationObserver(function (mutations, observer) {{\n",
       "        var display = window.getComputedStyle(gd).display;\n",
       "        if (!display || display === 'none') {{\n",
       "            console.log([gd, 'removed!']);\n",
       "            Plotly.purge(gd);\n",
       "            observer.disconnect();\n",
       "        }}\n",
       "}});\n",
       "\n",
       "// Listen for the removal of the full notebook cells\n",
       "var notebookContainer = gd.closest('#notebook-container');\n",
       "if (notebookContainer) {{\n",
       "    x.observe(notebookContainer, {childList: true});\n",
       "}}\n",
       "\n",
       "// Listen for the clearing of the current output cell\n",
       "var outputEl = gd.closest('.output');\n",
       "if (outputEl) {{\n",
       "    x.observe(outputEl, {childList: true});\n",
       "}}\n",
       "\n",
       "                        })                };                });            </script>        </div>"
      ]
     },
     "metadata": {},
     "output_type": "display_data"
    }
   ],
   "source": [
    "# распределение средней заработной платы по карте Москвы;\n",
    "\n",
    "# центровка\n",
    "map_center = dict(lat=final_data.lat[0], lon=final_data.lng[0])\n",
    "\n",
    "fig = go.Figure(go.Scattermapbox(lat=final_data.lat, \n",
    "                                 lon=final_data.lng, \n",
    "                                 text=final_data.name,\n",
    "                                 marker=dict(colorbar=dict(title=\"Зарплаты\"),\n",
    "                                             color=final_data.salary_mean)))\n",
    "fig.update_layout(mapbox_style=\"open-street-map\", mapbox=dict(center=map_center, zoom = 9))\n",
    "fig.show()"
   ]
  },
  {
   "cell_type": "code",
   "execution_count": 55,
   "metadata": {},
   "outputs": [
    {
     "data": {
      "application/vnd.plotly.v1+json": {
       "config": {
        "plotlyServerURL": "https://plot.ly"
       },
       "data": [
        {
         "lat": [
          55.537977,
          55.652923,
          55.676549,
          55.677423,
          55.705493,
          55.709211,
          55.70961,
          55.716139,
          55.722388,
          55.727462,
          55.729542,
          55.729741,
          55.730673,
          55.740746,
          55.743544,
          55.7491,
          55.756842,
          55.763944,
          55.777439,
          55.780014,
          55.783096,
          55.789282,
          55.793581,
          55.800441,
          55.805564,
          55.807794,
          55.838978,
          55.846098,
          55.854152,
          55.859676,
          55.899034
         ],
         "lon": [
          37.515899,
          37.596573,
          37.504584,
          37.663719,
          37.763295,
          37.732117,
          37.622569,
          37.792694,
          37.562041,
          37.58022,
          37.470973,
          37.638693,
          37.446522,
          37.65604,
          37.497042,
          37.5395,
          37.408139,
          37.562271,
          37.582107,
          37.666097,
          37.719289,
          37.679895,
          37.493317,
          37.530477,
          37.515245,
          37.638699,
          37.487515,
          37.36122,
          37.476728,
          37.436808,
          37.586473
         ],
         "marker": {
          "color": [
           1,
           1,
           1,
           1,
           1,
           1,
           1,
           1,
           1,
           1,
           1,
           1,
           1,
           1,
           1,
           4,
           1,
           5,
           1,
           1,
           1,
           1,
           1,
           1,
           1,
           1,
           1,
           1,
           1,
           1,
           1
          ],
          "colorbar": {
           "title": {
            "text": "Количество вакансий"
           }
          }
         },
         "type": "scattermapbox"
        }
       ],
       "layout": {
        "mapbox": {
         "center": {
          "lat": 55.652923,
          "lon": 37.596573
         },
         "style": "open-street-map",
         "zoom": 9
        },
        "template": {
         "data": {
          "bar": [
           {
            "error_x": {
             "color": "#2a3f5f"
            },
            "error_y": {
             "color": "#2a3f5f"
            },
            "marker": {
             "line": {
              "color": "#E5ECF6",
              "width": 0.5
             }
            },
            "type": "bar"
           }
          ],
          "barpolar": [
           {
            "marker": {
             "line": {
              "color": "#E5ECF6",
              "width": 0.5
             }
            },
            "type": "barpolar"
           }
          ],
          "carpet": [
           {
            "aaxis": {
             "endlinecolor": "#2a3f5f",
             "gridcolor": "white",
             "linecolor": "white",
             "minorgridcolor": "white",
             "startlinecolor": "#2a3f5f"
            },
            "baxis": {
             "endlinecolor": "#2a3f5f",
             "gridcolor": "white",
             "linecolor": "white",
             "minorgridcolor": "white",
             "startlinecolor": "#2a3f5f"
            },
            "type": "carpet"
           }
          ],
          "choropleth": [
           {
            "colorbar": {
             "outlinewidth": 0,
             "ticks": ""
            },
            "type": "choropleth"
           }
          ],
          "contour": [
           {
            "colorbar": {
             "outlinewidth": 0,
             "ticks": ""
            },
            "colorscale": [
             [
              0,
              "#0d0887"
             ],
             [
              0.1111111111111111,
              "#46039f"
             ],
             [
              0.2222222222222222,
              "#7201a8"
             ],
             [
              0.3333333333333333,
              "#9c179e"
             ],
             [
              0.4444444444444444,
              "#bd3786"
             ],
             [
              0.5555555555555556,
              "#d8576b"
             ],
             [
              0.6666666666666666,
              "#ed7953"
             ],
             [
              0.7777777777777778,
              "#fb9f3a"
             ],
             [
              0.8888888888888888,
              "#fdca26"
             ],
             [
              1,
              "#f0f921"
             ]
            ],
            "type": "contour"
           }
          ],
          "contourcarpet": [
           {
            "colorbar": {
             "outlinewidth": 0,
             "ticks": ""
            },
            "type": "contourcarpet"
           }
          ],
          "heatmap": [
           {
            "colorbar": {
             "outlinewidth": 0,
             "ticks": ""
            },
            "colorscale": [
             [
              0,
              "#0d0887"
             ],
             [
              0.1111111111111111,
              "#46039f"
             ],
             [
              0.2222222222222222,
              "#7201a8"
             ],
             [
              0.3333333333333333,
              "#9c179e"
             ],
             [
              0.4444444444444444,
              "#bd3786"
             ],
             [
              0.5555555555555556,
              "#d8576b"
             ],
             [
              0.6666666666666666,
              "#ed7953"
             ],
             [
              0.7777777777777778,
              "#fb9f3a"
             ],
             [
              0.8888888888888888,
              "#fdca26"
             ],
             [
              1,
              "#f0f921"
             ]
            ],
            "type": "heatmap"
           }
          ],
          "heatmapgl": [
           {
            "colorbar": {
             "outlinewidth": 0,
             "ticks": ""
            },
            "colorscale": [
             [
              0,
              "#0d0887"
             ],
             [
              0.1111111111111111,
              "#46039f"
             ],
             [
              0.2222222222222222,
              "#7201a8"
             ],
             [
              0.3333333333333333,
              "#9c179e"
             ],
             [
              0.4444444444444444,
              "#bd3786"
             ],
             [
              0.5555555555555556,
              "#d8576b"
             ],
             [
              0.6666666666666666,
              "#ed7953"
             ],
             [
              0.7777777777777778,
              "#fb9f3a"
             ],
             [
              0.8888888888888888,
              "#fdca26"
             ],
             [
              1,
              "#f0f921"
             ]
            ],
            "type": "heatmapgl"
           }
          ],
          "histogram": [
           {
            "marker": {
             "colorbar": {
              "outlinewidth": 0,
              "ticks": ""
             }
            },
            "type": "histogram"
           }
          ],
          "histogram2d": [
           {
            "colorbar": {
             "outlinewidth": 0,
             "ticks": ""
            },
            "colorscale": [
             [
              0,
              "#0d0887"
             ],
             [
              0.1111111111111111,
              "#46039f"
             ],
             [
              0.2222222222222222,
              "#7201a8"
             ],
             [
              0.3333333333333333,
              "#9c179e"
             ],
             [
              0.4444444444444444,
              "#bd3786"
             ],
             [
              0.5555555555555556,
              "#d8576b"
             ],
             [
              0.6666666666666666,
              "#ed7953"
             ],
             [
              0.7777777777777778,
              "#fb9f3a"
             ],
             [
              0.8888888888888888,
              "#fdca26"
             ],
             [
              1,
              "#f0f921"
             ]
            ],
            "type": "histogram2d"
           }
          ],
          "histogram2dcontour": [
           {
            "colorbar": {
             "outlinewidth": 0,
             "ticks": ""
            },
            "colorscale": [
             [
              0,
              "#0d0887"
             ],
             [
              0.1111111111111111,
              "#46039f"
             ],
             [
              0.2222222222222222,
              "#7201a8"
             ],
             [
              0.3333333333333333,
              "#9c179e"
             ],
             [
              0.4444444444444444,
              "#bd3786"
             ],
             [
              0.5555555555555556,
              "#d8576b"
             ],
             [
              0.6666666666666666,
              "#ed7953"
             ],
             [
              0.7777777777777778,
              "#fb9f3a"
             ],
             [
              0.8888888888888888,
              "#fdca26"
             ],
             [
              1,
              "#f0f921"
             ]
            ],
            "type": "histogram2dcontour"
           }
          ],
          "mesh3d": [
           {
            "colorbar": {
             "outlinewidth": 0,
             "ticks": ""
            },
            "type": "mesh3d"
           }
          ],
          "parcoords": [
           {
            "line": {
             "colorbar": {
              "outlinewidth": 0,
              "ticks": ""
             }
            },
            "type": "parcoords"
           }
          ],
          "pie": [
           {
            "automargin": true,
            "type": "pie"
           }
          ],
          "scatter": [
           {
            "marker": {
             "colorbar": {
              "outlinewidth": 0,
              "ticks": ""
             }
            },
            "type": "scatter"
           }
          ],
          "scatter3d": [
           {
            "line": {
             "colorbar": {
              "outlinewidth": 0,
              "ticks": ""
             }
            },
            "marker": {
             "colorbar": {
              "outlinewidth": 0,
              "ticks": ""
             }
            },
            "type": "scatter3d"
           }
          ],
          "scattercarpet": [
           {
            "marker": {
             "colorbar": {
              "outlinewidth": 0,
              "ticks": ""
             }
            },
            "type": "scattercarpet"
           }
          ],
          "scattergeo": [
           {
            "marker": {
             "colorbar": {
              "outlinewidth": 0,
              "ticks": ""
             }
            },
            "type": "scattergeo"
           }
          ],
          "scattergl": [
           {
            "marker": {
             "colorbar": {
              "outlinewidth": 0,
              "ticks": ""
             }
            },
            "type": "scattergl"
           }
          ],
          "scattermapbox": [
           {
            "marker": {
             "colorbar": {
              "outlinewidth": 0,
              "ticks": ""
             }
            },
            "type": "scattermapbox"
           }
          ],
          "scatterpolar": [
           {
            "marker": {
             "colorbar": {
              "outlinewidth": 0,
              "ticks": ""
             }
            },
            "type": "scatterpolar"
           }
          ],
          "scatterpolargl": [
           {
            "marker": {
             "colorbar": {
              "outlinewidth": 0,
              "ticks": ""
             }
            },
            "type": "scatterpolargl"
           }
          ],
          "scatterternary": [
           {
            "marker": {
             "colorbar": {
              "outlinewidth": 0,
              "ticks": ""
             }
            },
            "type": "scatterternary"
           }
          ],
          "surface": [
           {
            "colorbar": {
             "outlinewidth": 0,
             "ticks": ""
            },
            "colorscale": [
             [
              0,
              "#0d0887"
             ],
             [
              0.1111111111111111,
              "#46039f"
             ],
             [
              0.2222222222222222,
              "#7201a8"
             ],
             [
              0.3333333333333333,
              "#9c179e"
             ],
             [
              0.4444444444444444,
              "#bd3786"
             ],
             [
              0.5555555555555556,
              "#d8576b"
             ],
             [
              0.6666666666666666,
              "#ed7953"
             ],
             [
              0.7777777777777778,
              "#fb9f3a"
             ],
             [
              0.8888888888888888,
              "#fdca26"
             ],
             [
              1,
              "#f0f921"
             ]
            ],
            "type": "surface"
           }
          ],
          "table": [
           {
            "cells": {
             "fill": {
              "color": "#EBF0F8"
             },
             "line": {
              "color": "white"
             }
            },
            "header": {
             "fill": {
              "color": "#C8D4E3"
             },
             "line": {
              "color": "white"
             }
            },
            "type": "table"
           }
          ]
         },
         "layout": {
          "annotationdefaults": {
           "arrowcolor": "#2a3f5f",
           "arrowhead": 0,
           "arrowwidth": 1
          },
          "autotypenumbers": "strict",
          "coloraxis": {
           "colorbar": {
            "outlinewidth": 0,
            "ticks": ""
           }
          },
          "colorscale": {
           "diverging": [
            [
             0,
             "#8e0152"
            ],
            [
             0.1,
             "#c51b7d"
            ],
            [
             0.2,
             "#de77ae"
            ],
            [
             0.3,
             "#f1b6da"
            ],
            [
             0.4,
             "#fde0ef"
            ],
            [
             0.5,
             "#f7f7f7"
            ],
            [
             0.6,
             "#e6f5d0"
            ],
            [
             0.7,
             "#b8e186"
            ],
            [
             0.8,
             "#7fbc41"
            ],
            [
             0.9,
             "#4d9221"
            ],
            [
             1,
             "#276419"
            ]
           ],
           "sequential": [
            [
             0,
             "#0d0887"
            ],
            [
             0.1111111111111111,
             "#46039f"
            ],
            [
             0.2222222222222222,
             "#7201a8"
            ],
            [
             0.3333333333333333,
             "#9c179e"
            ],
            [
             0.4444444444444444,
             "#bd3786"
            ],
            [
             0.5555555555555556,
             "#d8576b"
            ],
            [
             0.6666666666666666,
             "#ed7953"
            ],
            [
             0.7777777777777778,
             "#fb9f3a"
            ],
            [
             0.8888888888888888,
             "#fdca26"
            ],
            [
             1,
             "#f0f921"
            ]
           ],
           "sequentialminus": [
            [
             0,
             "#0d0887"
            ],
            [
             0.1111111111111111,
             "#46039f"
            ],
            [
             0.2222222222222222,
             "#7201a8"
            ],
            [
             0.3333333333333333,
             "#9c179e"
            ],
            [
             0.4444444444444444,
             "#bd3786"
            ],
            [
             0.5555555555555556,
             "#d8576b"
            ],
            [
             0.6666666666666666,
             "#ed7953"
            ],
            [
             0.7777777777777778,
             "#fb9f3a"
            ],
            [
             0.8888888888888888,
             "#fdca26"
            ],
            [
             1,
             "#f0f921"
            ]
           ]
          },
          "colorway": [
           "#636efa",
           "#EF553B",
           "#00cc96",
           "#ab63fa",
           "#FFA15A",
           "#19d3f3",
           "#FF6692",
           "#B6E880",
           "#FF97FF",
           "#FECB52"
          ],
          "font": {
           "color": "#2a3f5f"
          },
          "geo": {
           "bgcolor": "white",
           "lakecolor": "white",
           "landcolor": "#E5ECF6",
           "showlakes": true,
           "showland": true,
           "subunitcolor": "white"
          },
          "hoverlabel": {
           "align": "left"
          },
          "hovermode": "closest",
          "mapbox": {
           "style": "light"
          },
          "paper_bgcolor": "white",
          "plot_bgcolor": "#E5ECF6",
          "polar": {
           "angularaxis": {
            "gridcolor": "white",
            "linecolor": "white",
            "ticks": ""
           },
           "bgcolor": "#E5ECF6",
           "radialaxis": {
            "gridcolor": "white",
            "linecolor": "white",
            "ticks": ""
           }
          },
          "scene": {
           "xaxis": {
            "backgroundcolor": "#E5ECF6",
            "gridcolor": "white",
            "gridwidth": 2,
            "linecolor": "white",
            "showbackground": true,
            "ticks": "",
            "zerolinecolor": "white"
           },
           "yaxis": {
            "backgroundcolor": "#E5ECF6",
            "gridcolor": "white",
            "gridwidth": 2,
            "linecolor": "white",
            "showbackground": true,
            "ticks": "",
            "zerolinecolor": "white"
           },
           "zaxis": {
            "backgroundcolor": "#E5ECF6",
            "gridcolor": "white",
            "gridwidth": 2,
            "linecolor": "white",
            "showbackground": true,
            "ticks": "",
            "zerolinecolor": "white"
           }
          },
          "shapedefaults": {
           "line": {
            "color": "#2a3f5f"
           }
          },
          "ternary": {
           "aaxis": {
            "gridcolor": "white",
            "linecolor": "white",
            "ticks": ""
           },
           "baxis": {
            "gridcolor": "white",
            "linecolor": "white",
            "ticks": ""
           },
           "bgcolor": "#E5ECF6",
           "caxis": {
            "gridcolor": "white",
            "linecolor": "white",
            "ticks": ""
           }
          },
          "title": {
           "x": 0.05
          },
          "xaxis": {
           "automargin": true,
           "gridcolor": "white",
           "linecolor": "white",
           "ticks": "",
           "title": {
            "standoff": 15
           },
           "zerolinecolor": "white",
           "zerolinewidth": 2
          },
          "yaxis": {
           "automargin": true,
           "gridcolor": "white",
           "linecolor": "white",
           "ticks": "",
           "title": {
            "standoff": 15
           },
           "zerolinecolor": "white",
           "zerolinewidth": 2
          }
         }
        }
       }
      },
      "text/html": [
       "<div>                            <div id=\"332538b0-516e-43a5-b43f-68ee81391a48\" class=\"plotly-graph-div\" style=\"height:525px; width:100%;\"></div>            <script type=\"text/javascript\">                require([\"plotly\"], function(Plotly) {                    window.PLOTLYENV=window.PLOTLYENV || {};                                    if (document.getElementById(\"332538b0-516e-43a5-b43f-68ee81391a48\")) {                    Plotly.newPlot(                        \"332538b0-516e-43a5-b43f-68ee81391a48\",                        [{\"lat\": [55.537977, 55.652923, 55.676549, 55.677423, 55.705493, 55.709211, 55.70961, 55.716139, 55.722388, 55.727462, 55.729542, 55.729741, 55.730673, 55.740746, 55.743544, 55.7491, 55.756842, 55.763944, 55.777439, 55.780014, 55.783096, 55.789282, 55.793581, 55.800441, 55.805564, 55.807794, 55.838978, 55.846098, 55.854152, 55.859676, 55.899034], \"lon\": [37.515899, 37.596573, 37.504584, 37.663719, 37.763295, 37.732117, 37.622569, 37.792694, 37.562041, 37.58022, 37.470973, 37.638693, 37.446522, 37.65604, 37.497042, 37.5395, 37.408139, 37.562271, 37.582107, 37.666097, 37.719289, 37.679895, 37.493317, 37.530477, 37.515245, 37.638699, 37.487515, 37.36122, 37.476728, 37.436808, 37.586473], \"marker\": {\"color\": [1, 1, 1, 1, 1, 1, 1, 1, 1, 1, 1, 1, 1, 1, 1, 4, 1, 5, 1, 1, 1, 1, 1, 1, 1, 1, 1, 1, 1, 1, 1], \"colorbar\": {\"title\": {\"text\": \"\\u041a\\u043e\\u043b\\u0438\\u0447\\u0435\\u0441\\u0442\\u0432\\u043e \\u0432\\u0430\\u043a\\u0430\\u043d\\u0441\\u0438\\u0439\"}}}, \"type\": \"scattermapbox\"}],                        {\"mapbox\": {\"center\": {\"lat\": 55.652923, \"lon\": 37.596573}, \"style\": \"open-street-map\", \"zoom\": 9}, \"template\": {\"data\": {\"bar\": [{\"error_x\": {\"color\": \"#2a3f5f\"}, \"error_y\": {\"color\": \"#2a3f5f\"}, \"marker\": {\"line\": {\"color\": \"#E5ECF6\", \"width\": 0.5}}, \"type\": \"bar\"}], \"barpolar\": [{\"marker\": {\"line\": {\"color\": \"#E5ECF6\", \"width\": 0.5}}, \"type\": \"barpolar\"}], \"carpet\": [{\"aaxis\": {\"endlinecolor\": \"#2a3f5f\", \"gridcolor\": \"white\", \"linecolor\": \"white\", \"minorgridcolor\": \"white\", \"startlinecolor\": \"#2a3f5f\"}, \"baxis\": {\"endlinecolor\": \"#2a3f5f\", \"gridcolor\": \"white\", \"linecolor\": \"white\", \"minorgridcolor\": \"white\", \"startlinecolor\": \"#2a3f5f\"}, \"type\": \"carpet\"}], \"choropleth\": [{\"colorbar\": {\"outlinewidth\": 0, \"ticks\": \"\"}, \"type\": \"choropleth\"}], \"contour\": [{\"colorbar\": {\"outlinewidth\": 0, \"ticks\": \"\"}, \"colorscale\": [[0.0, \"#0d0887\"], [0.1111111111111111, \"#46039f\"], [0.2222222222222222, \"#7201a8\"], [0.3333333333333333, \"#9c179e\"], [0.4444444444444444, \"#bd3786\"], [0.5555555555555556, \"#d8576b\"], [0.6666666666666666, \"#ed7953\"], [0.7777777777777778, \"#fb9f3a\"], [0.8888888888888888, \"#fdca26\"], [1.0, \"#f0f921\"]], \"type\": \"contour\"}], \"contourcarpet\": [{\"colorbar\": {\"outlinewidth\": 0, \"ticks\": \"\"}, \"type\": \"contourcarpet\"}], \"heatmap\": [{\"colorbar\": {\"outlinewidth\": 0, \"ticks\": \"\"}, \"colorscale\": [[0.0, \"#0d0887\"], [0.1111111111111111, \"#46039f\"], [0.2222222222222222, \"#7201a8\"], [0.3333333333333333, \"#9c179e\"], [0.4444444444444444, \"#bd3786\"], [0.5555555555555556, \"#d8576b\"], [0.6666666666666666, \"#ed7953\"], [0.7777777777777778, \"#fb9f3a\"], [0.8888888888888888, \"#fdca26\"], [1.0, \"#f0f921\"]], \"type\": \"heatmap\"}], \"heatmapgl\": [{\"colorbar\": {\"outlinewidth\": 0, \"ticks\": \"\"}, \"colorscale\": [[0.0, \"#0d0887\"], [0.1111111111111111, \"#46039f\"], [0.2222222222222222, \"#7201a8\"], [0.3333333333333333, \"#9c179e\"], [0.4444444444444444, \"#bd3786\"], [0.5555555555555556, \"#d8576b\"], [0.6666666666666666, \"#ed7953\"], [0.7777777777777778, \"#fb9f3a\"], [0.8888888888888888, \"#fdca26\"], [1.0, \"#f0f921\"]], \"type\": \"heatmapgl\"}], \"histogram\": [{\"marker\": {\"colorbar\": {\"outlinewidth\": 0, \"ticks\": \"\"}}, \"type\": \"histogram\"}], \"histogram2d\": [{\"colorbar\": {\"outlinewidth\": 0, \"ticks\": \"\"}, \"colorscale\": [[0.0, \"#0d0887\"], [0.1111111111111111, \"#46039f\"], [0.2222222222222222, \"#7201a8\"], [0.3333333333333333, \"#9c179e\"], [0.4444444444444444, \"#bd3786\"], [0.5555555555555556, \"#d8576b\"], [0.6666666666666666, \"#ed7953\"], [0.7777777777777778, \"#fb9f3a\"], [0.8888888888888888, \"#fdca26\"], [1.0, \"#f0f921\"]], \"type\": \"histogram2d\"}], \"histogram2dcontour\": [{\"colorbar\": {\"outlinewidth\": 0, \"ticks\": \"\"}, \"colorscale\": [[0.0, \"#0d0887\"], [0.1111111111111111, \"#46039f\"], [0.2222222222222222, \"#7201a8\"], [0.3333333333333333, \"#9c179e\"], [0.4444444444444444, \"#bd3786\"], [0.5555555555555556, \"#d8576b\"], [0.6666666666666666, \"#ed7953\"], [0.7777777777777778, \"#fb9f3a\"], [0.8888888888888888, \"#fdca26\"], [1.0, \"#f0f921\"]], \"type\": \"histogram2dcontour\"}], \"mesh3d\": [{\"colorbar\": {\"outlinewidth\": 0, \"ticks\": \"\"}, \"type\": \"mesh3d\"}], \"parcoords\": [{\"line\": {\"colorbar\": {\"outlinewidth\": 0, \"ticks\": \"\"}}, \"type\": \"parcoords\"}], \"pie\": [{\"automargin\": true, \"type\": \"pie\"}], \"scatter\": [{\"marker\": {\"colorbar\": {\"outlinewidth\": 0, \"ticks\": \"\"}}, \"type\": \"scatter\"}], \"scatter3d\": [{\"line\": {\"colorbar\": {\"outlinewidth\": 0, \"ticks\": \"\"}}, \"marker\": {\"colorbar\": {\"outlinewidth\": 0, \"ticks\": \"\"}}, \"type\": \"scatter3d\"}], \"scattercarpet\": [{\"marker\": {\"colorbar\": {\"outlinewidth\": 0, \"ticks\": \"\"}}, \"type\": \"scattercarpet\"}], \"scattergeo\": [{\"marker\": {\"colorbar\": {\"outlinewidth\": 0, \"ticks\": \"\"}}, \"type\": \"scattergeo\"}], \"scattergl\": [{\"marker\": {\"colorbar\": {\"outlinewidth\": 0, \"ticks\": \"\"}}, \"type\": \"scattergl\"}], \"scattermapbox\": [{\"marker\": {\"colorbar\": {\"outlinewidth\": 0, \"ticks\": \"\"}}, \"type\": \"scattermapbox\"}], \"scatterpolar\": [{\"marker\": {\"colorbar\": {\"outlinewidth\": 0, \"ticks\": \"\"}}, \"type\": \"scatterpolar\"}], \"scatterpolargl\": [{\"marker\": {\"colorbar\": {\"outlinewidth\": 0, \"ticks\": \"\"}}, \"type\": \"scatterpolargl\"}], \"scatterternary\": [{\"marker\": {\"colorbar\": {\"outlinewidth\": 0, \"ticks\": \"\"}}, \"type\": \"scatterternary\"}], \"surface\": [{\"colorbar\": {\"outlinewidth\": 0, \"ticks\": \"\"}, \"colorscale\": [[0.0, \"#0d0887\"], [0.1111111111111111, \"#46039f\"], [0.2222222222222222, \"#7201a8\"], [0.3333333333333333, \"#9c179e\"], [0.4444444444444444, \"#bd3786\"], [0.5555555555555556, \"#d8576b\"], [0.6666666666666666, \"#ed7953\"], [0.7777777777777778, \"#fb9f3a\"], [0.8888888888888888, \"#fdca26\"], [1.0, \"#f0f921\"]], \"type\": \"surface\"}], \"table\": [{\"cells\": {\"fill\": {\"color\": \"#EBF0F8\"}, \"line\": {\"color\": \"white\"}}, \"header\": {\"fill\": {\"color\": \"#C8D4E3\"}, \"line\": {\"color\": \"white\"}}, \"type\": \"table\"}]}, \"layout\": {\"annotationdefaults\": {\"arrowcolor\": \"#2a3f5f\", \"arrowhead\": 0, \"arrowwidth\": 1}, \"autotypenumbers\": \"strict\", \"coloraxis\": {\"colorbar\": {\"outlinewidth\": 0, \"ticks\": \"\"}}, \"colorscale\": {\"diverging\": [[0, \"#8e0152\"], [0.1, \"#c51b7d\"], [0.2, \"#de77ae\"], [0.3, \"#f1b6da\"], [0.4, \"#fde0ef\"], [0.5, \"#f7f7f7\"], [0.6, \"#e6f5d0\"], [0.7, \"#b8e186\"], [0.8, \"#7fbc41\"], [0.9, \"#4d9221\"], [1, \"#276419\"]], \"sequential\": [[0.0, \"#0d0887\"], [0.1111111111111111, \"#46039f\"], [0.2222222222222222, \"#7201a8\"], [0.3333333333333333, \"#9c179e\"], [0.4444444444444444, \"#bd3786\"], [0.5555555555555556, \"#d8576b\"], [0.6666666666666666, \"#ed7953\"], [0.7777777777777778, \"#fb9f3a\"], [0.8888888888888888, \"#fdca26\"], [1.0, \"#f0f921\"]], \"sequentialminus\": [[0.0, \"#0d0887\"], [0.1111111111111111, \"#46039f\"], [0.2222222222222222, \"#7201a8\"], [0.3333333333333333, \"#9c179e\"], [0.4444444444444444, \"#bd3786\"], [0.5555555555555556, \"#d8576b\"], [0.6666666666666666, \"#ed7953\"], [0.7777777777777778, \"#fb9f3a\"], [0.8888888888888888, \"#fdca26\"], [1.0, \"#f0f921\"]]}, \"colorway\": [\"#636efa\", \"#EF553B\", \"#00cc96\", \"#ab63fa\", \"#FFA15A\", \"#19d3f3\", \"#FF6692\", \"#B6E880\", \"#FF97FF\", \"#FECB52\"], \"font\": {\"color\": \"#2a3f5f\"}, \"geo\": {\"bgcolor\": \"white\", \"lakecolor\": \"white\", \"landcolor\": \"#E5ECF6\", \"showlakes\": true, \"showland\": true, \"subunitcolor\": \"white\"}, \"hoverlabel\": {\"align\": \"left\"}, \"hovermode\": \"closest\", \"mapbox\": {\"style\": \"light\"}, \"paper_bgcolor\": \"white\", \"plot_bgcolor\": \"#E5ECF6\", \"polar\": {\"angularaxis\": {\"gridcolor\": \"white\", \"linecolor\": \"white\", \"ticks\": \"\"}, \"bgcolor\": \"#E5ECF6\", \"radialaxis\": {\"gridcolor\": \"white\", \"linecolor\": \"white\", \"ticks\": \"\"}}, \"scene\": {\"xaxis\": {\"backgroundcolor\": \"#E5ECF6\", \"gridcolor\": \"white\", \"gridwidth\": 2, \"linecolor\": \"white\", \"showbackground\": true, \"ticks\": \"\", \"zerolinecolor\": \"white\"}, \"yaxis\": {\"backgroundcolor\": \"#E5ECF6\", \"gridcolor\": \"white\", \"gridwidth\": 2, \"linecolor\": \"white\", \"showbackground\": true, \"ticks\": \"\", \"zerolinecolor\": \"white\"}, \"zaxis\": {\"backgroundcolor\": \"#E5ECF6\", \"gridcolor\": \"white\", \"gridwidth\": 2, \"linecolor\": \"white\", \"showbackground\": true, \"ticks\": \"\", \"zerolinecolor\": \"white\"}}, \"shapedefaults\": {\"line\": {\"color\": \"#2a3f5f\"}}, \"ternary\": {\"aaxis\": {\"gridcolor\": \"white\", \"linecolor\": \"white\", \"ticks\": \"\"}, \"baxis\": {\"gridcolor\": \"white\", \"linecolor\": \"white\", \"ticks\": \"\"}, \"bgcolor\": \"#E5ECF6\", \"caxis\": {\"gridcolor\": \"white\", \"linecolor\": \"white\", \"ticks\": \"\"}}, \"title\": {\"x\": 0.05}, \"xaxis\": {\"automargin\": true, \"gridcolor\": \"white\", \"linecolor\": \"white\", \"ticks\": \"\", \"title\": {\"standoff\": 15}, \"zerolinecolor\": \"white\", \"zerolinewidth\": 2}, \"yaxis\": {\"automargin\": true, \"gridcolor\": \"white\", \"linecolor\": \"white\", \"ticks\": \"\", \"title\": {\"standoff\": 15}, \"zerolinecolor\": \"white\", \"zerolinewidth\": 2}}}},                        {\"responsive\": true}                    ).then(function(){\n",
       "                            \n",
       "var gd = document.getElementById('332538b0-516e-43a5-b43f-68ee81391a48');\n",
       "var x = new MutationObserver(function (mutations, observer) {{\n",
       "        var display = window.getComputedStyle(gd).display;\n",
       "        if (!display || display === 'none') {{\n",
       "            console.log([gd, 'removed!']);\n",
       "            Plotly.purge(gd);\n",
       "            observer.disconnect();\n",
       "        }}\n",
       "}});\n",
       "\n",
       "// Listen for the removal of the full notebook cells\n",
       "var notebookContainer = gd.closest('#notebook-container');\n",
       "if (notebookContainer) {{\n",
       "    x.observe(notebookContainer, {childList: true});\n",
       "}}\n",
       "\n",
       "// Listen for the clearing of the current output cell\n",
       "var outputEl = gd.closest('.output');\n",
       "if (outputEl) {{\n",
       "    x.observe(outputEl, {childList: true});\n",
       "}}\n",
       "\n",
       "                        })                };                });            </script>        </div>"
      ]
     },
     "metadata": {},
     "output_type": "display_data"
    }
   ],
   "source": [
    "# распределение спроса на вакансию по карте Москвы.\n",
    "coun_vac = final_data[['name', 'lat','lng']].groupby(['lat', 'lng']).count()\n",
    "coun_vac.reset_index(inplace=True)\n",
    "coun_vac.rename(columns = {'name' :'count_v'}, inplace = True)\n",
    "\n",
    "map_center = dict(lat=coun_vac.lat[1], lon=coun_vac.lng[1])\n",
    "\n",
    "fig = go.Figure(go.Scattermapbox(lat=coun_vac.lat, \n",
    "                                 lon=coun_vac.lng, \n",
    "                                 marker=dict(colorbar=dict(title=\"Количество вакансий\"),\n",
    "                                             color=coun_vac.count_v)))\n",
    "fig.update_layout(mapbox_style=\"open-street-map\", mapbox=dict(center=map_center, zoom = 9))\n",
    "fig.show()"
   ]
  },
  {
   "cell_type": "markdown",
   "metadata": {},
   "source": [
    "Здесь выводы примерно такие же как и у Data Scientist, только с заменой на учителя. Единстевенное, что я бы подметил --- по сравнению с Data Scientis зарплаты учителей ниже. Просто так, к слову."
   ]
  },
  {
   "cell_type": "markdown",
   "metadata": {},
   "source": [
    "**Замечание в тему.** Многие из вас наверняка сейчас уже начинают задумываться о работе. Конечно, вы имеете на это полное право. Однако, по нашему опыту работа на 3 курсе отрицательно сказывается на степени усвоения материала. По сути все предметы цикла Data Science у вас еще впереди. Подумайте, наверное, лучше разобраться во всем во время учебы, чем потом что-то где-то нагонять. Более простой вариант &mdash; летняя стажировка, но не забудьте отдохнуть, набравшись сил перед непростым 3 курсом ☺."
   ]
  },
  {
   "cell_type": "markdown",
   "metadata": {},
   "source": [
    "\n",
    "---\n",
    "### <font color=\"orange\"><i>Сложная часть</i></font>\n",
    "\n",
    "### Задача 4.\n",
    "\n",
    "Найдите оценку параметра $\\theta$ методом моментов по выборке размера $n$ из распределения:\n",
    "* $U(a, b), \\theta=(a, b)$; \n",
    "* $Pois(\\theta)$;\n",
    "* $\\mathcal{N}(a, \\sigma^2), \\theta=(a, \\sigma)$."
   ]
  },
  {
   "cell_type": "markdown",
   "metadata": {},
   "source": [
    "Пусть $X_1, \\dots, X_n$ --- независимо одинаково распределенные (в каждом пункте с соответствующем распределением) случайные величины. Подберем оценку параметра $\\theta$ стандартным методом моментов.\n",
    "\n",
    "* Так как $\\theta \\in \\mathbb {R}^2$  Составим следующую систему уравнений:\n",
    "\n",
    "\\begin{equation*}\n",
    " \\begin{cases}\n",
    "   E_{\\theta}X_1 = \\overline{X},\n",
    "   \\\\\n",
    "   E_{\\theta}X_{1}^2 = \\overline{X^2}.\n",
    " \\end{cases}\n",
    "\\end{equation*}\n",
    "\n",
    "Зная, что $E_{\\theta}X_1 = \\frac{\\widehat{a}+\\widehat{b}}{2}$ и $E_{\\theta}X_{1}^2 = \\frac{\\widehat{a^2}+\\widehat{ab}+\\widehat{b^2}}{3},$ то получим:\n",
    "\\begin{equation*}\n",
    " \\begin{cases}\n",
    "   \\frac{\\widehat{a}+\\widehat{b}}{2} = \\overline{X},\n",
    "   \\\\\n",
    "   \\frac{\\widehat{a^2}+\\widehat{ab}+\\widehat{b^2}}{3} = \\overline{X^2}.\n",
    " \\end{cases}\n",
    "\\end{equation*}\n",
    "\n",
    "Решив эту систему относительно $\\widehat{a}$ и $\\widehat{b},$ получим:\n",
    "\\begin{equation*}\n",
    " \\begin{cases}\n",
    "   \\widehat{a} = \\overline{X} - \\sqrt{3}S,\n",
    "   \\\\\n",
    "   \\widehat{b} = \\overline{X} + \\sqrt{3}S.\n",
    " \\end{cases}\n",
    "\\end{equation*}\n",
    "\n",
    "* Так как $\\theta \\in \\mathbb {R}^1$  Составим следующее уравнение:$$E_{\\theta}X_1 = \\overline{X}.$$\n",
    "\n",
    "Зная, что $E_{\\theta}X_1 = \\widehat{\\theta},$ то получим:$$\\widehat{\\theta} = \\overline{X}.$$\n",
    "\n",
    "* Так как $\\theta \\in \\mathbb {R}^2$  Составим следующую систему уравнений:\n",
    "\n",
    "\\begin{equation*}\n",
    " \\begin{cases}\n",
    "   E_{\\theta}X_1 = \\overline{X},\n",
    "   \\\\\n",
    "   E_{\\theta}X_{1}^2 = \\overline{X^2}.\n",
    " \\end{cases}\n",
    "\\end{equation*}\n",
    "\n",
    "Зная, что $E_{\\theta}X_1 = \\widehat{a},$ то получим:$$\\widehat{a} = \\overline{X}.$$\n",
    "Также зная $D_{\\theta}X_1 = \\widehat{\\sigma^2}$ и $D_{\\theta}X_1 = E_{\\theta}X_{1}^2 - (E_{\\theta}X_{1})^2,$ получим $$E_{\\theta}X_{1}^2 = \\widehat{a^2} + \\widehat{\\sigma^2} = (\\overline{X})^2 + \\widehat{\\sigma^2} = \\overline{X^2}.$$\n",
    "\n",
    "В итоге получим, что:\n",
    "\\begin{equation*}\n",
    " \\begin{cases}\n",
    "   \\widehat{a} = \\overline{X},\n",
    "   \\\\\n",
    "   \\widehat{\\sigma} = S.\n",
    " \\end{cases}\n",
    "\\end{equation*}"
   ]
  },
  {
   "cell_type": "markdown",
   "metadata": {
    "id": "rA8jNWguSPSM"
   },
   "source": [
    "---\n",
    "### Задача 5.\n",
    "\n",
    "В данной задаче вам предстоит распарсить сайт, который вы выберите.\n",
    "\n",
    "**1.** Каждая ссылка (URL) в интернете состоит из нескольких компонент:\n",
    "\n",
    "* схема, *например, `http` или `https`*,\n",
    "* хост, *наример, `en.wikipedia.org`*\n",
    "* путь, по которому находится информация,\n",
    "* параметры,\n",
    "* якорь &mdash; указание фрагмента страницы."
   ]
  },
  {
   "cell_type": "markdown",
   "metadata": {
    "id": "JHJGEWu4SPSN"
   },
   "source": [
    "![url_parts.png](data:image/png;base64,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)"
   ]
  },
  {
   "cell_type": "markdown",
   "metadata": {
    "id": "yLuIXPezSPSV"
   },
   "source": [
    "Одна и та же ссылка может иметь несколько форм и вести на ту же самую страницу. Во время обхода сайта это надо учитывать и сохранять один уникальный урл для каждой страницы. Процедура, приводящая урл к каноничному виду, называется нормализацией.\n",
    "Процедуры, которые применяются к урлу для нормализации, описаны, например, на <a target=\"_blank\" href=\"https://ru.wikipedia.org/wiki/%D0%9D%D0%BE%D1%80%D0%BC%D0%B0%D0%BB%D0%B8%D0%B7%D0%B0%D1%86%D0%B8%D1%8F_URL\">Википедии</a>.\n",
    "\n",
    "Установите пакет `url_normalize`, в котором есть готовая функция для нормализации."
   ]
  },
  {
   "cell_type": "raw",
   "metadata": {
    "id": "x1WMgDCoSPSX"
   },
   "source": [
    "pip install url_normalize"
   ]
  },
  {
   "cell_type": "markdown",
   "metadata": {
    "id": "RSEJtva6SPSY"
   },
   "source": [
    "Прочитайте, как именно функция `url_normalize` меняет ссылку, и приведите примеры $4$ урлов, которые нормализуются к одному и тому же. Примеры должны демонстрировать различные этапы процедуры нормализации. Одним из этих примеров может быть сам нормализованный урл."
   ]
  },
  {
   "cell_type": "code",
   "execution_count": 58,
   "metadata": {
    "id": "HD1enOlrSPSY"
   },
   "outputs": [],
   "source": [
    "from url_normalize import url_normalize"
   ]
  },
  {
   "cell_type": "code",
   "execution_count": 59,
   "metadata": {
    "id": "5429_vCZSPSY"
   },
   "outputs": [
    {
     "data": {
      "text/plain": [
       "Ellipsis"
      ]
     },
     "execution_count": 59,
     "metadata": {},
     "output_type": "execute_result"
    }
   ],
   "source": [
    "..."
   ]
  },
  {
   "cell_type": "markdown",
   "metadata": {
    "id": "aYrDnZgOSPSY"
   },
   "source": [
    "_____________\n",
    "Изучите код, в котором скачиваются страницы сайта `simple.wikipedia.org` с <a href=\"https://mipt-stats.gitlab.io/courses/ad_fivt/data_parsing.html\">занятия про парсинг данных</a>. Код, реализующий обход в ширину с фильтрацией и нормализацией урлов, приведён в виде функции."
   ]
  },
  {
   "cell_type": "code",
   "execution_count": 61,
   "metadata": {
    "id": "3RcFQtIuSPSZ"
   },
   "outputs": [],
   "source": [
    "from urllib.parse import urlparse, urldefrag, urljoin\n",
    "from urllib.request import urlopen\n",
    "from bs4 import BeautifulSoup\n",
    "from queue import Queue\n",
    "import time"
   ]
  },
  {
   "cell_type": "markdown",
   "metadata": {
    "id": "izuJ-jM9SPSZ"
   },
   "source": [
    "Код обхода в ширину:"
   ]
  },
  {
   "cell_type": "code",
   "execution_count": 62,
   "metadata": {
    "id": "5mC5Mt8QSPSZ"
   },
   "outputs": [],
   "source": [
    "def load_web_pages(seed, max_downloads, filtration_function):\n",
    "    '''Обходит web-страницы в ширину и загружает информацию о них.\n",
    "    \n",
    "    Принимает:\n",
    "        seed (str) -- страница, с которой начинать обход.\n",
    "        max_downloads (int) -- максимальное число загруженных страниц.\n",
    "        filtration_function (str -> bool) -- функция, указывающая, \n",
    "            стоит ли загружать страницу. Пример: is_wiki_article.\n",
    "            \n",
    "    Возвращает:\n",
    "        pages_json (list) - список словарей с информацией о страницах.\n",
    "    '''\n",
    "    \n",
    "    # Создаём список со страницами\n",
    "    pages_json = []\n",
    "    \n",
    "    # Создаём очередь для обхода в ширину\n",
    "    q = Queue()\n",
    "    q.put(seed)\n",
    "\n",
    "    already_visited = set()\n",
    "    n_downloads = 0\n",
    "    time_start = time.time()\n",
    "\n",
    "    while not q.empty():\n",
    "        # Нормализуем урл\n",
    "        main_url = url_normalize(q.get())\n",
    "        if main_url in already_visited:\n",
    "            continue\n",
    "        already_visited.add(main_url)\n",
    "        html = download_from_the_internet(main_url)\n",
    "\n",
    "        # Извлекаем ссылки из страницы\n",
    "        children_links = extract_links_from_html(main_url, html)\n",
    "        time.sleep(1)\n",
    "\n",
    "        # Извлекаем текст страницы\n",
    "        text_info = extract_text_info_from_html(html) \n",
    "\n",
    "        # Добавляем запись в таблицу\n",
    "        text_info['url'] = main_url\n",
    "        pages_json.append(text_info)\n",
    "\n",
    "        n_downloads += 1\n",
    "        if n_downloads > max_downloads:\n",
    "            break\n",
    "\n",
    "        # Добавляем ещё не посещённые ссылки в очередь\n",
    "        for child in children_links:\n",
    "            if url_normalize(child) not in already_visited \\\n",
    "            and filtration_function(child):\n",
    "                q.put(child)\n",
    "                \n",
    "    return pages_json"
   ]
  },
  {
   "cell_type": "markdown",
   "metadata": {
    "id": "NmvhIvxqSPSa"
   },
   "source": [
    "**2.** Выберите сайт, который вам интересен, а также некоторую категорию страниц в нём. Поймите, с какой страницы сайта надо начать обход, чтобы обходить сайты данной категории.\n",
    "\n",
    "*Пример: ищем статьи про Data Science на Википедии, начинаем со статьи Data Dcience*.\n",
    "\n",
    "**Укажите, что выбрали:** <...>\n",
    "\n",
    "Придумайте критерий, который по тексту из HTML-страницы будет определять, находится ли страница в определённой вами категории.\n",
    "\n",
    "*Пример: статья на Википедии про Data Science, если в ней есть слово \"data\" или термины из статистики, теории вероятностей и анализа данных*.\n",
    "\n",
    "**Опишите критерий:** <...>\n",
    "\n",
    "Начав с выбранной страницы, скачайте не менее $500$ страниц сайта. В качестве функции фильтрации возьмите функцию, которая отделяет страницы с выбранного сайта от других."
   ]
  },
  {
   "cell_type": "code",
   "execution_count": 64,
   "metadata": {
    "id": "Ny_bHaM2SPSa"
   },
   "outputs": [],
   "source": [
    "..."
   ]
  },
  {
   "cell_type": "markdown",
   "metadata": {
    "id": "CRTS3n7SSPSa"
   },
   "source": [
    "Cделайте таблицу со следующей информацией:\n",
    "\n",
    "* количество слов в тексте статьи;\n",
    "* принадлежит ли страница выбранной категории.\n",
    "\n",
    "Для последнего пункта можете воспользоваться функцией поиска слов по заданным префиксам, рассмотренной на <a href=\"https://mipt-stats.gitlab.io/courses/ad_fivt/data_parsing.html\">занятии</a>."
   ]
  },
  {
   "cell_type": "code",
   "execution_count": null,
   "metadata": {
    "id": "86jEvSSbSPSa"
   },
   "outputs": [],
   "source": [
    "..."
   ]
  },
  {
   "cell_type": "markdown",
   "metadata": {
    "id": "RVBT7vf1SPSb"
   },
   "source": [
    "Определите, какой процент скачанных страниц принадлежит выбранной категории?"
   ]
  },
  {
   "cell_type": "code",
   "execution_count": null,
   "metadata": {
    "id": "JcSREDuRSPSb"
   },
   "outputs": [],
   "source": [
    "..."
   ]
  },
  {
   "cell_type": "markdown",
   "metadata": {
    "id": "Kb9VYr_RSPSb"
   },
   "source": [
    "C помощью гистограмм сравните визуально распределения количества слов в статьях из выбранной категории и во всех остальных. Для этих двух распределений вычислите средние, медианы и дисперсии. Средние и медианы отобразите на графиках с гистограммами. Сделайте выводы."
   ]
  },
  {
   "cell_type": "code",
   "execution_count": null,
   "metadata": {
    "id": "ESSLuUFxSPSb"
   },
   "outputs": [],
   "source": [
    "..."
   ]
  },
  {
   "cell_type": "markdown",
   "metadata": {
    "id": "ten-hEvMSPSb"
   },
   "source": [
    "Постройте boxplot-графики для того, чтобы сравнить эти 2 распределения. Какой способ сравнения кажется вам более удобным?"
   ]
  },
  {
   "cell_type": "code",
   "execution_count": null,
   "metadata": {
    "id": "6MAL_YBhSPSb"
   },
   "outputs": [],
   "source": [
    "..."
   ]
  },
  {
   "cell_type": "markdown",
   "metadata": {
    "id": "E075Q2TeSPSc"
   },
   "source": [
    "**3.** При помощи `plotly` визуализируйте скачанные страницы сайта. В качестве значений по осям возьмите количество слов на странице и количество ссылок на ней. Цветом обозначьте принадлежность выбранной вами категории. При наведении курсора на точку, обозначающую страницу, должна появляться подсказка с названием этой страницы."
   ]
  },
  {
   "cell_type": "code",
   "execution_count": null,
   "metadata": {
    "id": "zFLdpeNxSPSc"
   },
   "outputs": [],
   "source": [
    "..."
   ]
  },
  {
   "cell_type": "markdown",
   "metadata": {
    "id": "ZEbXPI9XSPSc"
   },
   "source": [
    "**4.** Предложите функцию фильтрации web-страниц, которую нужно подать в `load_web_pages`, чтобы среди скачанных сайтов был больше процент страниц из выбранной вами категории."
   ]
  },
  {
   "cell_type": "code",
   "execution_count": null,
   "metadata": {
    "id": "rmq1nzqjSPSc"
   },
   "outputs": [],
   "source": [
    "..."
   ]
  },
  {
   "cell_type": "markdown",
   "metadata": {
    "id": "U4RICuIBSPSd"
   },
   "source": [
    "Скачайте снова не менее $500$ страниц, но уже с новой функцией фильтрации. Добавьте следующую информацию к каждой странице:\n",
    "\n",
    "* глубина в обходе,\n",
    "* время скачивания страницы.\n",
    "\n",
    "Для замера времени можете воспользоваться функцией `time` из пакета `time`."
   ]
  },
  {
   "cell_type": "code",
   "execution_count": null,
   "metadata": {
    "id": "IqF2W0_PSPSd"
   },
   "outputs": [],
   "source": [
    "..."
   ]
  },
  {
   "cell_type": "markdown",
   "metadata": {
    "id": "-IgS4xrSSPSd"
   },
   "source": [
    "Постройте гистограмму и ядерную оценку плотности для времени скачивания страницы."
   ]
  },
  {
   "cell_type": "code",
   "execution_count": null,
   "metadata": {
    "id": "swnPjXbESPSd"
   },
   "outputs": [],
   "source": [
    "..."
   ]
  },
  {
   "cell_type": "markdown",
   "metadata": {},
   "source": [
    "Какими известными вам стандартными распределениями оно может быть приближено? Найдите оценку параметров этого распределения по методу моментов и отобразите на графике плотность с полученными значениями параметров.\n",
    "\n",
    "*Замечание.* Результат сильно зависит от сайта, железа и прочих характеристик. По идее должно получится неплохое приближение чем-то из того, что вам известно. Но если ничего не получится, то просто оставьте и прокомментируйте ваши попытки разобраться."
   ]
  },
  {
   "cell_type": "code",
   "execution_count": null,
   "metadata": {},
   "outputs": [],
   "source": [
    "..."
   ]
  },
  {
   "cell_type": "markdown",
   "metadata": {},
   "source": [
    "**Выводы:** <...>"
   ]
  }
 ],
 "metadata": {
  "colab": {
   "collapsed_sections": [],
   "name": "stats.ipynb",
   "provenance": [],
   "version": "0.3.2"
  },
  "kernelspec": {
   "display_name": "Python 3",
   "language": "python",
   "name": "python3"
  },
  "language_info": {
   "codemirror_mode": {
    "name": "ipython",
    "version": 3
   },
   "file_extension": ".py",
   "mimetype": "text/x-python",
   "name": "python",
   "nbconvert_exporter": "python",
   "pygments_lexer": "ipython3",
   "version": "3.8.8"
  }
 },
 "nbformat": 4,
 "nbformat_minor": 4
}
